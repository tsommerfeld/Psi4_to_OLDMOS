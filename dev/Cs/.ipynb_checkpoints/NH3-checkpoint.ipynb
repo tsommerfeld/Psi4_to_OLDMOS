{
 "cells": [
  {
   "cell_type": "code",
   "execution_count": 1,
   "id": "d7ecbca4-8ad3-487a-a558-989e384a9bcd",
   "metadata": {},
   "outputs": [],
   "source": [
    "import os\n",
    "import sys\n",
    "curr_dir=os.getcwd()\n",
    "p=curr_dir.find('dev')\n",
    "root=curr_dir[:p]\n",
    "sys.path.append(root+'lib')\n",
    "import psi4\n",
    "import numpy as np\n",
    "from P4toC4_aux import *\n",
    "from SO_aux import SymOrbs"
   ]
  },
  {
   "cell_type": "code",
   "execution_count": 2,
   "id": "1ac7ace9-77d2-42e9-95c9-6307dcc99058",
   "metadata": {},
   "outputs": [],
   "source": [
    "#BASIS='STO-3G'\n",
    "#BASIS='def2-SV'\n",
    "BASIS='CC-PVDZ'"
   ]
  },
  {
   "cell_type": "code",
   "execution_count": 3,
   "id": "d519c289-1467-45fb-b88b-83a64940d014",
   "metadata": {},
   "outputs": [
    {
     "data": {
      "text/plain": [
       "-56.194987542460474"
      ]
     },
     "execution_count": 3,
     "metadata": {},
     "output_type": "execute_result"
    }
   ],
   "source": [
    "psi4.set_memory('500 MB')\n",
    "psi4.core.set_global_option(\"BASIS\", BASIS)\n",
    "psi4.core.set_global_option(\"SCF_TYPE\", \"pk\")\n",
    "psi4.core.set_global_option(\"REFERENCE\", \"RHF\")\n",
    "psi4.core.set_global_option(\"D_CONVERGENCE\", 1e-8)\n",
    "psi4.core.set_global_option(\"PUREAM\", \"True\")\n",
    "psi4.core.set_output_file('output.dat', False)\n",
    "\n",
    "mol = psi4.geometry(\"\"\"\n",
    "0 1\n",
    "N    0.00000000     0.12321896     0.00000000\n",
    "H    1.79828758    -0.57068247     0.00000000\n",
    "H   -0.89914379    -0.57068247     1.55736273\n",
    "H   -0.89914379    -0.57068247    -1.55736273\n",
    "\n",
    "no_reorient\n",
    "units Bohr\n",
    "\"\"\")\n",
    "\n",
    "E, wf = psi4.energy('scf', return_wfn=True)\n",
    "E"
   ]
  },
  {
   "cell_type": "code",
   "execution_count": 4,
   "id": "258fdbe7-1e8d-4c14-b887-157d30d96626",
   "metadata": {},
   "outputs": [
    {
     "name": "stdout",
     "output_type": "stream",
     "text": [
      "[ 0  1  2  7  3  5  8  4  6  9 11 13 12 10 14 15 18 16 17 19 20 23 21 22\n",
      " 24 25 28 26 27]\n",
      "[1.    1.    1.    1.    1.    1.    1.    1.    1.    3.464 1.    1.\n",
      " 2.    1.    1.    1.    1.    1.    1.    1.    1.    1.    1.    1.\n",
      " 1.    1.    1.    1.    1.   ]\n"
     ]
    }
   ],
   "source": [
    "basisset=wf.basisset()\n",
    "#\n",
    "#  C4_MO[p2c[i]] = P4_MO[i]     P4_MO[c2p[i]] = C4_MO[i]\n",
    "#\n",
    "p2c_map, p2c_scale = basis_mapping(basisset, verbose=0)\n",
    "print(p2c_map)\n",
    "print(np.round(p2c_scale,3))\n",
    "naos=len(p2c_map)\n",
    "c2p_map=np.zeros(naos, int)\n",
    "#c2p_scale=np.zeros(naos)\n",
    "for i in range(naos):\n",
    "    c2p_map[p2c_map[i]] = i   \n",
    "#c2p_map\n",
    "# Print a new basis set in GENBAS format\n",
    "#print(basisset.genbas())"
   ]
  },
  {
   "cell_type": "code",
   "execution_count": 5,
   "id": "de448687-341f-42ab-87d3-8268f0dbc90d",
   "metadata": {
    "jupyter": {
     "source_hidden": true
    },
    "tags": []
   },
   "outputs": [
    {
     "name": "stdout",
     "output_type": "stream",
     "text": [
      "cs: order = 2\n",
      "MOs per irrep (19, 10)\n"
     ]
    }
   ],
   "source": [
    "mol=wf.molecule()\n",
    "ptgr=mol.point_group()\n",
    "print(f'{ptgr.symbol()}: order = {ptgr.order()}')\n",
    "n_irrep=wf.nirrep()\n",
    "g=wf.nmopi()\n",
    "n_mo_pi=g.to_tuple()\n",
    "print('MOs per irrep', n_mo_pi)"
   ]
  },
  {
   "cell_type": "code",
   "execution_count": 6,
   "id": "d71c0b15-0d05-4f83-83d2-e7b8d69745ff",
   "metadata": {
    "jupyter": {
     "source_hidden": true
    },
    "tags": []
   },
   "outputs": [
    {
     "name": "stdout",
     "output_type": "stream",
     "text": [
      "((29, 19), (29, 10))\n"
     ]
    },
    {
     "data": {
      "text/plain": [
       "((19, 19), (10, 10))"
      ]
     },
     "execution_count": 6,
     "metadata": {},
     "output_type": "execute_result"
    }
   ],
   "source": [
    "Ls=wf.aotoso()\n",
    "print(Ls.shape)\n",
    "# Psi4 MOs in SO basis\n",
    "C_SO=wf.Ca()\n",
    "#Cb=np.array(wf.Cb())\n",
    "C_SO.shape"
   ]
  },
  {
   "cell_type": "code",
   "execution_count": 16,
   "id": "638b52aa-0693-4eae-ade2-6d56c3c8dac4",
   "metadata": {
    "tags": []
   },
   "outputs": [
    {
     "name": "stdout",
     "output_type": "stream",
     "text": [
      "\n",
      "Symmetry 0\n",
      "Psi4  AO-order: [ 0  1  2  4  5  7  8  9 12 13 14 15 17 18 19 20 21 22 23]\n",
      "AO scale      : [1.    1.    1.    1.    1.    1.    1.    3.464 2.    1.    1.    1.\n",
      " 1.    1.    1.    1.    1.    1.    1.   ]\n",
      "Cfour AO-order: [ 0  1  2  3  5  4  6  9 12 10 14 15 16 17 19 20 23 21 22]\n",
      "Cfour argsorted [ 0  1  2  3  5  4  6  7  9  8 10 11 12 13 14 15 17 18 16]\n",
      "And inverted    [ 0  1  2  3  5  4  6  7  9  8 10 11 12 13 14 15 18 16 17]\n",
      "scale [1.    1.    1.    1.    1.    1.    1.    3.464 2.    1.    1.    1.\n",
      " 1.    1.    1.414 1.414 1.414 1.414 1.414]\n",
      "\n",
      "Symmetry 1\n",
      "Psi4  AO-order: [ 3  6 10 11 16 19 20 21 22 23]\n",
      "AO scale      : [1. 1. 1. 1. 1. 1. 1. 1. 1. 1.]\n",
      "Cfour AO-order: [ 7  8 11 13 18 19 20 23 21 22]\n",
      "Cfour argsorted [0 1 2 3 4 5 6 8 9 7]\n",
      "And inverted    [0 1 2 3 4 5 6 9 7 8]\n",
      "scale [1.    1.    1.    1.    1.    1.414 1.414 1.414 1.414 1.414]\n"
     ]
    },
    {
     "data": {
      "text/plain": [
       "((19, 19), (10, 10))"
      ]
     },
     "execution_count": 16,
     "metadata": {},
     "output_type": "execute_result"
    }
   ],
   "source": [
    "irrep_lst = []\n",
    "\n",
    "for isym in range(ptgr.order()):\n",
    "    print(f'\\nSymmetry {isym}')\n",
    "    SOs=SymOrbs(Ls.nph[isym], order=wf.nirrep())\n",
    "    #SOs.print()\n",
    "    print('Psi4  AO-order:', SOs.first_AOs())\n",
    "    cfour_first_AOs = p2c_map[SOs.first_AOs()]\n",
    "    ao_scale = p2c_scale[SOs.first_AOs()]\n",
    "    print('AO scale      :', np.round(ao_scale,3))\n",
    "    print('Cfour AO-order:', cfour_first_AOs)\n",
    "    so_c2p = np.argsort(cfour_first_AOs)\n",
    "    print('Cfour argsorted', so_c2p)\n",
    "    nsos=len(so_c2p)\n",
    "    so_p2c=np.zeros(nsos, int)\n",
    "    for i in range(nsos):\n",
    "        so_p2c[so_c2p[i]] = i\n",
    "    print('And inverted   ', so_p2c)\n",
    "    so_scale=SOs.inv_coef()\n",
    "    scale = so_scale*ao_scale\n",
    "    print('scale', np.round(scale,3))\n",
    "    C=psi4_to_c4(C_SO.nph[isym], so_p2c, scale, use_scale=True)\n",
    "    irrep_lst.append(C)\n",
    "    \n",
    "C_SOr = psi4.core.Matrix.from_array(irrep_lst)\n",
    "C_SOr.shape"
   ]
  },
  {
   "cell_type": "code",
   "execution_count": 12,
   "id": "2f77097c-bf24-4f6f-8f12-7bcb3defac12",
   "metadata": {},
   "outputs": [
    {
     "name": "stdout",
     "output_type": "stream",
     "text": [
      "reading orbitals from OLDMOS.CC-PVDZ\n"
     ]
    }
   ],
   "source": [
    "C4_cs = read_oldmos('OLDMOS.'+BASIS, n_mo_pi)"
   ]
  },
  {
   "cell_type": "code",
   "execution_count": 17,
   "id": "293b837a-50c3-4c00-99e6-1dd8a4cbd905",
   "metadata": {},
   "outputs": [
    {
     "name": "stdout",
     "output_type": "stream",
     "text": [
      "          Psi4    reordered    Cfour\n",
      "  0    0.000557   0.000557   0.000557\n",
      "  1    0.135227   0.135227   0.135227\n",
      "  2    0.285136   0.285136   0.285136\n",
      "  3    0.000000   0.000000   0.000000\n",
      "  4    0.546099   0.000000   0.000000\n",
      "  5    0.000000   0.546099   0.546099\n",
      "  6    0.469090   0.469090   0.469090\n",
      "  7    0.009419   0.002719   0.002719\n",
      "  8    0.016314   0.000000   0.000000\n",
      "  9    0.000000   0.008157   0.008157\n",
      " 10   -0.091120  -0.091120  -0.091120\n",
      " 11   -0.033749  -0.033749  -0.033749\n",
      " 12    0.012583   0.012583   0.012583\n",
      " 13    0.018589   0.018589   0.018589\n",
      " 14   -0.128864  -0.091120  -0.091120\n",
      " 15   -0.047728  -0.033749  -0.033749\n",
      " 16    0.015411  -0.006292  -0.006292\n",
      " 17   -0.008898   0.018589   0.018589\n",
      " 18    0.026289   0.010897   0.010897\n",
      "1.0713370135473355e-08\n"
     ]
    }
   ],
   "source": [
    "sym=0\n",
    "Corg=C_SO.nph[sym]\n",
    "Creo=C_SOr.nph[sym]\n",
    "Cc4=C4_cs[sym]\n",
    "naos=n_mo_pi[sym]\n",
    "mo=3\n",
    "print('          Psi4    reordered    Cfour')\n",
    "for k in range(naos):\n",
    "    print(f'{k:3d}  {Corg[k,mo]:10.6f} {Creo[k,mo]:10.6f} {Cc4[k,mo]:10.6f}')\n",
    "print(np.max(Creo[:,mo]-Cc4[:,mo]))"
   ]
  },
  {
   "cell_type": "code",
   "execution_count": 19,
   "id": "9715580e-3944-4325-a2da-719441347ec6",
   "metadata": {},
   "outputs": [
    {
     "name": "stdout",
     "output_type": "stream",
     "text": [
      "1.0713370135473355e-08\n",
      "7.79428599440024e-09\n"
     ]
    }
   ],
   "source": [
    "#\n",
    "#  comparison Psi4-MOs and Cfour-MOs in their SO representation\n",
    "#\n",
    "for i in range(wf.nirrep()):\n",
    "    print(np.max(abs(C_SOr.nph[i])-abs(C4_cs[i])))"
   ]
  },
  {
   "cell_type": "markdown",
   "id": "8e2cdf94-2b52-4a77-b4fa-f6edae78ad5c",
   "metadata": {},
   "source": [
    "### Get symmetry ordered MOs in AO basis "
   ]
  },
  {
   "cell_type": "code",
   "execution_count": null,
   "id": "25e28a69-2891-4471-85e8-9c97ea407e80",
   "metadata": {},
   "outputs": [],
   "source": []
  },
  {
   "cell_type": "code",
   "execution_count": 24,
   "id": "f67178f4-0cc8-4689-bb2b-e73a6b401313",
   "metadata": {},
   "outputs": [],
   "source": [
    "Ca_C4 = psi4_to_c4(Ca, mapping, scale)\n",
    "Cb_C4 = psi4_to_c4(Cb, mapping, scale)"
   ]
  },
  {
   "cell_type": "code",
   "execution_count": 25,
   "id": "3d050627-38ea-48bf-866a-c40380460f32",
   "metadata": {},
   "outputs": [],
   "source": [
    "#\n",
    "#  Write_oldmos needs an append option so it can be called for each irrep\n",
    "#\n",
    "#  Let's worry about UHF with symmetry later.\n",
    "#\n",
    "#\n",
    "write_oldmos('PSIMOS', Ca_C4, Cbs=Cb_C4)"
   ]
  },
  {
   "cell_type": "code",
   "execution_count": null,
   "id": "db1567d6-2ccd-4507-afea-4e3ce7a7cda5",
   "metadata": {},
   "outputs": [],
   "source": []
  }
 ],
 "metadata": {
  "kernelspec": {
   "display_name": "Python 3",
   "language": "python",
   "name": "python3"
  },
  "language_info": {
   "codemirror_mode": {
    "name": "ipython",
    "version": 3
   },
   "file_extension": ".py",
   "mimetype": "text/x-python",
   "name": "python",
   "nbconvert_exporter": "python",
   "pygments_lexer": "ipython3",
   "version": "3.7.11"
  }
 },
 "nbformat": 4,
 "nbformat_minor": 5
}
