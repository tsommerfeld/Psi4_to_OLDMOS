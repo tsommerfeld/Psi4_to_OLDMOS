{
 "cells": [
  {
   "cell_type": "code",
   "execution_count": 1,
   "id": "d7ecbca4-8ad3-487a-a558-989e384a9bcd",
   "metadata": {},
   "outputs": [],
   "source": [
    "import os\n",
    "import sys\n",
    "curr_dir=os.getcwd()\n",
    "p=curr_dir.find('dev')\n",
    "root=curr_dir[:p]\n",
    "sys.path.append(root+'lib')\n",
    "import psi4\n",
    "import numpy as np\n",
    "from P4toC4_aux import *\n",
    "from SO_aux import SymOrbs"
   ]
  },
  {
   "cell_type": "code",
   "execution_count": 2,
   "id": "1ac7ace9-77d2-42e9-95c9-6307dcc99058",
   "metadata": {},
   "outputs": [],
   "source": [
    "#BASIS='STO-3G'\n",
    "#BASIS='def2-SV'\n",
    "BASIS='CC-PVDZ'"
   ]
  },
  {
   "cell_type": "code",
   "execution_count": 3,
   "id": "d519c289-1467-45fb-b88b-83a64940d014",
   "metadata": {},
   "outputs": [
    {
     "data": {
      "text/plain": [
       "-75.63291276161242"
      ]
     },
     "execution_count": 3,
     "metadata": {},
     "output_type": "execute_result"
    }
   ],
   "source": [
    "psi4.set_memory('500 MB')\n",
    "psi4.core.set_global_option(\"BASIS\", BASIS)\n",
    "psi4.core.set_global_option(\"SCF_TYPE\", \"pk\")\n",
    "psi4.core.set_global_option(\"REFERENCE\", \"UHF\")\n",
    "psi4.core.set_global_option(\"D_CONVERGENCE\", 1e-8)\n",
    "psi4.core.set_global_option(\"PUREAM\", \"True\")\n",
    "psi4.core.set_output_file('output.dat', False)\n",
    "\n",
    "# O\n",
    "# H 1 0.96\n",
    "# H 1 0.96 2 104.5\n",
    "\n",
    "h2o = psi4.geometry(\"\"\"\n",
    "1 2\n",
    "O           -0.005580556816     0.124770196240     0.000000000000\n",
    "H           -1.409609476816    -1.024054213760     0.000000000000\n",
    "H            1.498176963184    -0.956139343760     0.000000000000\n",
    "units Bohr\n",
    "no_reorient\n",
    "symmetry cs\n",
    "\"\"\")\n",
    "\n",
    "E, wf = psi4.energy('scf', return_wfn=True)\n",
    "E"
   ]
  },
  {
   "cell_type": "code",
   "execution_count": 4,
   "id": "258fdbe7-1e8d-4c14-b887-157d30d96626",
   "metadata": {},
   "outputs": [],
   "source": [
    "basisset=wf.basisset()\n",
    "#\n",
    "#  C4_MO[p2c[i]] = P4_MO[i]     P4_MO[c2p[i]] = C4_MO[i]\n",
    "#\n",
    "p2c_map, p2c_scale = basis_mapping(basisset, verbose=0)\n",
    "c2p_map = invert_mapping(p2c_map)\n",
    "# Print a new basis set in GENBAS format\n",
    "#print(basisset.genbas())"
   ]
  },
  {
   "cell_type": "code",
   "execution_count": 5,
   "id": "de448687-341f-42ab-87d3-8268f0dbc90d",
   "metadata": {},
   "outputs": [
    {
     "name": "stdout",
     "output_type": "stream",
     "text": [
      "cs: order = 2\n",
      "MOs per irrep (18, 6)\n"
     ]
    }
   ],
   "source": [
    "mol=wf.molecule()\n",
    "ptgr=mol.point_group()\n",
    "print(f'{ptgr.symbol()}: order = {ptgr.order()}')\n",
    "n_irrep=wf.nirrep()\n",
    "g=wf.nmopi()\n",
    "n_mo_pi=g.to_tuple()\n",
    "print('MOs per irrep', n_mo_pi)"
   ]
  },
  {
   "cell_type": "code",
   "execution_count": 6,
   "id": "d71c0b15-0d05-4f83-83d2-e7b8d69745ff",
   "metadata": {},
   "outputs": [
    {
     "name": "stdout",
     "output_type": "stream",
     "text": [
      "((24, 18), (24, 6))\n"
     ]
    },
    {
     "data": {
      "text/plain": [
       "((18, 18), (6, 6))"
      ]
     },
     "execution_count": 6,
     "metadata": {},
     "output_type": "execute_result"
    }
   ],
   "source": [
    "Ls=wf.aotoso()\n",
    "print(Ls.shape)\n",
    "# Psi4 MOs in SO basis\n",
    "C_SO=wf.Ca()\n",
    "#Cb=np.array(wf.Cb())\n",
    "C_SO.shape"
   ]
  },
  {
   "cell_type": "code",
   "execution_count": 7,
   "id": "638b52aa-0693-4eae-ade2-6d56c3c8dac4",
   "metadata": {},
   "outputs": [
    {
     "name": "stdout",
     "output_type": "stream",
     "text": [
      "\n",
      "Irrep 0\n",
      "AO-order  AO-order   Cfour    argsort    AO     SO\n",
      "  Psi4     Cfour    argsort   inverted  scale  scale\n",
      "   0        0          0         0      1.000  1.000\n",
      "   1        1          1         1      1.000  1.000\n",
      "   2        2          2         2      1.000  1.000\n",
      "   4        3          3         3      1.000  1.000\n",
      "   5        5          5         5      1.000  1.000\n",
      "   7        4          4         4      1.000  1.000\n",
      "   8        6          6         6      1.000  1.000\n",
      "   9        9          7         7      3.464  1.000\n",
      "  12       12          9         9      2.000  1.000\n",
      "  13       10          8         8      1.000  1.000\n",
      "  14       14         10        10      1.000  1.000\n",
      "  15       15         11        11      1.000  1.000\n",
      "  17       16         12        12      1.000  1.000\n",
      "  18       17         13        13      1.000  1.000\n",
      "  19       19         14        14      1.000  1.000\n",
      "  20       20         15        15      1.000  1.000\n",
      "  22       21         16        16      1.000  1.000\n",
      "  23       22         17        17      1.000  1.000\n",
      "\n",
      "Irrep 1\n",
      "AO-order  AO-order   Cfour    argsort    AO     SO\n",
      "  Psi4     Cfour    argsort   inverted  scale  scale\n",
      "   3        7          0         0      1.000  1.000\n",
      "   6        8          1         1      1.000  1.000\n",
      "  10       11          2         2      1.000  1.000\n",
      "  11       13          3         3      1.000  1.000\n",
      "  16       18          4         4      1.000  1.000\n",
      "  21       23          5         5      1.000  1.000\n"
     ]
    },
    {
     "data": {
      "text/plain": [
       "((18, 18), (6, 6))"
      ]
     },
     "execution_count": 7,
     "metadata": {},
     "output_type": "execute_result"
    }
   ],
   "source": [
    "irrep_lst = []\n",
    "\n",
    "for isym in range(ptgr.order()):\n",
    "    SOs=SymOrbs(Ls.nph[isym], order=wf.nirrep())\n",
    "    #SOs.print()\n",
    "    p4_first_AOs = SOs.first_AOs()\n",
    "    cfour_first_AOs = p2c_map[SOs.first_AOs()]\n",
    "    ao_scale = p2c_scale[SOs.first_AOs()]\n",
    "    so_c2p = np.argsort(cfour_first_AOs)\n",
    "    nsos=len(so_c2p)\n",
    "    so_p2c = invert_mapping(so_c2p)\n",
    "    so_scale=SOs.inv_coef()\n",
    "    scale = so_scale*ao_scale\n",
    "    C=psi4_to_c4(C_SO.nph[isym], so_p2c, scale)\n",
    "    irrep_lst.append(C)\n",
    "    print(f'\\nIrrep {isym}')\n",
    "    print('AO-order  AO-order   Cfour    argsort    AO     SO')\n",
    "    print('  Psi4     Cfour    argsort   inverted  scale  scale')\n",
    "    for i in range(SOs.nsos):\n",
    "        print(f'{p4_first_AOs[i]:4d}{cfour_first_AOs[i]:9d}', end='')\n",
    "        print(f'{so_c2p[i]:11d}{so_p2c[i]:10d}', end='')\n",
    "        print(f'{ao_scale[i]:11.3f}{so_scale[i]:7.3f}')\n",
    "    \n",
    "C_SOr = psi4.core.Matrix.from_array(irrep_lst)\n",
    "C_SOr.shape"
   ]
  },
  {
   "cell_type": "code",
   "execution_count": 9,
   "id": "2f77097c-bf24-4f6f-8f12-7bcb3defac12",
   "metadata": {},
   "outputs": [],
   "source": [
    "C4_cs = read_oldmos('../../Cfour/SYM/Cs/OLDMOS.Cs_'+BASIS, n_mo_pi)"
   ]
  },
  {
   "cell_type": "code",
   "execution_count": 17,
   "id": "293b837a-50c3-4c00-99e6-1dd8a4cbd905",
   "metadata": {},
   "outputs": [
    {
     "name": "stdout",
     "output_type": "stream",
     "text": [
      "          Psi4    reordered    Cfour\n",
      "  0    0.279856   0.279856   0.279856\n",
      "  1    0.556551   0.556551   0.556551\n",
      "  2    0.359496   0.359496   0.359496\n",
      "  3   -0.001544  -0.001544  -0.001544\n",
      "  4   -0.112167   0.001881   0.001881\n",
      "  5    0.001881  -0.112167  -0.112167\n",
      "  6   -0.037292  -0.037292  -0.037292\n",
      "  7    0.174814   0.174814   0.174814\n",
      "  8   -0.014664  -0.014664  -0.014664\n",
      "  9    0.164882   0.164882   0.164882\n",
      " 10   -0.013416  -0.013416  -0.013416\n",
      "1.3117603087087204e-08\n"
     ]
    }
   ],
   "source": [
    "sym=0\n",
    "Corg=C_SO.nph[sym]\n",
    "Creo=C_SOr.nph[sym]\n",
    "Cc4=C4_cs[sym]\n",
    "naos=n_mo_pi[sym]\n",
    "mo=1\n",
    "print('          Psi4    reordered    Cfour')\n",
    "for k in range(naos):\n",
    "    print(f'{k:3d}  {Corg[k,mo]:10.6f} {Creo[k,mo]:10.6f} {Cc4[k,mo]:10.6f}')\n",
    "print(np.max(Creo[:,mo]-Cc4[:,mo]))"
   ]
  },
  {
   "cell_type": "code",
   "execution_count": 18,
   "id": "9715580e-3944-4325-a2da-719441347ec6",
   "metadata": {},
   "outputs": [
    {
     "name": "stdout",
     "output_type": "stream",
     "text": [
      "6.568563749587142e-07\n",
      "7.175229010947248e-08\n"
     ]
    }
   ],
   "source": [
    "#\n",
    "#  comparison Psi4-MOs and Cfour-MOs in their SO representation\n",
    "#\n",
    "for i in range(wf.nirrep()):\n",
    "    print(np.max(abs(C_SOr.nph[i])-abs(C4_cs[i])))"
   ]
  },
  {
   "cell_type": "code",
   "execution_count": null,
   "id": "fd4d6b40-898f-40d9-a02f-104e62fa526c",
   "metadata": {},
   "outputs": [],
   "source": []
  },
  {
   "cell_type": "code",
   "execution_count": null,
   "id": "25e28a69-2891-4471-85e8-9c97ea407e80",
   "metadata": {},
   "outputs": [],
   "source": []
  },
  {
   "cell_type": "code",
   "execution_count": 25,
   "id": "3d050627-38ea-48bf-866a-c40380460f32",
   "metadata": {},
   "outputs": [],
   "source": [
    "write_oldmos('PSIMOS', Ca_C4, Cbs=Cb_C4)"
   ]
  },
  {
   "cell_type": "code",
   "execution_count": null,
   "id": "db1567d6-2ccd-4507-afea-4e3ce7a7cda5",
   "metadata": {},
   "outputs": [],
   "source": []
  }
 ],
 "metadata": {
  "kernelspec": {
   "display_name": "Python 3",
   "language": "python",
   "name": "python3"
  },
  "language_info": {
   "codemirror_mode": {
    "name": "ipython",
    "version": 3
   },
   "file_extension": ".py",
   "mimetype": "text/x-python",
   "name": "python",
   "nbconvert_exporter": "python",
   "pygments_lexer": "ipython3",
   "version": "3.7.11"
  }
 },
 "nbformat": 4,
 "nbformat_minor": 5
}
