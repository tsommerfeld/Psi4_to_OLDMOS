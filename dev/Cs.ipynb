{
 "cells": [
  {
   "cell_type": "code",
   "execution_count": 1,
   "id": "d7ecbca4-8ad3-487a-a558-989e384a9bcd",
   "metadata": {},
   "outputs": [],
   "source": [
    "import psi4\n",
    "import numpy as np\n",
    "import sys\n",
    "sys.path.append('../lib')\n",
    "from P4toC4_aux import *\n",
    "from SO_aux import SymOrbs"
   ]
  },
  {
   "cell_type": "code",
   "execution_count": 2,
   "id": "1ac7ace9-77d2-42e9-95c9-6307dcc99058",
   "metadata": {},
   "outputs": [],
   "source": [
    "#BASIS='STO-3G'\n",
    "BASIS='def2-SVP'\n",
    "#BASIS='CC-PVDZ'"
   ]
  },
  {
   "cell_type": "code",
   "execution_count": 3,
   "id": "d519c289-1467-45fb-b88b-83a64940d014",
   "metadata": {},
   "outputs": [
    {
     "data": {
      "text/plain": [
       "-6.6393832862296485"
      ]
     },
     "execution_count": 3,
     "metadata": {},
     "output_type": "execute_result"
    }
   ],
   "source": [
    "psi4.set_memory('500 MB')\n",
    "psi4.core.set_global_option(\"BASIS\", BASIS)\n",
    "psi4.core.set_global_option(\"SCF_TYPE\", \"pk\")\n",
    "psi4.core.set_global_option(\"REFERENCE\", \"RHF\")\n",
    "psi4.core.set_global_option(\"D_CONVERGENCE\", 1e-8)\n",
    "psi4.core.set_global_option(\"PUREAM\", \"True\")\n",
    "psi4.core.set_output_file('output.dat', False)\n",
    "\n",
    "mol = psi4.geometry(\"\"\"\n",
    "0 1\n",
    "H        -1.14356293    -1.24134665     0.75589061\n",
    "H        -1.14356293    -1.24134665    -0.75589061\n",
    "HE       -1.81408822     0.52541937     0.00000000\n",
    "HE        2.38996911     0.09970391     0.00000000\n",
    "units Bohr\n",
    "no_reorient\n",
    "\"\"\")\n",
    "\n",
    "E, wf = psi4.energy('scf', return_wfn=True)\n",
    "E"
   ]
  },
  {
   "cell_type": "code",
   "execution_count": 5,
   "id": "71db1ed8-b80e-430e-9e50-2d33426badf4",
   "metadata": {},
   "outputs": [],
   "source": [
    "# Print a new basis set in GENBAS format\n",
    "basisset=wf.basisset()\n",
    "#print(basisset.genbas())"
   ]
  },
  {
   "cell_type": "code",
   "execution_count": 6,
   "id": "e93d39c6-5906-4b0f-9f95-790fd54fc3b1",
   "metadata": {},
   "outputs": [
    {
     "name": "stdout",
     "output_type": "stream",
     "text": [
      "cs: order = 2\n",
      "MOs per irrep (13, 7)\n"
     ]
    }
   ],
   "source": [
    "mol=wf.molecule()\n",
    "ptgr=mol.point_group()\n",
    "print(f'{ptgr.symbol()}: order = {ptgr.order()}')\n",
    "n_irrep=wf.nirrep()\n",
    "g=wf.nmopi()\n",
    "n_mo_pi=g.to_tuple()\n",
    "print('MOs per irrep', n_mo_pi)"
   ]
  },
  {
   "cell_type": "code",
   "execution_count": 7,
   "id": "d71c0b15-0d05-4f83-83d2-e7b8d69745ff",
   "metadata": {},
   "outputs": [
    {
     "data": {
      "text/plain": [
       "((13, 13), (7, 7))"
      ]
     },
     "execution_count": 7,
     "metadata": {},
     "output_type": "execute_result"
    }
   ],
   "source": [
    "# Psi4 MOs in SO basis\n",
    "Ca=wf.Ca()\n",
    "#Cb=np.array(wf.Cb())\n",
    "Ca.shape"
   ]
  },
  {
   "cell_type": "code",
   "execution_count": 8,
   "id": "2f77097c-bf24-4f6f-8f12-7bcb3defac12",
   "metadata": {},
   "outputs": [
    {
     "name": "stdout",
     "output_type": "stream",
     "text": [
      "reading orbitals from ../Cfour/SYM/Cs/OLDMOS.def2-SVP\n"
     ]
    }
   ],
   "source": [
    "#BASIS='PVDZ'\n",
    "C4_cs = read_oldmos('../Cfour/SYM/Cs/OLDMOS.'+BASIS, n_mo_pi)"
   ]
  },
  {
   "cell_type": "code",
   "execution_count": 10,
   "id": "293b837a-50c3-4c00-99e6-1dd8a4cbd905",
   "metadata": {},
   "outputs": [
    {
     "name": "stdout",
     "output_type": "stream",
     "text": [
      "          Psi4         Cfour\n",
      "  1    0.237326   0.167815\n",
      "  2    2.490836   1.761287\n",
      "  3   -0.005293  -0.003890\n",
      "  4   -0.005501   0.012260\n",
      "  5    0.017338  -0.003743\n",
      "  6    0.016914   0.016914\n",
      "  7    0.009296   0.009296\n"
     ]
    }
   ],
   "source": [
    "sym=1\n",
    "Cp=Ca.nph[sym]\n",
    "Cc=C4_cs[sym]\n",
    "naos=n_mo_pi[sym]\n",
    "mo=0\n",
    "print('          Psi4         Cfour')\n",
    "for k in range(naos):\n",
    "    print(f'{k+1:3d}  {Cp[k,mo]:10.6f} {Cc[k,mo]:10.6f}')"
   ]
  },
  {
   "cell_type": "code",
   "execution_count": 11,
   "id": "9715580e-3944-4325-a2da-719441347ec6",
   "metadata": {},
   "outputs": [
    {
     "name": "stdout",
     "output_type": "stream",
     "text": [
      "0.2409195646257175\n",
      "0.47564116458819083\n"
     ]
    }
   ],
   "source": [
    "#\n",
    "#  comparison Psi4-MOs and Cfour-MOs in their SO representation\n",
    "#\n",
    "for i in range(wf.nirrep()):\n",
    "    print(np.max(Ca.nph[i]-C4_cs[i]))"
   ]
  },
  {
   "cell_type": "markdown",
   "id": "8e2cdf94-2b52-4a77-b4fa-f6edae78ad5c",
   "metadata": {},
   "source": [
    "### Get symmetry ordered MOs in AO basis "
   ]
  },
  {
   "cell_type": "code",
   "execution_count": 11,
   "id": "970cc2b3-0cf7-4beb-aa01-a5b75b493559",
   "metadata": {},
   "outputs": [
    {
     "data": {
      "text/plain": [
       "((20, 13), (20, 7))"
      ]
     },
     "execution_count": 11,
     "metadata": {},
     "output_type": "execute_result"
    }
   ],
   "source": [
    "C_AO_pi=AO_MO_by_irrep(wf, verbose=0)\n",
    "C_AO_pi.shape"
   ]
  },
  {
   "cell_type": "code",
   "execution_count": null,
   "id": "5e82d535-6072-445c-9bb7-0c1380c60c22",
   "metadata": {},
   "outputs": [],
   "source": []
  },
  {
   "cell_type": "markdown",
   "id": "fb974e70-604e-4d69-8050-39f4ec65a681",
   "metadata": {},
   "source": [
    "### Transform to Cfour-SO basis "
   ]
  },
  {
   "cell_type": "code",
   "execution_count": 14,
   "id": "3988ad79-362a-450e-b8fe-1d5a7558ce03",
   "metadata": {},
   "outputs": [
    {
     "name": "stdout",
     "output_type": "stream",
     "text": [
      "((20, 13), (20, 7))\n"
     ]
    }
   ],
   "source": [
    "Ls=wf.aotoso()\n",
    "print(Ls.shape)"
   ]
  },
  {
   "cell_type": "code",
   "execution_count": 15,
   "id": "aeb28213-1d9a-4913-b1a5-729808fb9f3f",
   "metadata": {},
   "outputs": [
    {
     "name": "stdout",
     "output_type": "stream",
     "text": [
      "\n",
      "Symmetry 0\n",
      " 0   0.70711(  0)   0.70711(  5)\n",
      " 1   0.70711(  1)   0.70711(  6)\n",
      " 2   0.70711(  2)  -0.70711(  7)\n",
      " 3   0.70711(  3)   0.70711(  8)\n",
      " 4   0.70711(  4)   0.70711(  9)\n",
      " 5   1.00000( 10)\n",
      " 6   1.00000( 11)\n",
      " 7   1.00000( 13)\n",
      " 8   1.00000( 14)\n",
      " 9   1.00000( 15)\n",
      "10   1.00000( 16)\n",
      "11   1.00000( 18)\n",
      "12   1.00000( 19)\n",
      "\n",
      "Symmetry 1\n",
      " 0   0.70711(  0)  -0.70711(  5)\n",
      " 1   0.70711(  1)  -0.70711(  6)\n",
      " 2   0.70711(  2)   0.70711(  7)\n",
      " 3   0.70711(  3)  -0.70711(  8)\n",
      " 4   0.70711(  4)  -0.70711(  9)\n",
      " 5   1.00000( 12)\n",
      " 6   1.00000( 17)\n"
     ]
    }
   ],
   "source": [
    "for isym in range(ptgr.order()):\n",
    "    print(f'\\nSymmetry {isym}')\n",
    "    SOs=SymOrbs(Ls.nph[isym], order=ptgr.order())\n",
    "    SOs.print()"
   ]
  },
  {
   "cell_type": "code",
   "execution_count": 16,
   "id": "16378c26-5826-437d-9e3b-3f963df9a8c2",
   "metadata": {},
   "outputs": [
    {
     "data": {
      "text/plain": [
       "array([ 0,  1,  4,  2,  3,  5,  6,  9,  7,  8, 10, 11, 14, 12, 13, 15, 16,\n",
       "       19, 17, 18])"
      ]
     },
     "execution_count": 16,
     "metadata": {},
     "output_type": "execute_result"
    }
   ],
   "source": [
    "ao_map, scale = basis_mapping(wf.basisset(), verbose=0)\n",
    "ao_map"
   ]
  },
  {
   "cell_type": "code",
   "execution_count": 17,
   "id": "cf05877c-ee01-4524-8ccc-36559debb837",
   "metadata": {},
   "outputs": [
    {
     "name": "stdout",
     "output_type": "stream",
     "text": [
      "((3, 3), (1, 1)) ((3, 3), (1, 1))\n"
     ]
    }
   ],
   "source": [
    "basisset=wf.basisset()\n",
    "mapping, scale = basis_mapping(wf.basisset(), verbose=0)\n",
    "C_SO_pi0=AO_to_SO(C_AO_pi, wf)\n",
    "C_SO_pir=AO_to_Cfour_SO(C_AO_pi, wf, mapping, scale)\n",
    "print(C_SO_pir.shape,C_SO_pir.shape)"
   ]
  },
  {
   "cell_type": "code",
   "execution_count": 20,
   "id": "2676d3fa-ccd2-495f-9d29-b38f076ac7a4",
   "metadata": {},
   "outputs": [
    {
     "name": "stdout",
     "output_type": "stream",
     "text": [
      "        Psi4-org  Psi4-reord   Cfour\n",
      "  1      0.9656     0.0000     0.9656\n",
      "  2     -1.0351     0.0000    -1.0351\n"
     ]
    }
   ],
   "source": [
    "sym=1\n",
    "Cp0=C_SO_pi0.nph[sym]\n",
    "Cpr=C_SO_pir.nph[sym]\n",
    "Cc=C4_cs[sym]\n",
    "naos=n_mo_pi[sym]\n",
    "mo=1\n",
    "print('        Psi4-org  Psi4-reord   Cfour')\n",
    "for k in range(naos):\n",
    "    print(f'{k+1:3d}  {Cp0[k,mo]:10.4f} {Cpr[k,mo]:10.4f} {Cc[k,mo]:10.4f}')"
   ]
  },
  {
   "cell_type": "code",
   "execution_count": 19,
   "id": "1ad728cb-bb1a-4459-9c48-c9b8fb76f90b",
   "metadata": {},
   "outputs": [
    {
     "data": {
      "text/plain": [
       "array([[0., 0.],\n",
       "       [0., 0.]])"
      ]
     },
     "execution_count": 19,
     "metadata": {},
     "output_type": "execute_result"
    }
   ],
   "source": [
    "Cpr"
   ]
  },
  {
   "cell_type": "code",
   "execution_count": 21,
   "id": "1957b7b7-f7ab-47bf-b1ad-1f6d1f6e12be",
   "metadata": {},
   "outputs": [
    {
     "name": "stdout",
     "output_type": "stream",
     "text": [
      "0   delta= 1.593e+00\n",
      "1   delta= 6.965e-08\n"
     ]
    }
   ],
   "source": [
    "for sym in range(n_irrep):\n",
    "    d=np.max(C_SO_pi.nph[sym]-C4_cs[sym])\n",
    "    print(f'{sym}   delta={d:10.3e}')"
   ]
  },
  {
   "cell_type": "code",
   "execution_count": null,
   "id": "fd4d6b40-898f-40d9-a02f-104e62fa526c",
   "metadata": {},
   "outputs": [],
   "source": []
  },
  {
   "cell_type": "code",
   "execution_count": null,
   "id": "25e28a69-2891-4471-85e8-9c97ea407e80",
   "metadata": {},
   "outputs": [],
   "source": []
  },
  {
   "cell_type": "code",
   "execution_count": 24,
   "id": "f67178f4-0cc8-4689-bb2b-e73a6b401313",
   "metadata": {},
   "outputs": [],
   "source": [
    "Ca_C4 = psi4_to_c4(Ca, mapping, scale)\n",
    "Cb_C4 = psi4_to_c4(Cb, mapping, scale)"
   ]
  },
  {
   "cell_type": "code",
   "execution_count": 25,
   "id": "3d050627-38ea-48bf-866a-c40380460f32",
   "metadata": {},
   "outputs": [],
   "source": [
    "write_oldmos('PSIMOS', Ca_C4, Cbs=Cb_C4)"
   ]
  },
  {
   "cell_type": "code",
   "execution_count": null,
   "id": "db1567d6-2ccd-4507-afea-4e3ce7a7cda5",
   "metadata": {},
   "outputs": [],
   "source": []
  }
 ],
 "metadata": {
  "kernelspec": {
   "display_name": "Python 3",
   "language": "python",
   "name": "python3"
  },
  "language_info": {
   "codemirror_mode": {
    "name": "ipython",
    "version": 3
   },
   "file_extension": ".py",
   "mimetype": "text/x-python",
   "name": "python",
   "nbconvert_exporter": "python",
   "pygments_lexer": "ipython3",
   "version": "3.7.11"
  }
 },
 "nbformat": 4,
 "nbformat_minor": 5
}
