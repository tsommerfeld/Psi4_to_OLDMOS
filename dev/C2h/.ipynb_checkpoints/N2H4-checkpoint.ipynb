{
 "cells": [
  {
   "cell_type": "code",
   "execution_count": 1,
   "id": "d7ecbca4-8ad3-487a-a558-989e384a9bcd",
   "metadata": {},
   "outputs": [],
   "source": [
    "import os\n",
    "import sys\n",
    "curr_dir=os.getcwd()\n",
    "p=curr_dir.find('dev')\n",
    "root=curr_dir[:p]\n",
    "sys.path.append(root+'lib')\n",
    "import psi4\n",
    "import numpy as np\n",
    "from P4toC4_aux import *\n",
    "from SO_aux import SymOrbs"
   ]
  },
  {
   "cell_type": "code",
   "execution_count": 2,
   "id": "1ac7ace9-77d2-42e9-95c9-6307dcc99058",
   "metadata": {},
   "outputs": [],
   "source": [
    "#BASIS='STO-3G'\n",
    "#BASIS='def2-SV'\n",
    "BASIS='def2-SVP'\n",
    "#BASIS='CC-PVDZ'"
   ]
  },
  {
   "cell_type": "code",
   "execution_count": 3,
   "id": "d519c289-1467-45fb-b88b-83a64940d014",
   "metadata": {},
   "outputs": [
    {
     "data": {
      "text/plain": [
       "-14.0287447827385"
      ]
     },
     "execution_count": 3,
     "metadata": {},
     "output_type": "execute_result"
    }
   ],
   "source": [
    "psi4.set_memory('500 MB')\n",
    "psi4.core.set_global_option(\"BASIS\", BASIS)\n",
    "psi4.core.set_global_option(\"SCF_TYPE\", \"pk\")\n",
    "psi4.core.set_global_option(\"REFERENCE\", \"UHF\")\n",
    "psi4.core.set_global_option(\"D_CONVERGENCE\", 1e-8)\n",
    "psi4.core.set_global_option(\"PUREAM\", \"True\")\n",
    "psi4.core.set_output_file('output.dat', False)\n",
    "\n",
    "\n",
    "mol = psi4.geometry(\"\"\"\n",
    "0 1\n",
    "He   0.0   0.0   4.0\n",
    "He   1.0   2.0   0.0\n",
    "He  -1.0   2.0   0.0\n",
    "He   1.0  -2.0   0.0\n",
    "He  -1.0  -2.0   0.0\n",
    "\n",
    "units Bohr\n",
    "no_reorient\n",
    "\"\"\")\n",
    "\n",
    "E, wf = psi4.energy('scf', return_wfn=True)\n",
    "E"
   ]
  },
  {
   "cell_type": "code",
   "execution_count": 4,
   "id": "258fdbe7-1e8d-4c14-b887-157d30d96626",
   "metadata": {},
   "outputs": [],
   "source": [
    "basisset=wf.basisset()\n",
    "#\n",
    "#  C4_MO[p2c[i]] = P4_MO[i]     P4_MO[c2p[i]] = C4_MO[i]\n",
    "#\n",
    "p2c_map, p2c_scale = basis_mapping(basisset, verbose=0)\n",
    "#c2p_map = invert_mapping(p2c_map)\n",
    "# Print a new basis set in GENBAS format\n",
    "#print(basisset.genbas())"
   ]
  },
  {
   "cell_type": "code",
   "execution_count": 23,
   "id": "de448687-341f-42ab-87d3-8268f0dbc90d",
   "metadata": {},
   "outputs": [
    {
     "name": "stdout",
     "output_type": "stream",
     "text": [
      "c2v: order = 4\n",
      "MOs per irrep [8 5 6 6]\n"
     ]
    }
   ],
   "source": [
    "mol=wf.molecule()\n",
    "ptgr=mol.point_group()\n",
    "print(f'{ptgr.symbol()}: order = {ptgr.order()}')\n",
    "n_irrep=wf.nirrep()\n",
    "g=wf.nmopi()\n",
    "n_mo_pi=np.array(g.to_tuple())\n",
    "print('MOs per irrep', n_mo_pi)"
   ]
  },
  {
   "cell_type": "code",
   "execution_count": 48,
   "id": "539bc659-87e7-4e84-996f-7214751f9514",
   "metadata": {},
   "outputs": [
    {
     "data": {
      "text/plain": [
       "True"
      ]
     },
     "execution_count": 48,
     "metadata": {},
     "output_type": "execute_result"
    }
   ],
   "source": [
    "s=ptgr.symbol().lower()\n",
    "s == 'c2v'"
   ]
  },
  {
   "cell_type": "code",
   "execution_count": 12,
   "id": "d71c0b15-0d05-4f83-83d2-e7b8d69745ff",
   "metadata": {},
   "outputs": [
    {
     "name": "stdout",
     "output_type": "stream",
     "text": [
      "((25, 8), (25, 5), (25, 6), (25, 6))\n"
     ]
    },
    {
     "data": {
      "text/plain": [
       "((8, 8), (5, 5), (6, 6), (6, 6))"
      ]
     },
     "execution_count": 12,
     "metadata": {},
     "output_type": "execute_result"
    }
   ],
   "source": [
    "Ls=wf.aotoso()\n",
    "print(Ls.shape)\n",
    "# Psi4 MOs in SO basis\n",
    "C_SO=wf.Ca()\n",
    "#Cb=np.array(wf.Cb())\n",
    "C_SO.shape"
   ]
  },
  {
   "cell_type": "code",
   "execution_count": 13,
   "id": "638b52aa-0693-4eae-ade2-6d56c3c8dac4",
   "metadata": {},
   "outputs": [
    {
     "name": "stdout",
     "output_type": "stream",
     "text": [
      "\n",
      "Irrep 0\n",
      "AO-order  AO-order   Cfour    argsort    AO     SO\n",
      "  Psi4     Cfour    argsort   inverted  scale  scale\n",
      "   0        0          0         0      1.000  1.000\n",
      "   1        1          1         1      1.000  1.000\n",
      "   2        4          2         2      1.000  1.000\n",
      "   5        5          3         3      1.000  2.000\n",
      "   6        6          4         4      1.000  2.000\n",
      "   7        9          6         7      1.000  2.000\n",
      "   8        7          7         5      1.000  2.000\n",
      "   9        8          5         6      1.000  2.000\n",
      "\n",
      "Irrep 1\n",
      "AO-order  AO-order   Cfour    argsort    AO     SO\n",
      "  Psi4     Cfour    argsort   inverted  scale  scale\n",
      "   5        5          0         0      1.000  2.000\n",
      "   6        6          1         1      1.000  2.000\n",
      "   7        9          3         4      1.000  2.000\n",
      "   8        7          4         2      1.000  2.000\n",
      "   9        8          2         3      1.000  2.000\n",
      "\n",
      "Irrep 2\n",
      "AO-order  AO-order   Cfour    argsort    AO     SO\n",
      "  Psi4     Cfour    argsort   inverted  scale  scale\n",
      "   3        2          0         0      1.000  1.000\n",
      "   5        5          1         1      1.000  2.000\n",
      "   6        6          2         2      1.000  2.000\n",
      "   7        9          4         5      1.000  2.000\n",
      "   8        7          5         3      1.000  2.000\n",
      "   9        8          3         4      1.000  2.000\n",
      "\n",
      "Irrep 3\n",
      "AO-order  AO-order   Cfour    argsort    AO     SO\n",
      "  Psi4     Cfour    argsort   inverted  scale  scale\n",
      "   4        3          0         0      1.000  1.000\n",
      "   5        5          1         1      1.000  2.000\n",
      "   6        6          2         2      1.000  2.000\n",
      "   7        9          4         5      1.000  2.000\n",
      "   8        7          5         3      1.000  2.000\n",
      "   9        8          3         4      1.000  2.000\n"
     ]
    },
    {
     "data": {
      "text/plain": [
       "((8, 8), (5, 5), (6, 6), (6, 6))"
      ]
     },
     "execution_count": 13,
     "metadata": {},
     "output_type": "execute_result"
    }
   ],
   "source": [
    "irrep_lst = []\n",
    "\n",
    "for isym in range(ptgr.order()):\n",
    "    SOs=SymOrbs(Ls.nph[isym], order=wf.nirrep())\n",
    "    #SOs.print()\n",
    "    p4_first_AOs = SOs.first_AOs()\n",
    "    cfour_first_AOs = p2c_map[SOs.first_AOs()]\n",
    "    ao_scale = p2c_scale[SOs.first_AOs()]\n",
    "    so_c2p = np.argsort(cfour_first_AOs)\n",
    "    nsos=len(so_c2p)\n",
    "    so_p2c = invert_mapping(so_c2p)\n",
    "    so_scale=SOs.inv_coef()\n",
    "    scale = so_scale*ao_scale\n",
    "    C=psi4_to_c4(C_SO.nph[isym], so_p2c, scale)\n",
    "    irrep_lst.append(C)\n",
    "    print(f'\\nIrrep {isym}')\n",
    "    print('AO-order  AO-order   Cfour    argsort    AO     SO')\n",
    "    print('  Psi4     Cfour    argsort   inverted  scale  scale')\n",
    "    for i in range(SOs.nsos):\n",
    "        print(f'{p4_first_AOs[i]:4d}{cfour_first_AOs[i]:9d}', end='')\n",
    "        print(f'{so_c2p[i]:11d}{so_p2c[i]:10d}', end='')\n",
    "        print(f'{ao_scale[i]:11.3f}{so_scale[i]:7.3f}')\n",
    "    \n",
    "C_SOr = psi4.core.Matrix.from_array(irrep_lst)\n",
    "C_SOr.shape"
   ]
  },
  {
   "cell_type": "code",
   "execution_count": 42,
   "id": "2f77097c-bf24-4f6f-8f12-7bcb3defac12",
   "metadata": {},
   "outputs": [
    {
     "name": "stdout",
     "output_type": "stream",
     "text": [
      "[0 2 3 1]\n",
      "reading orbitals from OLDMOS.def2-SVP\n"
     ]
    }
   ],
   "source": [
    "p2c_irrep_map=np.array([0,2,3,1])\n",
    "c2p_irrep_map=invert_mapping(p2c_irrep_map)\n",
    "print(p2c_irrep_map)\n",
    "C4_cs = read_oldmos('OLDMOS.'+BASIS, n_mo_pi[p2c_irrep_map])"
   ]
  },
  {
   "cell_type": "code",
   "execution_count": 43,
   "id": "293b837a-50c3-4c00-99e6-1dd8a4cbd905",
   "metadata": {},
   "outputs": [
    {
     "name": "stdout",
     "output_type": "stream",
     "text": [
      "          Psi4    reordered    Cfour\n",
      "  0    1.138891   0.569446   0.569446\n",
      "  1   -1.856747  -0.928374  -0.928373\n",
      "  2   -0.000046   0.004808   0.004808\n",
      "  3    0.009616  -0.057915  -0.057915\n",
      "  4   -0.115829  -0.000023  -0.000023\n",
      "3.634947198273564e-08\n"
     ]
    }
   ],
   "source": [
    "cfour_sym=3\n",
    "psi4_sym=p2c_irrep_map[cfour_sym]\n",
    "Corg=C_SO.nph[psi4_sym]\n",
    "Creo=C_SOr.nph[psi4_sym]\n",
    "Cc4=C4_cs[cfour_sym]\n",
    "naos=n_mo_pi[psi4_sym]\n",
    "mo=1\n",
    "print('          Psi4    reordered    Cfour')\n",
    "for k in range(naos):\n",
    "    print(f'{k:3d}  {Corg[k,mo]:10.6f} {Creo[k,mo]:10.6f} {Cc4[k,mo]:10.6f}')\n",
    "print(np.max(Creo[:,mo]-Cc4[:,mo]))"
   ]
  },
  {
   "cell_type": "code",
   "execution_count": 44,
   "id": "9715580e-3944-4325-a2da-719441347ec6",
   "metadata": {},
   "outputs": [
    {
     "name": "stdout",
     "output_type": "stream",
     "text": [
      "3 0 (5, 5) (8, 8)\n",
      "6.649330858143898e-08\n",
      "3 2 (5, 5) (6, 6)\n",
      "2.0232109501638895e-08\n",
      "3 3 (5, 5) (6, 6)\n",
      "2.2977535352186607e-07\n",
      "3 1 (5, 5) (5, 5)\n",
      "6.108473282750992e-08\n"
     ]
    }
   ],
   "source": [
    "#\n",
    "#  comparison Psi4-MOs and Cfour-MOs in their SO representation\n",
    "#\n",
    "for cfour_irrep in range(wf.nirrep()):\n",
    "    psi4_irrep=p2c_irrep_map[cfour_irrep]\n",
    "    print(i, psi4_irrep, C4_cs[i].shape, C_SOr.nph[psi4_irrep].shape )\n",
    "    print(np.max(abs(C_SOr.nph[psi4_irrep])-abs(C4_cs[cfour_irrep])))"
   ]
  },
  {
   "cell_type": "code",
   "execution_count": null,
   "id": "fd4d6b40-898f-40d9-a02f-104e62fa526c",
   "metadata": {},
   "outputs": [],
   "source": []
  },
  {
   "cell_type": "code",
   "execution_count": null,
   "id": "25e28a69-2891-4471-85e8-9c97ea407e80",
   "metadata": {},
   "outputs": [],
   "source": []
  }
 ],
 "metadata": {
  "kernelspec": {
   "display_name": "Python 3",
   "language": "python",
   "name": "python3"
  },
  "language_info": {
   "codemirror_mode": {
    "name": "ipython",
    "version": 3
   },
   "file_extension": ".py",
   "mimetype": "text/x-python",
   "name": "python",
   "nbconvert_exporter": "python",
   "pygments_lexer": "ipython3",
   "version": "3.7.11"
  }
 },
 "nbformat": 4,
 "nbformat_minor": 5
}
