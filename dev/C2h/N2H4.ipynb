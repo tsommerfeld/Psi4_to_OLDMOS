{
 "cells": [
  {
   "cell_type": "code",
   "execution_count": 1,
   "id": "d7ecbca4-8ad3-487a-a558-989e384a9bcd",
   "metadata": {},
   "outputs": [],
   "source": [
    "import os\n",
    "import sys\n",
    "curr_dir=os.getcwd()\n",
    "p=curr_dir.find('dev')\n",
    "root=curr_dir[:p]\n",
    "sys.path.append(root+'lib')\n",
    "import psi4\n",
    "import numpy as np\n",
    "from P4toC4_aux import *\n",
    "from SO_aux import SymOrbs"
   ]
  },
  {
   "cell_type": "code",
   "execution_count": 2,
   "id": "1ac7ace9-77d2-42e9-95c9-6307dcc99058",
   "metadata": {},
   "outputs": [],
   "source": [
    "#BASIS='STO-3G'\n",
    "#BASIS='def2-SV'\n",
    "#BASIS='def2-SVP'\n",
    "BASIS='CC-PVDZ'"
   ]
  },
  {
   "cell_type": "code",
   "execution_count": 3,
   "id": "d519c289-1467-45fb-b88b-83a64940d014",
   "metadata": {},
   "outputs": [
    {
     "data": {
      "text/plain": [
       "-111.17726697487842"
      ]
     },
     "execution_count": 3,
     "metadata": {},
     "output_type": "execute_result"
    }
   ],
   "source": [
    "psi4.set_memory('500 MB')\n",
    "psi4.core.set_global_option(\"BASIS\", BASIS)\n",
    "psi4.core.set_global_option(\"SCF_TYPE\", \"pk\")\n",
    "psi4.core.set_global_option(\"REFERENCE\", \"RHF\")\n",
    "psi4.core.set_global_option(\"D_CONVERGENCE\", 1e-8)\n",
    "psi4.core.set_global_option(\"PUREAM\", \"True\")\n",
    "psi4.core.set_output_file('output.dat', False)\n",
    "\n",
    "\n",
    "mol = psi4.geometry(\"\"\"\n",
    "0 1\n",
    "N    0.16600540    -1.33139654    -0.00000000\n",
    "N   -0.16600540     1.33139654    -0.00000000\n",
    "H    0.73214469     2.09720536     1.54771041\n",
    "H    0.73214469     2.09720536    -1.54771041\n",
    "H   -0.73214469    -2.09720536    -1.54771041\n",
    "H   -0.73214469    -2.09720536     1.54771041\n",
    "\n",
    "units Bohr\n",
    "no_reorient\n",
    "\"\"\")\n",
    "\n",
    "E, wf = psi4.energy('scf', return_wfn=True)\n",
    "E"
   ]
  },
  {
   "cell_type": "code",
   "execution_count": 4,
   "id": "258fdbe7-1e8d-4c14-b887-157d30d96626",
   "metadata": {},
   "outputs": [],
   "source": [
    "basisset=wf.basisset()\n",
    "#\n",
    "#  C4_MO[p2c[i]] = P4_MO[i]     P4_MO[c2p[i]] = C4_MO[i]\n",
    "#\n",
    "p2c_map, p2c_scale = basis_mapping(basisset, verbose=0)\n",
    "#c2p_map = invert_mapping(p2c_map)\n",
    "# Print a new basis set in GENBAS format\n",
    "#print(basisset.genbas())"
   ]
  },
  {
   "cell_type": "code",
   "execution_count": 5,
   "id": "de448687-341f-42ab-87d3-8268f0dbc90d",
   "metadata": {},
   "outputs": [
    {
     "name": "stdout",
     "output_type": "stream",
     "text": [
      "c2h: order = 4\n",
      "MOs per irrep [15  9  9 15]\n"
     ]
    }
   ],
   "source": [
    "mol=wf.molecule()\n",
    "ptgr=mol.point_group()\n",
    "print(f'{ptgr.symbol()}: order = {ptgr.order()}')\n",
    "n_irrep=wf.nirrep()\n",
    "g=wf.nmopi()\n",
    "n_mo_pi=np.array(g.to_tuple())\n",
    "print('MOs per irrep', n_mo_pi)"
   ]
  },
  {
   "cell_type": "code",
   "execution_count": 6,
   "id": "d71c0b15-0d05-4f83-83d2-e7b8d69745ff",
   "metadata": {},
   "outputs": [
    {
     "name": "stdout",
     "output_type": "stream",
     "text": [
      "((48, 15), (48, 9), (48, 9), (48, 15))\n"
     ]
    },
    {
     "data": {
      "text/plain": [
       "((15, 15), (9, 9), (9, 9), (15, 15))"
      ]
     },
     "execution_count": 6,
     "metadata": {},
     "output_type": "execute_result"
    }
   ],
   "source": [
    "Ls=wf.aotoso()\n",
    "print(Ls.shape)\n",
    "# Psi4 MOs in SO basis\n",
    "C_SO=wf.Ca()\n",
    "#Cb=np.array(wf.Cb())\n",
    "C_SO.shape"
   ]
  },
  {
   "cell_type": "code",
   "execution_count": 7,
   "id": "638b52aa-0693-4eae-ade2-6d56c3c8dac4",
   "metadata": {},
   "outputs": [
    {
     "name": "stdout",
     "output_type": "stream",
     "text": [
      "\n",
      "Irrep 0\n",
      "AO-order  AO-order   Cfour    argsort    AO     SO\n",
      "  Psi4     Cfour    argsort   inverted  scale  scale\n",
      "   0        0          0         0      1.000  1.414\n",
      "   1        1          1         1      1.000  1.414\n",
      "   2        2          2         2      1.000  1.414\n",
      "   4        3          3         3      1.000  1.414\n",
      "   5        5          5         5      1.000  1.414\n",
      "   7        4          4         4      1.000  1.414\n",
      "   8        6          6         6      1.000  1.414\n",
      "   9        9          7         7      3.464  1.414\n",
      "  12       12          9         9      2.000  1.414\n",
      "  13       10          8         8      1.000  1.414\n",
      "  28       28         10        10      1.000  2.000\n",
      "  29       29         11        11      1.000  2.000\n",
      "  30       32         13        14      1.000  2.000\n",
      "  31       30         14        12      1.000  2.000\n",
      "  32       31         12        13      1.000  2.000\n",
      "\n",
      "Irrep 1\n",
      "AO-order  AO-order   Cfour    argsort    AO     SO\n",
      "  Psi4     Cfour    argsort   inverted  scale  scale\n",
      "   3        7          0         0      1.000  1.414\n",
      "   6        8          1         1      1.000  1.414\n",
      "  10       11          2         2      1.000  1.414\n",
      "  11       13          3         3      1.000  1.414\n",
      "  28       28          4         4      1.000  2.000\n",
      "  29       29          5         5      1.000  2.000\n",
      "  30       32          7         8      1.000  2.000\n",
      "  31       30          8         6      1.000  2.000\n",
      "  32       31          6         7      1.000  2.000\n",
      "\n",
      "Irrep 2\n",
      "AO-order  AO-order   Cfour    argsort    AO     SO\n",
      "  Psi4     Cfour    argsort   inverted  scale  scale\n",
      "   3        7          0         0      1.000  1.414\n",
      "   6        8          1         1      1.000  1.414\n",
      "  10       11          2         2      1.000  1.414\n",
      "  11       13          3         3      1.000  1.414\n",
      "  28       28          4         4      1.000  2.000\n",
      "  29       29          5         5      1.000  2.000\n",
      "  30       32          7         8      1.000  2.000\n",
      "  31       30          8         6      1.000  2.000\n",
      "  32       31          6         7      1.000  2.000\n",
      "\n",
      "Irrep 3\n",
      "AO-order  AO-order   Cfour    argsort    AO     SO\n",
      "  Psi4     Cfour    argsort   inverted  scale  scale\n",
      "   0        0          0         0      1.000  1.414\n",
      "   1        1          1         1      1.000  1.414\n",
      "   2        2          2         2      1.000  1.414\n",
      "   4        3          3         3      1.000  1.414\n",
      "   5        5          5         5      1.000  1.414\n",
      "   7        4          4         4      1.000  1.414\n",
      "   8        6          6         6      1.000  1.414\n",
      "   9        9          7         7      3.464  1.414\n",
      "  12       12          9         9      2.000  1.414\n",
      "  13       10          8         8      1.000  1.414\n",
      "  28       28         10        10      1.000  2.000\n",
      "  29       29         11        11      1.000  2.000\n",
      "  30       32         13        14      1.000  2.000\n",
      "  31       30         14        12      1.000  2.000\n",
      "  32       31         12        13      1.000  2.000\n"
     ]
    },
    {
     "data": {
      "text/plain": [
       "((15, 15), (9, 9), (9, 9), (15, 15))"
      ]
     },
     "execution_count": 7,
     "metadata": {},
     "output_type": "execute_result"
    }
   ],
   "source": [
    "irrep_lst = []\n",
    "\n",
    "for isym in range(ptgr.order()):\n",
    "    SOs=SymOrbs(Ls.nph[isym], order=wf.nirrep())\n",
    "    #SOs.print()\n",
    "    p4_first_AOs = SOs.first_AOs()\n",
    "    cfour_first_AOs = p2c_map[SOs.first_AOs()]\n",
    "    ao_scale = p2c_scale[SOs.first_AOs()]\n",
    "    so_c2p = np.argsort(cfour_first_AOs)\n",
    "    nsos=len(so_c2p)\n",
    "    so_p2c = invert_mapping(so_c2p)\n",
    "    so_scale=SOs.inv_coef()\n",
    "    scale = so_scale*ao_scale\n",
    "    C=psi4_to_c4(C_SO.nph[isym], so_p2c, scale)\n",
    "    irrep_lst.append(C)\n",
    "    print(f'\\nIrrep {isym}')\n",
    "    print('AO-order  AO-order   Cfour    argsort    AO     SO')\n",
    "    print('  Psi4     Cfour    argsort   inverted  scale  scale')\n",
    "    for i in range(SOs.nsos):\n",
    "        print(f'{p4_first_AOs[i]:4d}{cfour_first_AOs[i]:9d}', end='')\n",
    "        print(f'{so_c2p[i]:11d}{so_p2c[i]:10d}', end='')\n",
    "        print(f'{ao_scale[i]:11.3f}{so_scale[i]:7.3f}')\n",
    "    \n",
    "C_SOr = psi4.core.Matrix.from_array(irrep_lst)\n",
    "C_SOr.shape"
   ]
  },
  {
   "cell_type": "code",
   "execution_count": 8,
   "id": "2f77097c-bf24-4f6f-8f12-7bcb3defac12",
   "metadata": {},
   "outputs": [
    {
     "name": "stdout",
     "output_type": "stream",
     "text": [
      "[0 2 3 1]\n",
      "reading orbitals from OLDMOS.CC-PVDZ\n"
     ]
    }
   ],
   "source": [
    "p2c_irrep_map=np.array([0,2,3,1])\n",
    "c2p_irrep_map=invert_mapping(p2c_irrep_map)\n",
    "print(p2c_irrep_map)\n",
    "C4_cs = read_oldmos('OLDMOS.'+BASIS, n_mo_pi[p2c_irrep_map])"
   ]
  },
  {
   "cell_type": "code",
   "execution_count": 9,
   "id": "293b837a-50c3-4c00-99e6-1dd8a4cbd905",
   "metadata": {},
   "outputs": [
    {
     "name": "stdout",
     "output_type": "stream",
     "text": [
      "          Psi4    reordered    Cfour\n",
      "  0    0.309062   0.218540   0.218540\n",
      "  1    0.999425   0.706700   0.706700\n",
      "  2   -0.023172  -0.016385  -0.016385\n",
      "  3   -0.013799  -0.009758  -0.009758\n",
      "  4    0.048167   0.024083   0.024083\n",
      "  5    2.316756   1.158378   1.158378\n",
      "  6   -0.031997  -0.006103  -0.006103\n",
      "  7   -0.012205  -0.012998  -0.012998\n",
      "  8   -0.025995  -0.015999  -0.015999\n",
      "2.2407992128492538e-09\n"
     ]
    }
   ],
   "source": [
    "cfour_sym=3\n",
    "psi4_sym=p2c_irrep_map[cfour_sym]\n",
    "Corg=C_SO.nph[psi4_sym]\n",
    "Creo=C_SOr.nph[psi4_sym]\n",
    "Cc4=C4_cs[cfour_sym]\n",
    "naos=n_mo_pi[psi4_sym]\n",
    "mo=1\n",
    "print('          Psi4    reordered    Cfour')\n",
    "for k in range(naos):\n",
    "    print(f'{k:3d}  {Corg[k,mo]:10.6f} {Creo[k,mo]:10.6f} {Cc4[k,mo]:10.6f}')\n",
    "print(np.max(Creo[:,mo]-Cc4[:,mo]))"
   ]
  },
  {
   "cell_type": "code",
   "execution_count": 10,
   "id": "9715580e-3944-4325-a2da-719441347ec6",
   "metadata": {},
   "outputs": [
    {
     "name": "stdout",
     "output_type": "stream",
     "text": [
      "0 0 (15, 15) (15, 15)\n",
      "1.424822251849811e-08\n",
      "1 2 (9, 9) (9, 9)\n",
      "5.671611222335393e-09\n",
      "2 3 (15, 15) (15, 15)\n",
      "8.914353505362627e-09\n",
      "3 1 (9, 9) (9, 9)\n",
      "7.047298744566888e-09\n"
     ]
    }
   ],
   "source": [
    "#\n",
    "#  comparison Psi4-MOs and Cfour-MOs in their SO representation\n",
    "#\n",
    "for cfour_irrep in range(wf.nirrep()):\n",
    "    psi4_irrep=p2c_irrep_map[cfour_irrep]\n",
    "    print(cfour_irrep, psi4_irrep, C4_cs[cfour_irrep].shape, C_SOr.nph[psi4_irrep].shape )\n",
    "    print(np.max(abs(C_SOr.nph[psi4_irrep])-abs(C4_cs[cfour_irrep])))"
   ]
  },
  {
   "cell_type": "code",
   "execution_count": null,
   "id": "fd4d6b40-898f-40d9-a02f-104e62fa526c",
   "metadata": {},
   "outputs": [],
   "source": []
  },
  {
   "cell_type": "code",
   "execution_count": null,
   "id": "25e28a69-2891-4471-85e8-9c97ea407e80",
   "metadata": {},
   "outputs": [],
   "source": []
  }
 ],
 "metadata": {
  "kernelspec": {
   "display_name": "Python 3",
   "language": "python",
   "name": "python3"
  },
  "language_info": {
   "codemirror_mode": {
    "name": "ipython",
    "version": 3
   },
   "file_extension": ".py",
   "mimetype": "text/x-python",
   "name": "python",
   "nbconvert_exporter": "python",
   "pygments_lexer": "ipython3",
   "version": "3.7.11"
  }
 },
 "nbformat": 4,
 "nbformat_minor": 5
}
