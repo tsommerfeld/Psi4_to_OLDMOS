{
 "cells": [
  {
   "cell_type": "code",
   "execution_count": 1,
   "id": "d7ecbca4-8ad3-487a-a558-989e384a9bcd",
   "metadata": {},
   "outputs": [],
   "source": [
    "import psi4\n",
    "import numpy as np\n",
    "import sys\n",
    "sys.path.append('../lib')\n",
    "from P4toC4_aux import *"
   ]
  },
  {
   "cell_type": "code",
   "execution_count": 9,
   "id": "d519c289-1467-45fb-b88b-83a64940d014",
   "metadata": {},
   "outputs": [
    {
     "data": {
      "text/plain": [
       "-76.00900934211914"
      ]
     },
     "execution_count": 9,
     "metadata": {},
     "output_type": "execute_result"
    }
   ],
   "source": [
    "#  C4: STO-3G  -74.963 319 056 386 7\n",
    "\n",
    "psi4.set_memory('500 MB')\n",
    "psi4.core.set_global_option(\"BASIS\", \"6-31G*\")\n",
    "psi4.core.set_global_option(\"SCF_TYPE\", \"pk\")\n",
    "psi4.core.set_global_option(\"PUREAM\", \"True\")\n",
    "psi4.core.set_output_file('output.dat', False)\n",
    "\n",
    "# O\n",
    "# H 1 0.96\n",
    "# H 1 0.96 2 104.5\n",
    "\n",
    "\n",
    "h2o = psi4.geometry(\"\"\"\n",
    "0 1\n",
    "O            0.000000000000     0.000000000000    -0.065775570547\n",
    "H            0.000000000000    -0.759061990794     0.521953018286\n",
    "H            0.000000000000     0.759061990794     0.521953018286\n",
    "symmetry c1\n",
    "\"\"\")\n",
    "\n",
    "E, wf = psi4.energy('scf', return_wfn=True)\n",
    "E"
   ]
  },
  {
   "cell_type": "code",
   "execution_count": 10,
   "id": "39073d3b-7acb-47cf-965d-7a6ca3562ce6",
   "metadata": {},
   "outputs": [
    {
     "name": "stdout",
     "output_type": "stream",
     "text": [
      "O\n",
      "H\n",
      "H\n"
     ]
    },
    {
     "data": {
      "text/plain": [
       "18"
      ]
     },
     "execution_count": 10,
     "metadata": {},
     "output_type": "execute_result"
    }
   ],
   "source": [
    "basisset=wf.basisset()\n",
    "mol=wf.molecule()\n",
    "for atom in range(mol.natom()):\n",
    "    print(mol.symbol(atom))\n",
    "basisset.nbf()"
   ]
  },
  {
   "cell_type": "code",
   "execution_count": 11,
   "id": "5c58bf0f-c5e5-476b-b51d-21785167fd7d",
   "metadata": {},
   "outputs": [
    {
     "name": "stdout",
     "output_type": "stream",
     "text": [
      "\n",
      "[GTO]\n",
      "  1 0\n",
      " s    6  1.00\n",
      "     5484.6717000000         0.0018311000\n",
      "      825.2349500000         0.0139501000\n",
      "      188.0469600000         0.0684451000\n",
      "       52.9645000000         0.2327143000\n",
      "       16.8975700000         0.4701930000\n",
      "        5.7996353000         0.3585209000\n",
      " s    3  1.00\n",
      "       15.5396160000        -0.1107775000\n",
      "        3.5999336000        -0.1480263000\n",
      "        1.0137618000         1.1307670000\n",
      " p    3  1.00\n",
      "       15.5396160000         0.0708743000\n",
      "        3.5999336000         0.3397528000\n",
      "        1.0137618000         0.7271586000\n",
      " s    1  1.00\n",
      "        0.2700058000         1.0000000000\n",
      " p    1  1.00\n",
      "        0.2700058000         1.0000000000\n",
      " d    1  1.00\n",
      "        0.8000000000         1.0000000000\n",
      "\n",
      "  2 0\n",
      " s    3  1.00\n",
      "       18.7311370000         0.0334946000\n",
      "        2.8253937000         0.2347269500\n",
      "        0.6401217000         0.8137573300\n",
      " s    1  1.00\n",
      "        0.1612778000         1.0000000000\n",
      "\n",
      "  3 0\n",
      " s    3  1.00\n",
      "       18.7311370000         0.0334946000\n",
      "        2.8253937000         0.2347269500\n",
      "        0.6401217000         0.8137573300\n",
      " s    1  1.00\n",
      "        0.1612778000         1.0000000000\n",
      "\n",
      "\n"
     ]
    }
   ],
   "source": [
    "# stolen from molden writer v1.5 and modified\n",
    "mol_string = '\\n[GTO]\\n'\n",
    "for atom in range(mol.natom()):\n",
    "    mol_string += f\"  {atom+1:d} 0\\n\"\n",
    "    #i = 0\n",
    "    for rel_shell_idx in range(basisset.nshell_on_center(atom)):\n",
    "        #abs_shell_idx = basisset.shell_on_center(atom, rel_shell_idx)\n",
    "        #shell = basisset.shell(abs_shell_idx)\n",
    "        shell = basisset.shell(atom, rel_shell_idx)\n",
    "        mol_string += f\" {shell.amchar:s}{shell.nprimitive:5d}  1.00\\n\"\n",
    "        for prim in range(shell.nprimitive):\n",
    "            mol_string += f\"{shell.exp(prim):20.10f} {shell.original_coef(prim):20.10f}\\n\"\n",
    "    mol_string += '\\n'\n",
    "\n",
    "print(mol_string)"
   ]
  },
  {
   "cell_type": "code",
   "execution_count": 12,
   "id": "9e01a2c2-e749-4f51-9ffd-98cda9b12851",
   "metadata": {},
   "outputs": [
    {
     "name": "stdout",
     "output_type": "stream",
     "text": [
      "Atom  0\n",
      " 0  s\n",
      " 1  s\n",
      " 2  p\n",
      " 3  s\n",
      " 4  p\n",
      " 5  d\n",
      "Atom  1\n",
      " 0  s\n",
      " 1  s\n",
      "Atom  2\n",
      " 0  s\n",
      " 1  s\n"
     ]
    }
   ],
   "source": [
    "ao=0\n",
    "for atom in range(mol.natom()):\n",
    "    print(f\"Atom  {atom}\")\n",
    "    for rel_shell_idx in range(basisset.nshell_on_center(atom)):\n",
    "        #abs_shell_idx = basisset.shell_on_center(atom, rel_shell_idx)\n",
    "        #shell = basisset.shell(abs_shell_idx)\n",
    "        shell = basisset.shell(atom, rel_shell_idx)\n",
    "        print(f\" {rel_shell_idx}  {shell.amchar}\")"
   ]
  },
  {
   "cell_type": "code",
   "execution_count": 6,
   "id": "15da7b51-772e-4ed9-bc4c-2b6f9316b142",
   "metadata": {},
   "outputs": [
    {
     "name": "stdout",
     "output_type": "stream",
     "text": [
      "Shell 0  s 0\n",
      "Shell 1  s 0\n",
      "Shell 2  p 1\n",
      "Shell 3  s 0\n",
      "Shell 4  s 0\n"
     ]
    }
   ],
   "source": [
    "for ishell in range(basisset.nshell()):\n",
    "    shell = basisset.shell(ishell)\n",
    "    print(f\"Shell {ishell}  {shell.amchar} {shell.am}\")"
   ]
  },
  {
   "cell_type": "code",
   "execution_count": 7,
   "id": "11eb8f34-c951-42f0-9eb9-69cfcb3e5f31",
   "metadata": {},
   "outputs": [
    {
     "data": {
      "text/plain": [
       "array([ 0,  0,  2, -1, -1,  0,  0])"
      ]
     },
     "execution_count": 7,
     "metadata": {},
     "output_type": "execute_result"
    }
   ],
   "source": [
    "offset = ao_offset(basisset, verbose=0)\n",
    "offset"
   ]
  },
  {
   "cell_type": "code",
   "execution_count": 1,
   "id": "331669b5-3a65-47ac-ba91-c7e4812a67d6",
   "metadata": {},
   "outputs": [],
   "source": [
    "# from write_nbo:\n",
    "pure_order = [\n",
    "    [1],  # s\n",
    "    [103, 101, 102],  # p\n",
    "    [255, 252, 253, 254, 251],  # d: z2 xz yz x2-y2 xy\n",
    "    [351, 352, 353, 354, 355, 356, 357],  # f\n",
    "    [451, 452, 453, 454, 455, 456, 457, 458, 459],  #g\n",
    "    [551, 552, 553, 554, 555, 556, 557, 558, 559, 560, 561]  #h\n",
    "]\n",
    "\n",
    "# from write molden\n",
    "    '''\n",
    "    Reordering expected by Molden\n",
    "    P: x, y, z\n",
    "    5D: D 0, D+1, D-1, D+2, D-2\n",
    "    6D: xx, yy, zz, xy, xz, yz\n",
    "    7F: F 0, F+1, F-1, F+2, F-2, F+3, F-3\n",
    "    10F: xxx, yyy, zzz, xyy, xxy, xxz, xzz, yzz, yyz, xyz\n",
    "    '''\n",
    "molden_cartesian_order = [\n",
    "    [2,0,1,0,0,0,0,0,0,0,0,0,0,0,0], # p\n",
    "    [0,3,4,1,5,2,0,0,0,0,0,0,0,0,0], # d\n",
    "    [0,4,5,3,9,6,1,8,7,2,0,0,0,0,0], # f\n",
    "    [0,3,4,9,12,10,5,13,14,7,1,6,11,8,2] # g\n",
    "]"
   ]
  },
  {
   "cell_type": "code",
   "execution_count": null,
   "id": "5971d03c-84d9-4b1d-94b8-01328138c962",
   "metadata": {},
   "outputs": [],
   "source": []
  }
 ],
 "metadata": {
  "kernelspec": {
   "display_name": "Python 3",
   "language": "python",
   "name": "python3"
  },
  "language_info": {
   "codemirror_mode": {
    "name": "ipython",
    "version": 3
   },
   "file_extension": ".py",
   "mimetype": "text/x-python",
   "name": "python",
   "nbconvert_exporter": "python",
   "pygments_lexer": "ipython3",
   "version": "3.7.11"
  }
 },
 "nbformat": 4,
 "nbformat_minor": 5
}
