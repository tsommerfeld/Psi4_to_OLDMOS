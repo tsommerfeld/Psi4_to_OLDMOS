{
 "cells": [
  {
   "cell_type": "markdown",
   "id": "007a7d53-0556-4c13-9faf-2e24a0170488",
   "metadata": {},
   "source": [
    "## AO to SO transformation"
   ]
  },
  {
   "cell_type": "code",
   "execution_count": 1,
   "id": "d7ecbca4-8ad3-487a-a558-989e384a9bcd",
   "metadata": {},
   "outputs": [],
   "source": [
    "import psi4\n",
    "import numpy as np\n",
    "import sys\n",
    "sys.path.append('../lib')\n",
    "from P4toC4_aux import *"
   ]
  },
  {
   "cell_type": "code",
   "execution_count": 2,
   "id": "1ac7ace9-77d2-42e9-95c9-6307dcc99058",
   "metadata": {},
   "outputs": [],
   "source": [
    "BASIS='def2-SV'\n",
    "#BASIS='cc-pvdz'"
   ]
  },
  {
   "cell_type": "code",
   "execution_count": 3,
   "id": "d519c289-1467-45fb-b88b-83a64940d014",
   "metadata": {},
   "outputs": [
    {
     "data": {
      "text/plain": [
       "-75.9155633192235"
      ]
     },
     "execution_count": 3,
     "metadata": {},
     "output_type": "execute_result"
    }
   ],
   "source": [
    "psi4.set_memory('500 MB')\n",
    "psi4.core.set_global_option(\"BASIS\", BASIS)\n",
    "psi4.core.set_global_option(\"SCF_TYPE\", \"pk\")\n",
    "psi4.core.set_global_option(\"REFERENCE\", \"RHF\")\n",
    "psi4.core.set_global_option(\"D_CONVERGENCE\", 1e-8)\n",
    "psi4.core.set_global_option(\"PUREAM\", \"True\")\n",
    "psi4.core.set_output_file('output.dat', False)\n",
    "\n",
    "# O\n",
    "# H 1 0.96\n",
    "# H 1 0.96 2 104.5\n",
    "\n",
    "h2o = psi4.geometry(\"\"\"\n",
    "0 1\n",
    "O           -0.005580556816     0.124770196240     0.000000000000\n",
    "H           -1.409609476816    -1.024054213760     0.000000000000\n",
    "H            1.498176963184    -0.956139343760     0.000000000000\n",
    "units Bohr\n",
    "no_reorient\n",
    "symmetry cs\n",
    "\"\"\")\n",
    "\n",
    "E, wf = psi4.energy('scf', return_wfn=True)\n",
    "E"
   ]
  },
  {
   "cell_type": "code",
   "execution_count": 4,
   "id": "e93d39c6-5906-4b0f-9f95-790fd54fc3b1",
   "metadata": {},
   "outputs": [
    {
     "name": "stdout",
     "output_type": "stream",
     "text": [
      "cs 2\n"
     ]
    }
   ],
   "source": [
    "mol=wf.molecule()\n",
    "ptgr=mol.point_group()\n",
    "print(ptgr.symbol(), ptgr.order())"
   ]
  },
  {
   "cell_type": "code",
   "execution_count": 5,
   "id": "de448687-341f-42ab-87d3-8268f0dbc90d",
   "metadata": {},
   "outputs": [
    {
     "data": {
      "text/plain": [
       "(11, 2)"
      ]
     },
     "execution_count": 5,
     "metadata": {},
     "output_type": "execute_result"
    }
   ],
   "source": [
    "#psi4.core.Vector.array_interface(wf.epsilon_a())\n",
    "n_irrep=wf.nirrep()\n",
    "g=wf.nmopi()\n",
    "n_mo_pi=g.to_tuple()\n",
    "n_mo_pi"
   ]
  },
  {
   "cell_type": "code",
   "execution_count": 6,
   "id": "d71c0b15-0d05-4f83-83d2-e7b8d69745ff",
   "metadata": {},
   "outputs": [
    {
     "data": {
      "text/plain": [
       "((11, 11), (2, 2))"
      ]
     },
     "execution_count": 6,
     "metadata": {},
     "output_type": "execute_result"
    }
   ],
   "source": [
    "# Psi4 MOs in SO basis\n",
    "Ca=wf.Ca()\n",
    "Ca.shape"
   ]
  },
  {
   "cell_type": "code",
   "execution_count": 12,
   "id": "4242437c-a90e-487c-b6a6-3041a38a791c",
   "metadata": {},
   "outputs": [
    {
     "name": "stdout",
     "output_type": "stream",
     "text": [
      "(13, 13)\n"
     ]
    }
   ],
   "source": [
    "C_AO=wf.Ca_subset('AO','ALL')\n",
    "print(C_AO.shape)\n",
    "C_AO_by_E=psi4.core.Matrix.array_interface(C_AO)[0]\n",
    "#C_AO[:,0:6].round(3)"
   ]
  },
  {
   "cell_type": "markdown",
   "id": "8e2cdf94-2b52-4a77-b4fa-f6edae78ad5c",
   "metadata": {},
   "source": [
    "### Reorder C_AO by symmetry\n",
    "\n",
    "* establish j_by_e by argsort of symmetry ordered epsilons\n",
    "* reverse j_by_e mapping to j_by_sym\n",
    "* use j_by_sym to reorder C_AO_by_E\n",
    "* make a Psi4.Matrix from the symmetry blocks of C_AO_by_sym\n",
    "  * C_AO_by_sym.nph[irrep] has two indices\n",
    "  * first index is AO\n",
    "  * second index is MO of irrep"
   ]
  },
  {
   "cell_type": "code",
   "execution_count": 8,
   "id": "280e68fb-d2b3-4d98-a154-eaa2e7524bf4",
   "metadata": {
    "tags": []
   },
   "outputs": [
    {
     "name": "stdout",
     "output_type": "stream",
     "text": [
      "j_by_energy: [ 0  1  2  3 11  4  5  6  7 12  8  9 10]\n"
     ]
    }
   ],
   "source": [
    "eps_pi=wf.epsilon_a()\n",
    "#print(n_irrep, n_mo_pi)\n",
    "eps_by_sym=np.concatenate(eps_pi.nph)\n",
    "#print(eps_by_sym)\n",
    "j_by_e=np.argsort(eps_by_sym)\n",
    "print('j_by_energy:', j_by_e)\n",
    "#print('Reordered orbital energies')\n",
    "#print(all_eps[j_by_e])"
   ]
  },
  {
   "cell_type": "code",
   "execution_count": 9,
   "id": "a0464e23-3634-4ffb-a092-18df0a402407",
   "metadata": {},
   "outputs": [
    {
     "name": "stdout",
     "output_type": "stream",
     "text": [
      "j_by_symmetry: [ 0  1  2  3  5  6  7  8 10 11 12  4  9]\n"
     ]
    },
    {
     "data": {
      "text/plain": [
       "0.0"
      ]
     },
     "execution_count": 9,
     "metadata": {},
     "output_type": "execute_result"
    }
   ],
   "source": [
    "n = len(j_by_e)\n",
    "j_by_sym=np.zeros(n, int)\n",
    "for i in range(n):\n",
    "    j_by_sym[j_by_e[i]]=i\n",
    "print('j_by_symmetry:', j_by_sym)\n",
    "#\n",
    "#  Test by sorting epsilsons by energy and applying j_by_sym vs all\n",
    "#\n",
    "eps_by_e=np.sort(eps_by_sym)\n",
    "np.max(eps_by_e[j_by_sym]-eps_by_sym)"
   ]
  },
  {
   "cell_type": "code",
   "execution_count": 19,
   "id": "f5ca9550-3977-4c81-b580-b1f4aed290e3",
   "metadata": {},
   "outputs": [],
   "source": [
    "C_AO_by_sym=C_AO_by_E[:,j_by_sym]"
   ]
  },
  {
   "cell_type": "code",
   "execution_count": 26,
   "id": "95725dd5-bb05-4773-8737-23db787935fa",
   "metadata": {},
   "outputs": [
    {
     "name": "stdout",
     "output_type": "stream",
     "text": [
      "((13, 11), (13, 2))\n"
     ]
    }
   ],
   "source": [
    "n_irrep=wf.nirrep()\n",
    "n_mo_pi=wf.nmopi()\n",
    "N=n_mo_pi.to_tuple()\n",
    "irrep_lst = []\n",
    "offset = 0\n",
    "for i in range(n_irrep):\n",
    "    dim = N[i]\n",
    "    irrep_lst.append(C_AO_by_sym[:,offset:offset+dim])\n",
    "    offset += dim\n",
    "C_AO_pi=psi4.core.Matrix.from_array(irrep_lst)\n",
    "print(C_AO_pi.shape)\n",
    "#C_AO_pi.nph[1]"
   ]
  },
  {
   "cell_type": "markdown",
   "id": "fb974e70-604e-4d69-8050-39f4ec65a681",
   "metadata": {},
   "source": [
    "## AO to SO transformation\n",
    "\n",
    "* I want C_SO[irrep] = L[irrep] * C_AO[irrep]\n",
    "* The left matrix L has an all-AO and an SO[irrep] index.\n",
    "* The C_AO matrix are has an all-AO and an MO[irrep] index.\n",
    "* Options:\n",
    "  * `wf.sobasisset()`: two matrices, which are transposes of each other.\n",
    "  * `wf.aotoso()`: one matrix, looks like a left matrix."
   ]
  },
  {
   "cell_type": "code",
   "execution_count": 50,
   "id": "a4250176-0346-4535-b48b-721099f8694d",
   "metadata": {},
   "outputs": [],
   "source": [
    "# no clue what a petite_list contains\n",
    "# seems clear for STO-3G, but eludes me for def2-SV\n",
    "# I=wf.sobasisset()\n",
    "# pl=I.petite_list()\n",
    "# Rs=pl.aotoso()\n",
    "# Ls=pl.sotoao()\n",
    "# print(Ls.shape)\n",
    "# Ls.nph[1]"
   ]
  },
  {
   "cell_type": "code",
   "execution_count": 28,
   "id": "449ce73d-a014-493f-b171-e949c9911f0b",
   "metadata": {},
   "outputs": [
    {
     "name": "stdout",
     "output_type": "stream",
     "text": [
      "((13, 11), (13, 2))\n"
     ]
    }
   ],
   "source": [
    "#\n",
    "#  this looks right for def2-SV\n",
    "#\n",
    "Ls=wf.aotoso()\n",
    "print(Ls.shape)\n",
    "#Ls.nph[1]"
   ]
  },
  {
   "cell_type": "code",
   "execution_count": 37,
   "id": "1957b7b7-f7ab-47bf-b1ad-1f6d1f6e12be",
   "metadata": {},
   "outputs": [
    {
     "name": "stdout",
     "output_type": "stream",
     "text": [
      "0   delta= 0.000e+00\n",
      "1   delta= 0.000e+00\n"
     ]
    }
   ],
   "source": [
    "for sym in range(n_irrep):\n",
    "    L=Ls.nph[sym]\n",
    "    C=C_AO_pi.nph[sym]\n",
    "    C_SO=np.matmul(np.transpose(L),C)\n",
    "    #np.round(C_SO,4)\n",
    "    print(f'{sym}   delta={np.max(C_SO-Ca.nph[sym]):10.3e}')"
   ]
  },
  {
   "cell_type": "code",
   "execution_count": null,
   "id": "db1567d6-2ccd-4507-afea-4e3ce7a7cda5",
   "metadata": {},
   "outputs": [],
   "source": []
  }
 ],
 "metadata": {
  "kernelspec": {
   "display_name": "Python 3",
   "language": "python",
   "name": "python3"
  },
  "language_info": {
   "codemirror_mode": {
    "name": "ipython",
    "version": 3
   },
   "file_extension": ".py",
   "mimetype": "text/x-python",
   "name": "python",
   "nbconvert_exporter": "python",
   "pygments_lexer": "ipython3",
   "version": "3.7.11"
  }
 },
 "nbformat": 4,
 "nbformat_minor": 5
}
