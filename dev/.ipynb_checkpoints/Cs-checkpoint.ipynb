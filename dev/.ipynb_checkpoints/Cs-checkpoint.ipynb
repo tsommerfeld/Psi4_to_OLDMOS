{
 "cells": [
  {
   "cell_type": "code",
   "execution_count": 1,
   "id": "d7ecbca4-8ad3-487a-a558-989e384a9bcd",
   "metadata": {},
   "outputs": [],
   "source": [
    "import psi4\n",
    "import numpy as np\n",
    "import sys\n",
    "sys.path.append('../lib')\n",
    "from P4toC4_aux import *\n",
    "from SO_aux import SymOrbs"
   ]
  },
  {
   "cell_type": "code",
   "execution_count": 2,
   "id": "1ac7ace9-77d2-42e9-95c9-6307dcc99058",
   "metadata": {},
   "outputs": [],
   "source": [
    "#BASIS='STO-3G'\n",
    "BASIS='def2-SVP'\n",
    "#BASIS='CC-PVDZ'"
   ]
  },
  {
   "cell_type": "code",
   "execution_count": 3,
   "id": "d519c289-1467-45fb-b88b-83a64940d014",
   "metadata": {},
   "outputs": [
    {
     "data": {
      "text/plain": [
       "-6.6393832862296485"
      ]
     },
     "execution_count": 3,
     "metadata": {},
     "output_type": "execute_result"
    }
   ],
   "source": [
    "psi4.set_memory('500 MB')\n",
    "psi4.core.set_global_option(\"BASIS\", BASIS)\n",
    "psi4.core.set_global_option(\"SCF_TYPE\", \"pk\")\n",
    "psi4.core.set_global_option(\"REFERENCE\", \"RHF\")\n",
    "psi4.core.set_global_option(\"D_CONVERGENCE\", 1e-8)\n",
    "psi4.core.set_global_option(\"PUREAM\", \"True\")\n",
    "psi4.core.set_output_file('output.dat', False)\n",
    "\n",
    "mol = psi4.geometry(\"\"\"\n",
    "0 1\n",
    "H        -1.14356293    -1.24134665     0.75589061\n",
    "H        -1.14356293    -1.24134665    -0.75589061\n",
    "HE       -1.81408822     0.52541937     0.00000000\n",
    "HE        2.38996911     0.09970391     0.00000000\n",
    "units Bohr\n",
    "no_reorient\n",
    "\"\"\")\n",
    "\n",
    "E, wf = psi4.energy('scf', return_wfn=True)\n",
    "E"
   ]
  },
  {
   "cell_type": "code",
   "execution_count": 4,
   "id": "71db1ed8-b80e-430e-9e50-2d33426badf4",
   "metadata": {},
   "outputs": [],
   "source": [
    "basisset=wf.basisset()\n",
    "#\n",
    "#  C4_MO[p2c[i]] = P4_MO[i]     P4_MO[c2p[i]] = C4_MO[i]\n",
    "#\n",
    "p2c_map, scale = basis_mapping(basisset, verbose=0)\n",
    "# c2p_map = p2c_map[p2c_map]\n",
    "# Print a new basis set in GENBAS format\n",
    "#print(basisset.genbas())"
   ]
  },
  {
   "cell_type": "code",
   "execution_count": 5,
   "id": "e93d39c6-5906-4b0f-9f95-790fd54fc3b1",
   "metadata": {},
   "outputs": [
    {
     "name": "stdout",
     "output_type": "stream",
     "text": [
      "cs: order = 2\n",
      "MOs per irrep (13, 7)\n"
     ]
    }
   ],
   "source": [
    "mol=wf.molecule()\n",
    "ptgr=mol.point_group()\n",
    "print(f'{ptgr.symbol()}: order = {ptgr.order()}')\n",
    "n_irrep=wf.nirrep()\n",
    "g=wf.nmopi()\n",
    "n_mo_pi=g.to_tuple()\n",
    "print('MOs per irrep', n_mo_pi)"
   ]
  },
  {
   "cell_type": "markdown",
   "id": "b999159d-203c-44ca-add5-022b668d01b4",
   "metadata": {},
   "source": [
    "### Get SOs\n",
    "\n",
    "Transform Psi4-SOs to Cfour-SOs"
   ]
  },
  {
   "cell_type": "code",
   "execution_count": 6,
   "id": "5640f338-748a-4d8e-9da8-97f8bfa445fb",
   "metadata": {},
   "outputs": [
    {
     "name": "stdout",
     "output_type": "stream",
     "text": [
      "((20, 13), (20, 7))\n"
     ]
    },
    {
     "data": {
      "text/plain": [
       "((13, 13), (7, 7))"
      ]
     },
     "execution_count": 6,
     "metadata": {},
     "output_type": "execute_result"
    }
   ],
   "source": [
    "Ls=wf.aotoso()\n",
    "print(Ls.shape)\n",
    "# Psi4 MOs in SO basis\n",
    "C_SO=wf.Ca()\n",
    "#Cb=np.array(wf.Cb())\n",
    "C_SO.shape"
   ]
  },
  {
   "cell_type": "markdown",
   "id": "4f3f233f-3f72-4fa9-90c6-0df117c0b03d",
   "metadata": {},
   "source": [
    "* Each AO can contribute only once, if at all.\n",
    "* The first AO is relevant; the following are on symmetry-equivalent atoms.\n",
    "* The mapping of the SOs is the arg-sorted Cfour-mapped first-AO list.\n",
    "  * Create the first-AO list in Psi4 AO-order.\n",
    "  * Create the first-AO list in Cfour AO-order.\n",
    "  * Use `np.argsort` to find the so_c2p mapping.\n",
    "  * Invert to find the so_p2c mapping of the Psi4-MO vectors."
   ]
  },
  {
   "cell_type": "code",
   "execution_count": 7,
   "id": "95630055-17cb-4bce-8fa2-9df6ec624288",
   "metadata": {},
   "outputs": [
    {
     "name": "stdout",
     "output_type": "stream",
     "text": [
      "\n",
      "Symmetry 0\n",
      " 0   0.70711(  0)   0.70711(  5)\n",
      " 1   0.70711(  1)   0.70711(  6)\n",
      " 2   0.70711(  2)  -0.70711(  7)\n",
      " 3   0.70711(  3)   0.70711(  8)\n",
      " 4   0.70711(  4)   0.70711(  9)\n",
      " 5   1.00000( 10)\n",
      " 6   1.00000( 11)\n",
      " 7   1.00000( 13)\n",
      " 8   1.00000( 14)\n",
      " 9   1.00000( 15)\n",
      "10   1.00000( 16)\n",
      "11   1.00000( 18)\n",
      "12   1.00000( 19)\n",
      "Psi4  AO-order: [ 0  1  2  3  4 10 11 13 14 15 16 18 19]\n",
      "Cfour AO-order: [ 0  1  4  2  3 10 11 12 13 15 16 17 18]\n",
      "Cfour argsorted [ 0  1  3  4  2  5  6  7  8  9 10 11 12]\n",
      "And inverted    [ 0  1  4  2  3  5  6  7  8  9 10 11 12]\n",
      "scale [1.414 1.414 1.414 1.414 1.414 1.    1.    1.    1.    1.    1.    1.\n",
      " 1.   ]\n",
      "\n",
      "Symmetry 1\n",
      " 0   0.70711(  0)  -0.70711(  5)\n",
      " 1   0.70711(  1)  -0.70711(  6)\n",
      " 2   0.70711(  2)   0.70711(  7)\n",
      " 3   0.70711(  3)  -0.70711(  8)\n",
      " 4   0.70711(  4)  -0.70711(  9)\n",
      " 5   1.00000( 12)\n",
      " 6   1.00000( 17)\n",
      "Psi4  AO-order: [ 0  1  2  3  4 12 17]\n",
      "Cfour AO-order: [ 0  1  4  2  3 14 19]\n",
      "Cfour argsorted [0 1 3 4 2 5 6]\n",
      "And inverted    [0 1 4 2 3 5 6]\n",
      "scale [1.414 1.414 1.414 1.414 1.414 1.    1.   ]\n"
     ]
    },
    {
     "data": {
      "text/plain": [
       "((13, 13), (7, 7))"
      ]
     },
     "execution_count": 7,
     "metadata": {},
     "output_type": "execute_result"
    }
   ],
   "source": [
    "irrep_lst = []\n",
    "\n",
    "for isym in range(ptgr.order()):\n",
    "    print(f'\\nSymmetry {isym}')\n",
    "    SOs=SymOrbs(Ls.nph[isym], order=wf.nirrep())\n",
    "    SOs.print()\n",
    "    print('Psi4  AO-order:', SOs.first_AOs())\n",
    "    cfour_first_AOs = p2c_map[SOs.first_AOs()]\n",
    "    print('Cfour AO-order:', cfour_first_AOs)\n",
    "    so_c2p = np.argsort(cfour_first_AOs)\n",
    "    print('Cfour argsorted', so_c2p)\n",
    "    so_p2c=so_c2p[so_c2p]\n",
    "    print('And inverted   ', so_p2c)\n",
    "    scale=SOs.inv_coef()\n",
    "    print('scale', np.round(scale,3))\n",
    "    C=psi4_to_c4(C_SO.nph[isym], so_p2c, scale, use_scale=True)\n",
    "    irrep_lst.append(C)\n",
    "    \n",
    "C_SOr = psi4.core.Matrix.from_array(irrep_lst)\n",
    "C_SOr.shape"
   ]
  },
  {
   "cell_type": "code",
   "execution_count": 8,
   "id": "2f77097c-bf24-4f6f-8f12-7bcb3defac12",
   "metadata": {
    "tags": []
   },
   "outputs": [
    {
     "name": "stdout",
     "output_type": "stream",
     "text": [
      "reading orbitals from ../Cfour/SYM/Cs/OLDMOS.def2-SVP\n"
     ]
    }
   ],
   "source": [
    "#BASIS='PVDZ'\n",
    "C4_cs = read_oldmos('../Cfour/SYM/Cs/OLDMOS.'+BASIS, n_mo_pi)"
   ]
  },
  {
   "cell_type": "code",
   "execution_count": 21,
   "id": "293b837a-50c3-4c00-99e6-1dd8a4cbd905",
   "metadata": {
    "tags": []
   },
   "outputs": [
    {
     "name": "stdout",
     "output_type": "stream",
     "text": [
      "          Psi4    reordered    Cfour\n",
      "  0   -0.000601  -0.000425   0.000425\n",
      "  1    0.127980   0.090496  -0.090496\n",
      "  2    0.009428   0.325187  -0.325187\n",
      "  3    0.459884  -0.042947   0.042947\n",
      "  4   -0.060736   0.006667  -0.006667\n",
      "  5    0.202952   0.202952  -0.202952\n",
      "  6   -0.148065  -0.148065   0.148066\n",
      "  7    0.149559   0.149559  -0.149559\n",
      "  8    0.165358   0.165358  -0.165358\n",
      "  9    0.899313   0.899313  -0.899313\n",
      " 10   -0.982293  -0.982293   0.982293\n",
      " 11   -0.115372  -0.115372   0.115372\n",
      " 12   -0.058911  -0.058911   0.058911\n",
      "1.7986268436578075\n"
     ]
    }
   ],
   "source": [
    "sym=0\n",
    "Corg=C_SO.nph[sym]\n",
    "Creo=C_SOr.nph[sym]\n",
    "Cc4=C4_cs[sym]\n",
    "naos=n_mo_pi[sym]\n",
    "mo=6\n",
    "print('          Psi4    reordered    Cfour')\n",
    "for k in range(naos):\n",
    "    print(f'{k:3d}  {Corg[k,mo]:10.6f} {Creo[k,mo]:10.6f} {Cc4[k,mo]:10.6f}')\n",
    "print(np.max(Creo[:,mo]-Cc4[:,mo]))"
   ]
  },
  {
   "cell_type": "code",
   "execution_count": 22,
   "id": "9715580e-3944-4325-a2da-719441347ec6",
   "metadata": {},
   "outputs": [
    {
     "name": "stdout",
     "output_type": "stream",
     "text": [
      "3.734485853890135e-07\n",
      "2.410467321301013e-07\n"
     ]
    }
   ],
   "source": [
    "#\n",
    "#  comparison Psi4-MOs and Cfour-MOs in their SO representation\n",
    "#\n",
    "for i in range(wf.nirrep()):\n",
    "    print(np.max(abs(C_SOr.nph[i])-abs(C4_cs[i])))"
   ]
  },
  {
   "cell_type": "code",
   "execution_count": null,
   "id": "25e28a69-2891-4471-85e8-9c97ea407e80",
   "metadata": {},
   "outputs": [],
   "source": []
  },
  {
   "cell_type": "code",
   "execution_count": 25,
   "id": "3d050627-38ea-48bf-866a-c40380460f32",
   "metadata": {},
   "outputs": [],
   "source": [
    "write_oldmos('PSIMOS', Ca_C4, Cbs=Cb_C4)"
   ]
  },
  {
   "cell_type": "code",
   "execution_count": null,
   "id": "db1567d6-2ccd-4507-afea-4e3ce7a7cda5",
   "metadata": {},
   "outputs": [],
   "source": []
  }
 ],
 "metadata": {
  "kernelspec": {
   "display_name": "Python 3",
   "language": "python",
   "name": "python3"
  },
  "language_info": {
   "codemirror_mode": {
    "name": "ipython",
    "version": 3
   },
   "file_extension": ".py",
   "mimetype": "text/x-python",
   "name": "python",
   "nbconvert_exporter": "python",
   "pygments_lexer": "ipython3",
   "version": "3.7.11"
  }
 },
 "nbformat": 4,
 "nbformat_minor": 5
}
