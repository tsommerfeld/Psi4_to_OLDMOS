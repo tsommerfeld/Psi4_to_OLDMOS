{
 "cells": [
  {
   "cell_type": "code",
   "execution_count": 1,
   "id": "d7ecbca4-8ad3-487a-a558-989e384a9bcd",
   "metadata": {},
   "outputs": [],
   "source": [
    "import psi4\n",
    "import numpy as np\n",
    "import sys\n",
    "sys.path.append('../lib')\n",
    "from P4toC4_aux import *"
   ]
  },
  {
   "cell_type": "code",
   "execution_count": 2,
   "id": "1ac7ace9-77d2-42e9-95c9-6307dcc99058",
   "metadata": {},
   "outputs": [],
   "source": [
    "#BASIS='def2-SV'\n",
    "BASIS='cc-pvdz'"
   ]
  },
  {
   "cell_type": "code",
   "execution_count": 3,
   "id": "d519c289-1467-45fb-b88b-83a64940d014",
   "metadata": {},
   "outputs": [
    {
     "data": {
      "text/plain": [
       "-76.02566441430591"
      ]
     },
     "execution_count": 3,
     "metadata": {},
     "output_type": "execute_result"
    }
   ],
   "source": [
    "psi4.set_memory('500 MB')\n",
    "psi4.core.set_global_option(\"BASIS\", BASIS)\n",
    "psi4.core.set_global_option(\"SCF_TYPE\", \"pk\")\n",
    "psi4.core.set_global_option(\"REFERENCE\", \"RHF\")\n",
    "psi4.core.set_global_option(\"D_CONVERGENCE\", 1e-8)\n",
    "psi4.core.set_global_option(\"PUREAM\", \"True\")\n",
    "psi4.core.set_output_file('output.dat', False)\n",
    "\n",
    "# O\n",
    "# H 1 0.96\n",
    "# H 1 0.96 2 104.5\n",
    "\n",
    "h2o = psi4.geometry(\"\"\"\n",
    "0 1\n",
    "O           -0.005580556816     0.124770196240     0.000000000000\n",
    "H           -1.409609476816    -1.024054213760     0.000000000000\n",
    "H            1.498176963184    -0.956139343760     0.000000000000\n",
    "units Bohr\n",
    "no_reorient\n",
    "symmetry cs\n",
    "\"\"\")\n",
    "\n",
    "E, wf = psi4.energy('scf', return_wfn=True)\n",
    "E"
   ]
  },
  {
   "cell_type": "code",
   "execution_count": 11,
   "id": "e93d39c6-5906-4b0f-9f95-790fd54fc3b1",
   "metadata": {},
   "outputs": [
    {
     "name": "stdout",
     "output_type": "stream",
     "text": [
      "cs 2\n"
     ]
    }
   ],
   "source": [
    "mol=wf.molecule()\n",
    "ptgr=mol.point_group()\n",
    "print(ptgr.symbol(), ptgr.order())"
   ]
  },
  {
   "cell_type": "code",
   "execution_count": 12,
   "id": "258fdbe7-1e8d-4c14-b887-157d30d96626",
   "metadata": {},
   "outputs": [],
   "source": [
    "# Print a new basis set in GENBAS format\n",
    "basisset=wf.basisset()\n",
    "#print(basisset.genbas())"
   ]
  },
  {
   "cell_type": "code",
   "execution_count": 13,
   "id": "680a8401-061f-4180-8cb9-5a9ea818f2e6",
   "metadata": {},
   "outputs": [
    {
     "data": {
      "text/plain": [
       "array([ 0,  1,  2,  7,  3,  5,  8,  4,  6,  9, 11, 13, 12, 10, 14, 15, 18,\n",
       "       16, 17, 19, 20, 23, 21, 22])"
      ]
     },
     "execution_count": 13,
     "metadata": {},
     "output_type": "execute_result"
    }
   ],
   "source": [
    "mapping, scale = basis_mapping(wf.basisset(), verbose=0)\n",
    "mapping"
   ]
  },
  {
   "cell_type": "code",
   "execution_count": 14,
   "id": "de448687-341f-42ab-87d3-8268f0dbc90d",
   "metadata": {},
   "outputs": [
    {
     "data": {
      "text/plain": [
       "(18, 6)"
      ]
     },
     "execution_count": 14,
     "metadata": {},
     "output_type": "execute_result"
    }
   ],
   "source": [
    "#psi4.core.Vector.array_interface(wf.epsilon_a())\n",
    "n_irrep=wf.nirrep()\n",
    "g=wf.nmopi()\n",
    "n_mo_pi=g.to_tuple()\n",
    "n_mo_pi"
   ]
  },
  {
   "cell_type": "code",
   "execution_count": 15,
   "id": "d71c0b15-0d05-4f83-83d2-e7b8d69745ff",
   "metadata": {},
   "outputs": [
    {
     "data": {
      "text/plain": [
       "((18, 18), (6, 6))"
      ]
     },
     "execution_count": 15,
     "metadata": {},
     "output_type": "execute_result"
    }
   ],
   "source": [
    "# Psi4 MOs in SO basis\n",
    "Ca=wf.Ca()\n",
    "#Cb=np.array(wf.Cb())\n",
    "Ca.shape"
   ]
  },
  {
   "cell_type": "code",
   "execution_count": 9,
   "id": "2f77097c-bf24-4f6f-8f12-7bcb3defac12",
   "metadata": {},
   "outputs": [
    {
     "name": "stdout",
     "output_type": "stream",
     "text": [
      "reading orbitals from ../Cfour/SYM/OLDMOS.Cs_def2-SV\n"
     ]
    }
   ],
   "source": [
    "C4_cs = read_oldmos('../Cfour/SYM/OLDMOS.Cs_'+BASIS, n_mo_pi)"
   ]
  },
  {
   "cell_type": "code",
   "execution_count": 10,
   "id": "293b837a-50c3-4c00-99e6-1dd8a4cbd905",
   "metadata": {},
   "outputs": [
    {
     "name": "stdout",
     "output_type": "stream",
     "text": [
      "          Psi4       Cfour\n",
      "  1      0.1013     0.1013\n",
      "  2      0.2116     0.2116\n",
      "  3      0.2931     0.2931\n",
      "  4     -0.0230    -0.0230\n",
      "  5      0.5459    -0.0178\n",
      "  6     -0.0178     0.5459\n",
      "  7      0.3955     0.3955\n",
      "  8     -0.1828    -0.1828\n",
      "  9     -0.0397    -0.0397\n",
      " 10     -0.1911    -0.1911\n",
      " 11     -0.0451    -0.0451\n"
     ]
    }
   ],
   "source": [
    "sym=0\n",
    "Cp=Ca.nph[sym]\n",
    "Cc=C4_cs[sym]\n",
    "naos=n_mo_pi[sym]\n",
    "mo=3\n",
    "print('          Psi4       Cfour')\n",
    "for k in range(naos):\n",
    "    print(f'{k+1:3d}  {Cp[k,mo]:10.4f} {Cc[k,mo]:10.4f}')"
   ]
  },
  {
   "cell_type": "code",
   "execution_count": 11,
   "id": "9715580e-3944-4325-a2da-719441347ec6",
   "metadata": {},
   "outputs": [
    {
     "name": "stdout",
     "output_type": "stream",
     "text": [
      "1.5929663997262293\n",
      "6.965156296168118e-08\n"
     ]
    }
   ],
   "source": [
    "#\n",
    "#  at least for STO-3G the SO coefficients are identical, no reordering needed.\n",
    "#\n",
    "for i in range(wf.nirrep()):\n",
    "    print(np.max(Ca.nph[i]-C4_cs[i]))"
   ]
  },
  {
   "cell_type": "markdown",
   "id": "8e2cdf94-2b52-4a77-b4fa-f6edae78ad5c",
   "metadata": {},
   "source": [
    "### Get symmetry ordered MOs in AO basis "
   ]
  },
  {
   "cell_type": "code",
   "execution_count": 10,
   "id": "970cc2b3-0cf7-4beb-aa01-a5b75b493559",
   "metadata": {},
   "outputs": [
    {
     "data": {
      "text/plain": [
       "((24, 18), (24, 6))"
      ]
     },
     "execution_count": 10,
     "metadata": {},
     "output_type": "execute_result"
    }
   ],
   "source": [
    "C_AO_pi=AO_MO_by_irrep(wf, verbose=0)\n",
    "C_AO_pi.shape"
   ]
  },
  {
   "cell_type": "markdown",
   "id": "fb974e70-604e-4d69-8050-39f4ec65a681",
   "metadata": {},
   "source": [
    "### Transform to SO basis\n",
    "\n",
    "* I want C_SO[irrep] = L[irrep] * C_AO[irrep]\n",
    "* The left matrix L has an all-AO and an SO[irrep] index.\n",
    "* The C_AO matrix are has an all-AO and an MO[irrep] index.\n",
    "* Options:\n",
    "  * `wf.sobasisset()`: two matrices, which are transposes of each other.\n",
    "  * `wf.aotoso()`: one matrix, looks like a left matrix."
   ]
  },
  {
   "cell_type": "code",
   "execution_count": 50,
   "id": "a4250176-0346-4535-b48b-721099f8694d",
   "metadata": {},
   "outputs": [],
   "source": [
    "# no clue what a petite_list contains\n",
    "# seems clear for STO-3G, but eludes me for def2-SV\n",
    "# I=wf.sobasisset()\n",
    "# pl=I.petite_list()\n",
    "# Rs=pl.aotoso()\n",
    "# Ls=pl.sotoao()\n",
    "# print(Ls.shape)\n",
    "# Ls.nph[1]"
   ]
  },
  {
   "cell_type": "code",
   "execution_count": 17,
   "id": "449ce73d-a014-493f-b171-e949c9911f0b",
   "metadata": {},
   "outputs": [
    {
     "name": "stdout",
     "output_type": "stream",
     "text": [
      "((24, 18), (24, 6))\n"
     ]
    }
   ],
   "source": [
    "#\n",
    "#  this looks right for def2-SV\n",
    "#\n",
    "Ls=wf.aotoso()\n",
    "print(Ls.shape)\n",
    "#Ls.nph[1]"
   ]
  },
  {
   "cell_type": "code",
   "execution_count": null,
   "id": "1957b7b7-f7ab-47bf-b1ad-1f6d1f6e12be",
   "metadata": {},
   "outputs": [
    {
     "name": "stdout",
     "output_type": "stream",
     "text": [
      "0   delta= 0.000e+00\n",
      "1   delta= 0.000e+00\n"
     ]
    }
   ],
   "source": [
    "for sym in range(n_irrep):\n",
    "    L=Ls.nph[sym]\n",
    "    C=C_AO_pi.nph[sym]\n",
    "    C_SO=np.matmul(np.transpose(L),C)\n",
    "    #np.round(C_SO,4)\n",
    "    print(f'{sym}   delta={np.max(C_SO-Ca.nph[sym]):10.3e}')"
   ]
  },
  {
   "cell_type": "code",
   "execution_count": null,
   "id": "fd4d6b40-898f-40d9-a02f-104e62fa526c",
   "metadata": {},
   "outputs": [],
   "source": []
  },
  {
   "cell_type": "code",
   "execution_count": null,
   "id": "05600106-add3-4113-9faf-fa389548af12",
   "metadata": {},
   "outputs": [],
   "source": []
  },
  {
   "cell_type": "code",
   "execution_count": null,
   "id": "d7ec64a2-a921-4e5b-b6e8-4cab9736a6d9",
   "metadata": {},
   "outputs": [],
   "source": []
  },
  {
   "cell_type": "code",
   "execution_count": null,
   "id": "7beb6308-dc2e-40a7-903b-90bedf3f826e",
   "metadata": {},
   "outputs": [],
   "source": []
  },
  {
   "cell_type": "code",
   "execution_count": null,
   "id": "25e28a69-2891-4471-85e8-9c97ea407e80",
   "metadata": {},
   "outputs": [],
   "source": []
  },
  {
   "cell_type": "code",
   "execution_count": 24,
   "id": "f67178f4-0cc8-4689-bb2b-e73a6b401313",
   "metadata": {},
   "outputs": [],
   "source": [
    "Ca_C4 = psi4_to_c4(Ca, mapping, scale)\n",
    "Cb_C4 = psi4_to_c4(Cb, mapping, scale)"
   ]
  },
  {
   "cell_type": "code",
   "execution_count": 25,
   "id": "3d050627-38ea-48bf-866a-c40380460f32",
   "metadata": {},
   "outputs": [],
   "source": [
    "write_oldmos('PSIMOS', Ca_C4, Cbs=Cb_C4)"
   ]
  },
  {
   "cell_type": "code",
   "execution_count": null,
   "id": "db1567d6-2ccd-4507-afea-4e3ce7a7cda5",
   "metadata": {},
   "outputs": [],
   "source": []
  }
 ],
 "metadata": {
  "kernelspec": {
   "display_name": "Python 3",
   "language": "python",
   "name": "python3"
  },
  "language_info": {
   "codemirror_mode": {
    "name": "ipython",
    "version": 3
   },
   "file_extension": ".py",
   "mimetype": "text/x-python",
   "name": "python",
   "nbconvert_exporter": "python",
   "pygments_lexer": "ipython3",
   "version": "3.7.11"
  }
 },
 "nbformat": 4,
 "nbformat_minor": 5
}
