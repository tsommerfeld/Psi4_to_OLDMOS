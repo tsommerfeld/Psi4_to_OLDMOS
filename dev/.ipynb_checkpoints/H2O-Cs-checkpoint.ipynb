{
 "cells": [
  {
   "cell_type": "code",
   "execution_count": 1,
   "id": "d7ecbca4-8ad3-487a-a558-989e384a9bcd",
   "metadata": {},
   "outputs": [],
   "source": [
    "import psi4\n",
    "import numpy as np\n",
    "import sys\n",
    "sys.path.append('../lib')\n",
    "from P4toC4_aux import *\n",
    "from SO_aux import SymOrbs"
   ]
  },
  {
   "cell_type": "code",
   "execution_count": 2,
   "id": "1ac7ace9-77d2-42e9-95c9-6307dcc99058",
   "metadata": {},
   "outputs": [],
   "source": [
    "#BASIS='STO-3G'\n",
    "BASIS='def2-SV'\n",
    "#BASIS='CC-PVDZ'"
   ]
  },
  {
   "cell_type": "code",
   "execution_count": 3,
   "id": "d519c289-1467-45fb-b88b-83a64940d014",
   "metadata": {},
   "outputs": [
    {
     "data": {
      "text/plain": [
       "-75.9155633192235"
      ]
     },
     "execution_count": 3,
     "metadata": {},
     "output_type": "execute_result"
    }
   ],
   "source": [
    "psi4.set_memory('500 MB')\n",
    "psi4.core.set_global_option(\"BASIS\", BASIS)\n",
    "psi4.core.set_global_option(\"SCF_TYPE\", \"pk\")\n",
    "psi4.core.set_global_option(\"REFERENCE\", \"RHF\")\n",
    "psi4.core.set_global_option(\"D_CONVERGENCE\", 1e-8)\n",
    "psi4.core.set_global_option(\"PUREAM\", \"True\")\n",
    "psi4.core.set_output_file('output.dat', False)\n",
    "\n",
    "# O\n",
    "# H 1 0.96\n",
    "# H 1 0.96 2 104.5\n",
    "\n",
    "h2o = psi4.geometry(\"\"\"\n",
    "0 1\n",
    "O           -0.005580556816     0.124770196240     0.000000000000\n",
    "H           -1.409609476816    -1.024054213760     0.000000000000\n",
    "H            1.498176963184    -0.956139343760     0.000000000000\n",
    "units Bohr\n",
    "no_reorient\n",
    "symmetry cs\n",
    "\"\"\")\n",
    "\n",
    "E, wf = psi4.energy('scf', return_wfn=True)\n",
    "E"
   ]
  },
  {
   "cell_type": "code",
   "execution_count": 4,
   "id": "258fdbe7-1e8d-4c14-b887-157d30d96626",
   "metadata": {},
   "outputs": [
    {
     "data": {
      "text/plain": [
       "array([ 0,  1,  2,  4,  7,  5,  8,  3,  6,  9, 10, 11, 12])"
      ]
     },
     "execution_count": 4,
     "metadata": {},
     "output_type": "execute_result"
    }
   ],
   "source": [
    "basisset=wf.basisset()\n",
    "#\n",
    "#  C4_MO[p2c[i]] = P4_MO[i]     P4_MO[c2p[i]] = C4_MO[i]\n",
    "#\n",
    "p2c_map, scale = basis_mapping(basisset, verbose=0)\n",
    "#p2c_map\n",
    "naos=len(p2c_map)\n",
    "c2p_map=np.zeros(naos, int)\n",
    "for i in range(naos):\n",
    "    c2p_map[p2c_map[i]] = i\n",
    "c2p_map\n",
    "# Print a new basis set in GENBAS format\n",
    "#print(basisset.genbas())"
   ]
  },
  {
   "cell_type": "code",
   "execution_count": 5,
   "id": "de448687-341f-42ab-87d3-8268f0dbc90d",
   "metadata": {},
   "outputs": [
    {
     "name": "stdout",
     "output_type": "stream",
     "text": [
      "cs: order = 2\n",
      "MOs per irrep (11, 2)\n"
     ]
    }
   ],
   "source": [
    "mol=wf.molecule()\n",
    "ptgr=mol.point_group()\n",
    "print(f'{ptgr.symbol()}: order = {ptgr.order()}')\n",
    "n_irrep=wf.nirrep()\n",
    "g=wf.nmopi()\n",
    "n_mo_pi=g.to_tuple()\n",
    "print('MOs per irrep', n_mo_pi)"
   ]
  },
  {
   "cell_type": "code",
   "execution_count": 6,
   "id": "d71c0b15-0d05-4f83-83d2-e7b8d69745ff",
   "metadata": {},
   "outputs": [
    {
     "name": "stdout",
     "output_type": "stream",
     "text": [
      "((13, 11), (13, 2))\n"
     ]
    },
    {
     "data": {
      "text/plain": [
       "((11, 11), (2, 2))"
      ]
     },
     "execution_count": 6,
     "metadata": {},
     "output_type": "execute_result"
    }
   ],
   "source": [
    "Ls=wf.aotoso()\n",
    "print(Ls.shape)\n",
    "# Psi4 MOs in SO basis\n",
    "C_SO=wf.Ca()\n",
    "#Cb=np.array(wf.Cb())\n",
    "C_SO.shape"
   ]
  },
  {
   "cell_type": "code",
   "execution_count": 7,
   "id": "638b52aa-0693-4eae-ade2-6d56c3c8dac4",
   "metadata": {},
   "outputs": [
    {
     "name": "stdout",
     "output_type": "stream",
     "text": [
      "\n",
      "Symmetry 0\n",
      " 0   1.00000(  0)\n",
      " 1   1.00000(  1)\n",
      " 2   1.00000(  2)\n",
      " 3   1.00000(  4)\n",
      " 4   1.00000(  5)\n",
      " 5   1.00000(  7)\n",
      " 6   1.00000(  8)\n",
      " 7   1.00000(  9)\n",
      " 8   1.00000( 10)\n",
      " 9   1.00000( 11)\n",
      "10   1.00000( 12)\n",
      "Psi4  AO-order: [ 0  1  2  4  5  7  8  9 10 11 12]\n",
      "Cfour AO-order: [ 0  1  2  3  5  4  6  9 10 11 12]\n",
      "Cfour argsorted [ 0  1  2  3  5  4  6  7  8  9 10]\n",
      "And inverted    [ 0  1  2  3  5  4  6  7  8  9 10]\n",
      "How about this  [ 0  1  2  3  5  4  6  7  8  9 10]\n",
      "\n",
      "Symmetry 1\n",
      " 0   1.00000(  3)\n",
      " 1   1.00000(  6)\n",
      "Psi4  AO-order: [3 6]\n",
      "Cfour AO-order: [7 8]\n",
      "Cfour argsorted [0 1]\n",
      "And inverted    [0 1]\n",
      "How about this  [0 1]\n"
     ]
    },
    {
     "data": {
      "text/plain": [
       "((11, 11), (2, 2))"
      ]
     },
     "execution_count": 7,
     "metadata": {},
     "output_type": "execute_result"
    }
   ],
   "source": [
    "irrep_lst = []\n",
    "\n",
    "for isym in range(ptgr.order()):\n",
    "    print(f'\\nSymmetry {isym}')\n",
    "    SOs=SymOrbs(Ls.nph[isym], order=wf.nirrep())\n",
    "    SOs.print()\n",
    "    print('Psi4  AO-order:', SOs.first_AOs())\n",
    "    cfour_first_AOs = p2c_map[SOs.first_AOs()]\n",
    "    print('Cfour AO-order:', cfour_first_AOs)\n",
    "    so_c2p = np.argsort(cfour_first_AOs)\n",
    "    print('Cfour argsorted', so_c2p)\n",
    "    nsos=len(so_c2p)\n",
    "    so_p2c=np.zeros(nsos, int)\n",
    "    for i in range(nsos):\n",
    "        so_p2c[so_c2p[i]] = i\n",
    "    print('And inverted   ', so_p2c)\n",
    "    scale=SOs.inv_coef()\n",
    "\n",
    "    ggg = c2p_map[SOs.first_AOs()]\n",
    "    fff = np.argsort(ggg)\n",
    "    print('How about this ', so_p2c)\n",
    "\n",
    "    \n",
    "    #print('scale', np.round(scale,3))\n",
    "    C=psi4_to_c4(C_SO.nph[isym], so_p2c, scale, use_scale=True)\n",
    "    irrep_lst.append(C)\n",
    "    \n",
    "C_SOr = psi4.core.Matrix.from_array(irrep_lst)\n",
    "C_SOr.shape"
   ]
  },
  {
   "cell_type": "code",
   "execution_count": 8,
   "id": "2f77097c-bf24-4f6f-8f12-7bcb3defac12",
   "metadata": {},
   "outputs": [
    {
     "name": "stdout",
     "output_type": "stream",
     "text": [
      "reading orbitals from ../Cfour/SYM/OLDMOS.Cs_def2-SV\n"
     ]
    }
   ],
   "source": [
    "C4_cs = read_oldmos('../Cfour/SYM/OLDMOS.Cs_'+BASIS, n_mo_pi)"
   ]
  },
  {
   "cell_type": "code",
   "execution_count": 9,
   "id": "293b837a-50c3-4c00-99e6-1dd8a4cbd905",
   "metadata": {},
   "outputs": [
    {
     "name": "stdout",
     "output_type": "stream",
     "text": [
      "          Psi4    reordered    Cfour\n",
      "  0    0.279856   0.279856   0.279856\n",
      "  1    0.556551   0.556551   0.556551\n",
      "  2    0.359496   0.359496   0.359496\n",
      "  3   -0.001544  -0.001544  -0.001544\n",
      "  4   -0.112167   0.001881   0.001881\n",
      "  5    0.001881  -0.112167  -0.112167\n",
      "  6   -0.037292  -0.037292  -0.037292\n",
      "  7    0.174814   0.174814   0.174814\n",
      "  8   -0.014664  -0.014664  -0.014664\n",
      "  9    0.164882   0.164882   0.164882\n",
      " 10   -0.013416  -0.013416  -0.013416\n",
      "1.3117604530377136e-08\n"
     ]
    }
   ],
   "source": [
    "sym=0\n",
    "Corg=C_SO.nph[sym]\n",
    "Creo=C_SOr.nph[sym]\n",
    "Cc4=C4_cs[sym]\n",
    "naos=n_mo_pi[sym]\n",
    "mo=1\n",
    "print('          Psi4    reordered    Cfour')\n",
    "for k in range(naos):\n",
    "    print(f'{k:3d}  {Corg[k,mo]:10.6f} {Creo[k,mo]:10.6f} {Cc4[k,mo]:10.6f}')\n",
    "print(np.max(Creo[:,mo]-Cc4[:,mo]))"
   ]
  },
  {
   "cell_type": "code",
   "execution_count": 10,
   "id": "9715580e-3944-4325-a2da-719441347ec6",
   "metadata": {},
   "outputs": [
    {
     "name": "stdout",
     "output_type": "stream",
     "text": [
      "6.568563388764659e-07\n",
      "7.175229010947248e-08\n"
     ]
    }
   ],
   "source": [
    "#\n",
    "#  comparison Psi4-MOs and Cfour-MOs in their SO representation\n",
    "#\n",
    "for i in range(wf.nirrep()):\n",
    "    print(np.max(abs(C_SOr.nph[i])-abs(C4_cs[i])))"
   ]
  },
  {
   "cell_type": "markdown",
   "id": "8e2cdf94-2b52-4a77-b4fa-f6edae78ad5c",
   "metadata": {},
   "source": [
    "### Get symmetry ordered MOs in AO basis "
   ]
  },
  {
   "cell_type": "code",
   "execution_count": 11,
   "id": "970cc2b3-0cf7-4beb-aa01-a5b75b493559",
   "metadata": {},
   "outputs": [
    {
     "data": {
      "text/plain": [
       "((13, 11), (13, 2))"
      ]
     },
     "execution_count": 11,
     "metadata": {},
     "output_type": "execute_result"
    }
   ],
   "source": [
    "C_AO_pi=AO_MO_by_irrep(wf, verbose=0)\n",
    "C_AO_pi.shape"
   ]
  },
  {
   "cell_type": "markdown",
   "id": "fb974e70-604e-4d69-8050-39f4ec65a681",
   "metadata": {},
   "source": [
    "### Transform to Cfour-SO basis "
   ]
  },
  {
   "cell_type": "code",
   "execution_count": 12,
   "id": "cf05877c-ee01-4524-8ccc-36559debb837",
   "metadata": {},
   "outputs": [
    {
     "name": "stdout",
     "output_type": "stream",
     "text": [
      "((11, 11), (2, 2)) ((11, 11), (2, 2))\n"
     ]
    }
   ],
   "source": [
    "basisset=wf.basisset()\n",
    "mapping, scale = basis_mapping(wf.basisset(), verbose=0)\n",
    "C_SO_pi0=AO_to_SO(C_AO_pi, wf)\n",
    "C_SO_pir=AO_to_Cfour_SO(C_AO_pi, wf, mapping, scale)\n",
    "print(C_SO_pir.shape,C_SO_pir.shape)"
   ]
  },
  {
   "cell_type": "code",
   "execution_count": 20,
   "id": "2676d3fa-ccd2-495f-9d29-b38f076ac7a4",
   "metadata": {},
   "outputs": [
    {
     "name": "stdout",
     "output_type": "stream",
     "text": [
      "        Psi4-org  Psi4-reord   Cfour\n",
      "  1      0.9656     0.0000     0.9656\n",
      "  2     -1.0351     0.0000    -1.0351\n"
     ]
    }
   ],
   "source": [
    "sym=1\n",
    "Cp0=C_SO_pi0.nph[sym]\n",
    "Cpr=C_SO_pir.nph[sym]\n",
    "Cc=C4_cs[sym]\n",
    "naos=n_mo_pi[sym]\n",
    "mo=1\n",
    "print('        Psi4-org  Psi4-reord   Cfour')\n",
    "for k in range(naos):\n",
    "    print(f'{k+1:3d}  {Cp0[k,mo]:10.4f} {Cpr[k,mo]:10.4f} {Cc[k,mo]:10.4f}')"
   ]
  },
  {
   "cell_type": "code",
   "execution_count": 19,
   "id": "1ad728cb-bb1a-4459-9c48-c9b8fb76f90b",
   "metadata": {},
   "outputs": [
    {
     "data": {
      "text/plain": [
       "array([[0., 0.],\n",
       "       [0., 0.]])"
      ]
     },
     "execution_count": 19,
     "metadata": {},
     "output_type": "execute_result"
    }
   ],
   "source": [
    "Cpr"
   ]
  },
  {
   "cell_type": "code",
   "execution_count": 21,
   "id": "1957b7b7-f7ab-47bf-b1ad-1f6d1f6e12be",
   "metadata": {},
   "outputs": [
    {
     "name": "stdout",
     "output_type": "stream",
     "text": [
      "0   delta= 1.593e+00\n",
      "1   delta= 6.965e-08\n"
     ]
    }
   ],
   "source": [
    "for sym in range(n_irrep):\n",
    "    d=np.max(C_SO_pi.nph[sym]-C4_cs[sym])\n",
    "    print(f'{sym}   delta={d:10.3e}')"
   ]
  },
  {
   "cell_type": "code",
   "execution_count": null,
   "id": "fd4d6b40-898f-40d9-a02f-104e62fa526c",
   "metadata": {},
   "outputs": [],
   "source": []
  },
  {
   "cell_type": "code",
   "execution_count": null,
   "id": "25e28a69-2891-4471-85e8-9c97ea407e80",
   "metadata": {},
   "outputs": [],
   "source": []
  },
  {
   "cell_type": "code",
   "execution_count": 24,
   "id": "f67178f4-0cc8-4689-bb2b-e73a6b401313",
   "metadata": {},
   "outputs": [],
   "source": [
    "Ca_C4 = psi4_to_c4(Ca, mapping, scale)\n",
    "Cb_C4 = psi4_to_c4(Cb, mapping, scale)"
   ]
  },
  {
   "cell_type": "code",
   "execution_count": 25,
   "id": "3d050627-38ea-48bf-866a-c40380460f32",
   "metadata": {},
   "outputs": [],
   "source": [
    "write_oldmos('PSIMOS', Ca_C4, Cbs=Cb_C4)"
   ]
  },
  {
   "cell_type": "code",
   "execution_count": null,
   "id": "db1567d6-2ccd-4507-afea-4e3ce7a7cda5",
   "metadata": {},
   "outputs": [],
   "source": []
  }
 ],
 "metadata": {
  "kernelspec": {
   "display_name": "Python 3",
   "language": "python",
   "name": "python3"
  },
  "language_info": {
   "codemirror_mode": {
    "name": "ipython",
    "version": 3
   },
   "file_extension": ".py",
   "mimetype": "text/x-python",
   "name": "python",
   "nbconvert_exporter": "python",
   "pygments_lexer": "ipython3",
   "version": "3.7.11"
  }
 },
 "nbformat": 4,
 "nbformat_minor": 5
}
