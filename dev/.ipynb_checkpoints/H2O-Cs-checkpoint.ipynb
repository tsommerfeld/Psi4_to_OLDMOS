{
 "cells": [
  {
   "cell_type": "code",
   "execution_count": 3,
   "id": "d7ecbca4-8ad3-487a-a558-989e384a9bcd",
   "metadata": {},
   "outputs": [],
   "source": [
    "import psi4\n",
    "import numpy as np\n",
    "import sys\n",
    "sys.path.append('../lib')\n",
    "from P4toC4_aux import *"
   ]
  },
  {
   "cell_type": "code",
   "execution_count": 5,
   "id": "8a17d663-1d23-46cd-a74d-7e3c0dac2a56",
   "metadata": {},
   "outputs": [
    {
     "name": "stdout",
     "output_type": "stream",
     "text": [
      "reading orbitals from ../Cfour/SYM/OLDMOS.Cs\n"
     ]
    }
   ],
   "source": [
    "C4_cs = read_oldmos('../Cfour/SYM/OLDMOS.Cs', [6,1])"
   ]
  },
  {
   "cell_type": "code",
   "execution_count": 6,
   "id": "d519c289-1467-45fb-b88b-83a64940d014",
   "metadata": {},
   "outputs": [
    {
     "data": {
      "text/plain": [
       "-74.96391080920293"
      ]
     },
     "execution_count": 6,
     "metadata": {},
     "output_type": "execute_result"
    }
   ],
   "source": [
    "psi4.set_memory('500 MB')\n",
    "psi4.core.set_global_option(\"BASIS\", \"sto-3g\")\n",
    "psi4.core.set_global_option(\"SCF_TYPE\", \"pk\")\n",
    "psi4.core.set_global_option(\"REFERENCE\", \"RHF\")\n",
    "psi4.core.set_global_option(\"D_CONVERGENCE\", 1e-8)\n",
    "psi4.core.set_global_option(\"PUREAM\", \"True\")\n",
    "psi4.core.set_output_file('output.dat', False)\n",
    "\n",
    "# O\n",
    "# H 1 0.96\n",
    "# H 1 0.96 2 104.5\n",
    "\n",
    "h2o = psi4.geometry(\"\"\"\n",
    "0 1\n",
    "O           -0.005580556816     0.124770196240     0.000000000000\n",
    "H           -1.409609476816    -1.024054213760     0.000000000000\n",
    "H            1.498176963184    -0.956139343760     0.000000000000\n",
    "units Bohr\n",
    "no_reorient\n",
    "\"\"\")\n",
    "\n",
    "E, wf = psi4.energy('scf', return_wfn=True)\n",
    "E"
   ]
  },
  {
   "cell_type": "code",
   "execution_count": 7,
   "id": "e93d39c6-5906-4b0f-9f95-790fd54fc3b1",
   "metadata": {},
   "outputs": [
    {
     "name": "stdout",
     "output_type": "stream",
     "text": [
      "cs 2\n"
     ]
    }
   ],
   "source": [
    "mol=wf.molecule()\n",
    "ptgr=mol.point_group()\n",
    "print(ptgr.symbol(), ptgr.order())"
   ]
  },
  {
   "cell_type": "code",
   "execution_count": 8,
   "id": "258fdbe7-1e8d-4c14-b887-157d30d96626",
   "metadata": {},
   "outputs": [],
   "source": [
    "# Print a new basis set in GENBAS format\n",
    "basisset=wf.basisset()\n",
    "#print(basisset.genbas())"
   ]
  },
  {
   "cell_type": "code",
   "execution_count": 9,
   "id": "680a8401-061f-4180-8cb9-5a9ea818f2e6",
   "metadata": {},
   "outputs": [
    {
     "data": {
      "text/plain": [
       "array([0, 1, 4, 2, 3, 5, 6])"
      ]
     },
     "execution_count": 9,
     "metadata": {},
     "output_type": "execute_result"
    }
   ],
   "source": [
    "mapping, scale = basis_mapping(wf.basisset(), verbose=0)\n",
    "mapping"
   ]
  },
  {
   "cell_type": "code",
   "execution_count": 6,
   "id": "de448687-341f-42ab-87d3-8268f0dbc90d",
   "metadata": {},
   "outputs": [
    {
     "data": {
      "text/plain": [
       "[array([-20.24262218,  -1.26148562,  -0.61196634,  -0.45026917,\n",
       "          0.59134088,   0.72961407]),\n",
       " array([-0.39008602])]"
      ]
     },
     "execution_count": 6,
     "metadata": {},
     "output_type": "execute_result"
    }
   ],
   "source": [
    "psi4.core.Vector.array_interface(wf.epsilon_a())"
   ]
  },
  {
   "cell_type": "code",
   "execution_count": 11,
   "id": "d71c0b15-0d05-4f83-83d2-e7b8d69745ff",
   "metadata": {},
   "outputs": [],
   "source": [
    "# Psi4\n",
    "Ca=wf.Ca()\n",
    "#Cb=np.array(wf.Cb())"
   ]
  },
  {
   "cell_type": "code",
   "execution_count": 12,
   "id": "3ae6caad-857f-41d9-8226-634f03471a98",
   "metadata": {},
   "outputs": [
    {
     "data": {
      "text/plain": [
       "((6, 6), (1, 1))"
      ]
     },
     "execution_count": 12,
     "metadata": {},
     "output_type": "execute_result"
    }
   ],
   "source": [
    "Ca.shape"
   ]
  },
  {
   "cell_type": "code",
   "execution_count": 13,
   "id": "293b837a-50c3-4c00-99e6-1dd8a4cbd905",
   "metadata": {},
   "outputs": [
    {
     "data": {
      "text/plain": [
       "(array([[ 9.94158616e-01,  2.33318779e-01,  3.25678536e-03,\n",
       "          1.02160791e-01,  1.30288373e-01,  1.15041853e-02],\n",
       "        [ 2.63047218e-02, -8.38213877e-01, -1.77263554e-02,\n",
       "         -5.31043974e-01, -8.59997419e-01, -8.42061361e-02],\n",
       "        [-8.57883491e-06,  1.50998145e-03, -6.04682049e-01,\n",
       "          3.08286109e-02, -9.53036679e-02,  9.79720354e-01],\n",
       "        [-4.21140198e-03,  1.24846086e-01, -2.86266450e-02,\n",
       "         -7.74819295e-01,  7.33875191e-01,  9.11576117e-02],\n",
       "        [-5.96714175e-03, -1.61730307e-01,  4.45858226e-01,\n",
       "          2.75644066e-01,  7.29782613e-01,  8.93396408e-01],\n",
       "        [-5.70344400e-03, -1.54033146e-01, -4.45125144e-01,\n",
       "          2.89100795e-01,  8.41536318e-01, -7.56741617e-01]]),\n",
       " array([[1.]]))"
      ]
     },
     "execution_count": 13,
     "metadata": {},
     "output_type": "execute_result"
    }
   ],
   "source": [
    "Ca.nph"
   ]
  },
  {
   "cell_type": "code",
   "execution_count": 16,
   "id": "9715580e-3944-4325-a2da-719441347ec6",
   "metadata": {},
   "outputs": [
    {
     "name": "stdout",
     "output_type": "stream",
     "text": [
      "1.3528361320069848e-08\n",
      "2.220446049250313e-16\n"
     ]
    }
   ],
   "source": [
    "#\n",
    "#  at least for STO-3G the SO coefficients are identical, no reordering needed.\n",
    "#\n",
    "for i in range(wf.nirrep()):\n",
    "    print(np.max(Ca.nph[i]-C4_cs[i]))"
   ]
  },
  {
   "cell_type": "code",
   "execution_count": null,
   "id": "4242437c-a90e-487c-b6a6-3041a38a791c",
   "metadata": {},
   "outputs": [],
   "source": []
  },
  {
   "cell_type": "code",
   "execution_count": 11,
   "id": "9586a993-dc3a-4a83-bea2-c6345f36e997",
   "metadata": {},
   "outputs": [
    {
     "name": "stdout",
     "output_type": "stream",
     "text": [
      "reading orbitals from ../Cfour/SYM/OLDMOS.Cs\n"
     ]
    },
    {
     "ename": "TypeError",
     "evalue": "'builtin_function_or_method' object is not subscriptable",
     "output_type": "error",
     "traceback": [
      "\u001b[0;31m---------------------------------------------------------------------------\u001b[0m",
      "\u001b[0;31mTypeError\u001b[0m                                 Traceback (most recent call last)",
      "\u001b[0;32m<ipython-input-11-903997acf4ec>\u001b[0m in \u001b[0;36m<module>\u001b[0;34m\u001b[0m\n\u001b[0;32m----> 1\u001b[0;31m \u001b[0mread_oldmos\u001b[0m\u001b[0;34m(\u001b[0m\u001b[0;34m'../Cfour/SYM/OLDMOS.Cs'\u001b[0m\u001b[0;34m,\u001b[0m \u001b[0;34m[\u001b[0m\u001b[0;36m6\u001b[0m\u001b[0;34m,\u001b[0m\u001b[0;36m1\u001b[0m\u001b[0;34m]\u001b[0m\u001b[0;34m)\u001b[0m\u001b[0;34m\u001b[0m\u001b[0;34m\u001b[0m\u001b[0m\n\u001b[0m",
      "\u001b[0;32m~/Current_Work/Psi4/PsiMOs/lib/P4toC4_aux.py\u001b[0m in \u001b[0;36mread_oldmos\u001b[0;34m(fname, nmos, RHF, verbose)\u001b[0m\n\u001b[1;32m    263\u001b[0m     \u001b[0;32mfor\u001b[0m \u001b[0mi\u001b[0m \u001b[0;32min\u001b[0m \u001b[0mrange\u001b[0m\u001b[0;34m(\u001b[0m\u001b[0mnirrep\u001b[0m\u001b[0;34m)\u001b[0m\u001b[0;34m:\u001b[0m\u001b[0;34m\u001b[0m\u001b[0;34m\u001b[0m\u001b[0m\n\u001b[1;32m    264\u001b[0m         \u001b[0mnc\u001b[0m \u001b[0;34m=\u001b[0m \u001b[0mnmos\u001b[0m\u001b[0;34m[\u001b[0m\u001b[0mi\u001b[0m\u001b[0;34m]\u001b[0m\u001b[0;34m\u001b[0m\u001b[0;34m\u001b[0m\u001b[0m\n\u001b[0;32m--> 265\u001b[0;31m         \u001b[0mCs\u001b[0m\u001b[0;34m.\u001b[0m\u001b[0mappend\u001b[0m\u001b[0;34m(\u001b[0m\u001b[0mnp\u001b[0m\u001b[0;34m.\u001b[0m\u001b[0mzeros\u001b[0m\u001b[0;34m[\u001b[0m\u001b[0mnc\u001b[0m\u001b[0;34m,\u001b[0m\u001b[0mnc\u001b[0m\u001b[0;34m]\u001b[0m\u001b[0;34m)\u001b[0m\u001b[0;34m\u001b[0m\u001b[0;34m\u001b[0m\u001b[0m\n\u001b[0m\u001b[1;32m    266\u001b[0m         \u001b[0;32mfor\u001b[0m \u001b[0mjmo\u001b[0m \u001b[0;32min\u001b[0m \u001b[0mrange\u001b[0m\u001b[0;34m(\u001b[0m\u001b[0;36m0\u001b[0m\u001b[0;34m,\u001b[0m \u001b[0mnc\u001b[0m\u001b[0;34m,\u001b[0m \u001b[0;36m4\u001b[0m\u001b[0;34m)\u001b[0m\u001b[0;34m:\u001b[0m\u001b[0;34m\u001b[0m\u001b[0;34m\u001b[0m\u001b[0m\n\u001b[1;32m    267\u001b[0m             \u001b[0;32mfor\u001b[0m \u001b[0mao\u001b[0m \u001b[0;32min\u001b[0m \u001b[0mrange\u001b[0m\u001b[0;34m(\u001b[0m\u001b[0;36m0\u001b[0m\u001b[0;34m,\u001b[0m \u001b[0mnc\u001b[0m\u001b[0;34m)\u001b[0m\u001b[0;34m:\u001b[0m\u001b[0;34m\u001b[0m\u001b[0;34m\u001b[0m\u001b[0m\n",
      "\u001b[0;31mTypeError\u001b[0m: 'builtin_function_or_method' object is not subscriptable"
     ]
    }
   ],
   "source": []
  },
  {
   "cell_type": "code",
   "execution_count": null,
   "id": "1219be64-174c-47bb-9745-62b86ee462f2",
   "metadata": {},
   "outputs": [],
   "source": []
  },
  {
   "cell_type": "code",
   "execution_count": 24,
   "id": "f67178f4-0cc8-4689-bb2b-e73a6b401313",
   "metadata": {},
   "outputs": [],
   "source": [
    "Ca_C4 = psi4_to_c4(Ca, mapping, scale)\n",
    "Cb_C4 = psi4_to_c4(Cb, mapping, scale)"
   ]
  },
  {
   "cell_type": "code",
   "execution_count": 25,
   "id": "3d050627-38ea-48bf-866a-c40380460f32",
   "metadata": {},
   "outputs": [],
   "source": [
    "write_oldmos('PSIMOS', Ca_C4, Cbs=Cb_C4)"
   ]
  },
  {
   "cell_type": "code",
   "execution_count": null,
   "id": "db1567d6-2ccd-4507-afea-4e3ce7a7cda5",
   "metadata": {},
   "outputs": [],
   "source": []
  }
 ],
 "metadata": {
  "kernelspec": {
   "display_name": "Python 3",
   "language": "python",
   "name": "python3"
  },
  "language_info": {
   "codemirror_mode": {
    "name": "ipython",
    "version": 3
   },
   "file_extension": ".py",
   "mimetype": "text/x-python",
   "name": "python",
   "nbconvert_exporter": "python",
   "pygments_lexer": "ipython3",
   "version": "3.7.11"
  }
 },
 "nbformat": 4,
 "nbformat_minor": 5
}
