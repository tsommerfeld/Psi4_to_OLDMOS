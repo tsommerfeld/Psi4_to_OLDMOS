{
 "cells": [
  {
   "cell_type": "code",
   "execution_count": 1,
   "id": "d7ecbca4-8ad3-487a-a558-989e384a9bcd",
   "metadata": {},
   "outputs": [],
   "source": [
    "import psi4\n",
    "import numpy as np\n",
    "import sys\n",
    "sys.path.append('../lib')\n",
    "from P4toC4_aux import *"
   ]
  },
  {
   "cell_type": "code",
   "execution_count": 7,
   "id": "d519c289-1467-45fb-b88b-83a64940d014",
   "metadata": {},
   "outputs": [
    {
     "data": {
      "text/plain": [
       "-74.96331905260071"
      ]
     },
     "execution_count": 7,
     "metadata": {},
     "output_type": "execute_result"
    }
   ],
   "source": [
    "psi4.set_memory('500 MB')\n",
    "psi4.core.set_global_option(\"BASIS\", \"sto-3g\")\n",
    "psi4.core.set_global_option(\"SCF_TYPE\", \"pk\")\n",
    "psi4.core.set_global_option(\"REFERENCE\", \"RHF\")\n",
    "psi4.core.set_global_option(\"D_CONVERGENCE\", 1e-8)\n",
    "psi4.core.set_global_option(\"PUREAM\", \"True\")\n",
    "psi4.core.set_output_file('output.dat', False)\n",
    "\n",
    "# O\n",
    "# H 1 0.96\n",
    "# H 1 0.96 2 104.5\n",
    "\n",
    "h2o = psi4.geometry(\"\"\"\n",
    "0 1\n",
    "O            0.000000000000     0.000000000000    -0.065775570547\n",
    "H            0.000000000000    -0.759061990794     0.521953018286\n",
    "H            0.000000000000     0.759061990794     0.521953018286\n",
    "no_reorient\n",
    "\"\"\")\n",
    "\n",
    "E, wf = psi4.energy('scf', return_wfn=True)\n",
    "E"
   ]
  },
  {
   "cell_type": "code",
   "execution_count": 15,
   "id": "258fdbe7-1e8d-4c14-b887-157d30d96626",
   "metadata": {},
   "outputs": [],
   "source": [
    "# Print a new basis set in GENBAS format\n",
    "basisset=wf.basisset()\n",
    "#print(basisset.genbas())"
   ]
  },
  {
   "cell_type": "code",
   "execution_count": 23,
   "id": "680a8401-061f-4180-8cb9-5a9ea818f2e6",
   "metadata": {},
   "outputs": [
    {
     "data": {
      "text/plain": [
       "array([ 0,  1,  2,  7,  3,  5,  8,  4,  6,  9, 11, 13, 12, 10, 14, 15, 18,\n",
       "       16, 17, 19, 20, 23, 21, 22])"
      ]
     },
     "execution_count": 23,
     "metadata": {},
     "output_type": "execute_result"
    }
   ],
   "source": [
    "mapping, scale = basis_mapping(wf.basisset(), verbose=0)\n",
    "mapping"
   ]
  },
  {
   "cell_type": "code",
   "execution_count": 12,
   "id": "de448687-341f-42ab-87d3-8268f0dbc90d",
   "metadata": {},
   "outputs": [
    {
     "data": {
      "text/plain": [
       "[array([-20.24209878,  -1.26699811,  -0.45270347,   0.60291843]),\n",
       " array([], dtype=float64),\n",
       " array([-0.39107408]),\n",
       " array([-0.61642276,  0.73901693])]"
      ]
     },
     "execution_count": 12,
     "metadata": {},
     "output_type": "execute_result"
    }
   ],
   "source": [
    "psi4.core.Vector.array_interface(wf.epsilon_a())"
   ]
  },
  {
   "cell_type": "code",
   "execution_count": 5,
   "id": "df54da6e-e9d5-4074-aeab-7ac53ab516ca",
   "metadata": {},
   "outputs": [
    {
     "name": "stdout",
     "output_type": "stream",
     "text": [
      "Na=5  Nb=5\n"
     ]
    },
    {
     "name": "stderr",
     "output_type": "stream",
     "text": [
      "/home/thomas/anaconda3/envs/psi4/lib/python3.7/site-packages/ipykernel_launcher.py:3: DeprecationWarning: An exception was ignored while fetching the attribute `__array_interface__` from an object of type 'psi4.core.Vector'.  With the exception of `AttributeError` NumPy will always raise this exception in the future.  Raise this deprecation warning to see the original exception. (Warning added NumPy 1.21)\n",
      "  This is separate from the ipykernel package so we can avoid doing imports until\n",
      "/home/thomas/anaconda3/envs/psi4/lib/python3.7/site-packages/ipykernel_launcher.py:4: DeprecationWarning: An exception was ignored while fetching the attribute `__array_interface__` from an object of type 'psi4.core.Vector'.  With the exception of `AttributeError` NumPy will always raise this exception in the future.  Raise this deprecation warning to see the original exception. (Warning added NumPy 1.21)\n",
      "  after removing the cwd from sys.path.\n"
     ]
    },
    {
     "ename": "IndexError",
     "evalue": "too many indices for array: array is 0-dimensional, but 1 were indexed",
     "output_type": "error",
     "traceback": [
      "\u001b[0;31m---------------------------------------------------------------------------\u001b[0m",
      "\u001b[0;31mIndexError\u001b[0m                                Traceback (most recent call last)",
      "\u001b[0;32m<ipython-input-5-086cc19bff68>\u001b[0m in \u001b[0;36m<module>\u001b[0;34m\u001b[0m\n\u001b[1;32m      6\u001b[0m \u001b[0;34m\u001b[0m\u001b[0m\n\u001b[1;32m      7\u001b[0m \u001b[0;32mfor\u001b[0m \u001b[0mi\u001b[0m \u001b[0;32min\u001b[0m \u001b[0mrange\u001b[0m\u001b[0;34m(\u001b[0m\u001b[0;36m0\u001b[0m\u001b[0;34m,\u001b[0m\u001b[0mmax\u001b[0m\u001b[0;34m(\u001b[0m\u001b[0mn_a\u001b[0m\u001b[0;34m,\u001b[0m\u001b[0mn_b\u001b[0m\u001b[0;34m)\u001b[0m\u001b[0;34m+\u001b[0m\u001b[0;36m2\u001b[0m\u001b[0;34m)\u001b[0m\u001b[0;34m:\u001b[0m\u001b[0;34m\u001b[0m\u001b[0;34m\u001b[0m\u001b[0m\n\u001b[0;32m----> 8\u001b[0;31m     \u001b[0mprint\u001b[0m\u001b[0;34m(\u001b[0m\u001b[0;34mf' {i+1:3d}  {eps_a[i]*s:10.4f} {eps_b[i]*s:10.4f}'\u001b[0m\u001b[0;34m)\u001b[0m\u001b[0;34m\u001b[0m\u001b[0;34m\u001b[0m\u001b[0m\n\u001b[0m",
      "\u001b[0;31mIndexError\u001b[0m: too many indices for array: array is 0-dimensional, but 1 were indexed"
     ]
    }
   ],
   "source": [
    "n_a, n_b = wf.nalpha(), wf.nbeta()\n",
    "print(f'Na={n_a}  Nb={n_b}')\n",
    "eps_a = np.array(wf.epsilon_a())\n",
    "eps_b = np.array(wf.epsilon_a())\n",
    "s=27.2114\n",
    "\n",
    "for i in range(0,max(n_a,n_b)+2):\n",
    "    print(f' {i+1:3d}  {eps_a[i]*s:10.4f} {eps_b[i]*s:10.4f}')"
   ]
  },
  {
   "cell_type": "code",
   "execution_count": 22,
   "id": "d71c0b15-0d05-4f83-83d2-e7b8d69745ff",
   "metadata": {},
   "outputs": [],
   "source": [
    "# Psi4\n",
    "Ca=np.array(wf.Ca())\n",
    "Cb=np.array(wf.Cb())"
   ]
  },
  {
   "cell_type": "code",
   "execution_count": 24,
   "id": "f67178f4-0cc8-4689-bb2b-e73a6b401313",
   "metadata": {},
   "outputs": [],
   "source": [
    "Ca_C4 = psi4_to_c4(Ca, mapping, scale)\n",
    "Cb_C4 = psi4_to_c4(Cb, mapping, scale)"
   ]
  },
  {
   "cell_type": "code",
   "execution_count": 25,
   "id": "3d050627-38ea-48bf-866a-c40380460f32",
   "metadata": {},
   "outputs": [],
   "source": [
    "write_oldmos('PSIMOS', Ca_C4, Cbs=Cb_C4)"
   ]
  },
  {
   "cell_type": "code",
   "execution_count": null,
   "id": "db1567d6-2ccd-4507-afea-4e3ce7a7cda5",
   "metadata": {},
   "outputs": [],
   "source": []
  }
 ],
 "metadata": {
  "kernelspec": {
   "display_name": "Python 3",
   "language": "python",
   "name": "python3"
  },
  "language_info": {
   "codemirror_mode": {
    "name": "ipython",
    "version": 3
   },
   "file_extension": ".py",
   "mimetype": "text/x-python",
   "name": "python",
   "nbconvert_exporter": "python",
   "pygments_lexer": "ipython3",
   "version": "3.7.11"
  }
 },
 "nbformat": 4,
 "nbformat_minor": 5
}
