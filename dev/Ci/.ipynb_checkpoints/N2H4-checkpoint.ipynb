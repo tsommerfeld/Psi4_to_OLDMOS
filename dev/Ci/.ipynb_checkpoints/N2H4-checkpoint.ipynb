{
 "cells": [
  {
   "cell_type": "code",
   "execution_count": 2,
   "id": "d7ecbca4-8ad3-487a-a558-989e384a9bcd",
   "metadata": {},
   "outputs": [],
   "source": [
    "import os\n",
    "import sys\n",
    "curr_dir=os.getcwd()\n",
    "p=curr_dir.find('dev')\n",
    "root=curr_dir[:p]\n",
    "sys.path.append(root+'lib')\n",
    "import psi4\n",
    "import numpy as np\n",
    "from P4toC4_aux import *\n",
    "from SO_aux import SymOrbs"
   ]
  },
  {
   "cell_type": "code",
   "execution_count": 3,
   "id": "1ac7ace9-77d2-42e9-95c9-6307dcc99058",
   "metadata": {},
   "outputs": [],
   "source": [
    "#BASIS='STO-3G'\n",
    "#BASIS='def2-SV'\n",
    "BASIS='CC-PVDZ'"
   ]
  },
  {
   "cell_type": "code",
   "execution_count": 4,
   "id": "d519c289-1467-45fb-b88b-83a64940d014",
   "metadata": {},
   "outputs": [
    {
     "data": {
      "text/plain": [
       "-56.194987542460474"
      ]
     },
     "execution_count": 4,
     "metadata": {},
     "output_type": "execute_result"
    }
   ],
   "source": [
    "psi4.set_memory('500 MB')\n",
    "psi4.core.set_global_option(\"BASIS\", BASIS)\n",
    "psi4.core.set_global_option(\"SCF_TYPE\", \"pk\")\n",
    "psi4.core.set_global_option(\"REFERENCE\", \"RHF\")\n",
    "psi4.core.set_global_option(\"D_CONVERGENCE\", 1e-8)\n",
    "psi4.core.set_global_option(\"PUREAM\", \"True\")\n",
    "psi4.core.set_output_file('output.dat', False)\n",
    "\n",
    "mol = psi4.geometry(\"\"\"\n",
    "0 1\n",
    "N    0.00000000     0.12321896     0.00000000\n",
    "H    1.79828758    -0.57068247     0.00000000\n",
    "H   -0.89914379    -0.57068247     1.55736273\n",
    "H   -0.89914379    -0.57068247    -1.55736273\n",
    "\n",
    "no_reorient\n",
    "units Bohr\n",
    "\"\"\")\n",
    "\n",
    "E, wf = psi4.energy('scf', return_wfn=True)\n",
    "E"
   ]
  },
  {
   "cell_type": "code",
   "execution_count": 5,
   "id": "258fdbe7-1e8d-4c14-b887-157d30d96626",
   "metadata": {},
   "outputs": [],
   "source": [
    "basisset=wf.basisset()\n",
    "#\n",
    "#  C4_MO[p2c[i]] = P4_MO[i]     P4_MO[c2p[i]] = C4_MO[i]\n",
    "#\n",
    "p2c_map, p2c_scale = basis_mapping(basisset, verbose=0)\n",
    "#print(p2c_map)\n",
    "#print(np.round(p2c_scale,3))\n",
    "naos=len(p2c_map)\n",
    "c2p_map=np.zeros(naos, int)\n",
    "for i in range(naos):\n",
    "    c2p_map[p2c_map[i]] = i   \n",
    "#c2p_map\n",
    "# Print a new basis set in GENBAS format\n",
    "#print(basisset.genbas())"
   ]
  },
  {
   "cell_type": "code",
   "execution_count": 6,
   "id": "de448687-341f-42ab-87d3-8268f0dbc90d",
   "metadata": {
    "tags": []
   },
   "outputs": [
    {
     "name": "stdout",
     "output_type": "stream",
     "text": [
      "cs: order = 2\n",
      "MOs per irrep (19, 10)\n"
     ]
    }
   ],
   "source": [
    "mol=wf.molecule()\n",
    "ptgr=mol.point_group()\n",
    "print(f'{ptgr.symbol()}: order = {ptgr.order()}')\n",
    "n_irrep=wf.nirrep()\n",
    "g=wf.nmopi()\n",
    "n_mo_pi=g.to_tuple()\n",
    "print('MOs per irrep', n_mo_pi)"
   ]
  },
  {
   "cell_type": "code",
   "execution_count": 7,
   "id": "d71c0b15-0d05-4f83-83d2-e7b8d69745ff",
   "metadata": {
    "tags": []
   },
   "outputs": [
    {
     "name": "stdout",
     "output_type": "stream",
     "text": [
      "SO dimensions: ((29, 19), (29, 10))\n",
      "MO dimensions: ((19, 19), (10, 10))\n"
     ]
    }
   ],
   "source": [
    "Ls=wf.aotoso()\n",
    "print('SO dimensions:', Ls.shape)\n",
    "# Psi4 MOs in SO basis\n",
    "C_SO=wf.Ca()\n",
    "#Cb=np.array(wf.Cb())\n",
    "print('MO dimensions:', C_SO.shape)"
   ]
  },
  {
   "cell_type": "markdown",
   "id": "7fdd7b1d-4e57-4fbc-88a8-86f4b1d821e2",
   "metadata": {},
   "source": [
    "### Psi4-MO to Cfour-MO\n",
    "\n",
    "* Both are in SO representation.\n",
    "* Any AO can contribute to only one SO[irrep], if at all.\n",
    "* The first AO in an SO is relevant; the following are on symmetry-equivalent atoms.\n",
    "* The mapping of the SOs is the arg-sorted Cfour-mapped first-AO list.\n",
    "  * Create the first-AO list in Psi4 AO-order.\n",
    "  * Create the first-AO list in Cfour AO-order (`p2c_map`).\n",
    "  * Use `np.argsort` to find the Cfour-to-Psi4 SO mapping `so_c2p`.\n",
    "  * Invert to find the Psi4-to-Cfour mapping `so_p2c`.\n",
    "  * Use `so_p2c` to reorder the Psi4-MO vectors.\n",
    "* At the same time the Psi4 MO coefficients must be scaled.\n",
    "  * One factor is the AO-scaling also needed in C1.\n",
    "  * The other factor is the SO normalization. Psi4 uses normalized SOs, Cfour does not. "
   ]
  },
  {
   "cell_type": "code",
   "execution_count": 8,
   "id": "638b52aa-0693-4eae-ade2-6d56c3c8dac4",
   "metadata": {
    "tags": []
   },
   "outputs": [
    {
     "name": "stdout",
     "output_type": "stream",
     "text": [
      "\n",
      "Irrep 0\n",
      "AO-order  AO-order   Cfour    argsort    AO     SO\n",
      "  Psi4     Cfour    argsort   inverted  scale  scale\n",
      "   0        0          0         0      1.000  1.000\n",
      "   1        1          1         1      1.000  1.000\n",
      "   2        2          2         2      1.000  1.000\n",
      "   4        3          3         3      1.000  1.000\n",
      "   5        5          5         5      1.000  1.000\n",
      "   7        4          4         4      1.000  1.000\n",
      "   8        6          6         6      1.000  1.000\n",
      "   9        9          7         7      3.464  1.000\n",
      "  12       12          9         9      2.000  1.000\n",
      "  13       10          8         8      1.000  1.000\n",
      "  14       14         10        10      1.000  1.000\n",
      "  15       15         11        11      1.000  1.000\n",
      "  17       16         12        12      1.000  1.000\n",
      "  18       17         13        13      1.000  1.000\n",
      "  19       19         14        14      1.000  1.414\n",
      "  20       20         15        15      1.000  1.414\n",
      "  21       23         17        18      1.000  1.414\n",
      "  22       21         18        16      1.000  1.414\n",
      "  23       22         16        17      1.000  1.414\n",
      "\n",
      "Irrep 1\n",
      "AO-order  AO-order   Cfour    argsort    AO     SO\n",
      "  Psi4     Cfour    argsort   inverted  scale  scale\n",
      "   3        7          0         0      1.000  1.000\n",
      "   6        8          1         1      1.000  1.000\n",
      "  10       11          2         2      1.000  1.000\n",
      "  11       13          3         3      1.000  1.000\n",
      "  16       18          4         4      1.000  1.000\n",
      "  19       19          5         5      1.000  1.414\n",
      "  20       20          6         6      1.000  1.414\n",
      "  21       23          8         9      1.000  1.414\n",
      "  22       21          9         7      1.000  1.414\n",
      "  23       22          7         8      1.000  1.414\n"
     ]
    }
   ],
   "source": [
    "irrep_lst = []\n",
    "\n",
    "for isym in range(ptgr.order()):\n",
    "    SOs=SymOrbs(Ls.nph[isym], order=wf.nirrep())\n",
    "    #SOs.print()\n",
    "    p4_first_AOs = SOs.first_AOs()\n",
    "    cfour_first_AOs = p2c_map[SOs.first_AOs()]\n",
    "    ao_scale = p2c_scale[SOs.first_AOs()]\n",
    "    so_c2p = np.argsort(cfour_first_AOs)\n",
    "    nsos=len(so_c2p)\n",
    "    so_p2c=np.zeros(nsos, int)\n",
    "    for i in range(nsos):\n",
    "        so_p2c[so_c2p[i]] = i\n",
    "    so_scale=SOs.inv_coef()\n",
    "    scale = so_scale*ao_scale\n",
    "    C=psi4_to_c4(C_SO.nph[isym], so_p2c, scale, use_scale=True)\n",
    "    irrep_lst.append(C)\n",
    "    print(f'\\nIrrep {isym}')\n",
    "    print('AO-order  AO-order   Cfour    argsort    AO     SO')\n",
    "    print('  Psi4     Cfour    argsort   inverted  scale  scale')\n",
    "    for i in range(nsos):\n",
    "        print(f'{p4_first_AOs[i]:4d}{cfour_first_AOs[i]:9d}', end='')\n",
    "        print(f'{so_c2p[i]:11d}{so_p2c[i]:10d}', end='')\n",
    "        print(f'{ao_scale[i]:11.3f}{so_scale[i]:7.3f}')\n",
    "    \n",
    "C_SOr = psi4.core.Matrix.from_array(irrep_lst)\n",
    "#C_SOr.shape"
   ]
  },
  {
   "cell_type": "markdown",
   "id": "de526f0b-d782-4ef0-be4b-aa366c672657",
   "metadata": {},
   "source": [
    "### Compare with Cfour MOs"
   ]
  },
  {
   "cell_type": "code",
   "execution_count": 9,
   "id": "2f77097c-bf24-4f6f-8f12-7bcb3defac12",
   "metadata": {},
   "outputs": [
    {
     "name": "stdout",
     "output_type": "stream",
     "text": [
      "reading orbitals from OLDMOS.CC-PVDZ\n"
     ]
    }
   ],
   "source": [
    "C4_cs = read_oldmos('OLDMOS.'+BASIS, n_mo_pi)"
   ]
  },
  {
   "cell_type": "code",
   "execution_count": 10,
   "id": "293b837a-50c3-4c00-99e6-1dd8a4cbd905",
   "metadata": {},
   "outputs": [
    {
     "name": "stdout",
     "output_type": "stream",
     "text": [
      "          Psi4    reordered    Cfour\n",
      "  0    0.000557   0.000557   0.000557\n",
      "  1    0.135227   0.135227   0.135227\n",
      "  2    0.285136   0.285136   0.285136\n",
      "  3    0.000000   0.000000   0.000000\n",
      "  4    0.546099   0.000000   0.000000\n",
      "  5    0.000000   0.546099   0.546099\n",
      "  6    0.469090   0.469090   0.469090\n",
      "  7    0.009419   0.002719   0.002719\n",
      "  8    0.016314   0.000000   0.000000\n",
      "  9    0.000000   0.008157   0.008157\n",
      " 10   -0.091120  -0.091120  -0.091120\n",
      " 11   -0.033749  -0.033749  -0.033749\n",
      " 12    0.012583   0.012583   0.012583\n",
      " 13    0.018589   0.018589   0.018589\n",
      " 14   -0.128864  -0.091120  -0.091120\n",
      " 15   -0.047728  -0.033749  -0.033749\n",
      " 16    0.015411  -0.006292  -0.006292\n",
      " 17   -0.008898   0.018589   0.018589\n",
      " 18    0.026289   0.010897   0.010897\n",
      "1.0713370135473355e-08\n"
     ]
    }
   ],
   "source": [
    "sym=0\n",
    "Corg=C_SO.nph[sym]\n",
    "Creo=C_SOr.nph[sym]\n",
    "Cc4=C4_cs[sym]\n",
    "naos=n_mo_pi[sym]\n",
    "mo=3\n",
    "print('          Psi4    reordered    Cfour')\n",
    "for k in range(naos):\n",
    "    print(f'{k:3d}  {Corg[k,mo]:10.6f} {Creo[k,mo]:10.6f} {Cc4[k,mo]:10.6f}')\n",
    "print(np.max(Creo[:,mo]-Cc4[:,mo]))"
   ]
  },
  {
   "cell_type": "code",
   "execution_count": 11,
   "id": "9715580e-3944-4325-a2da-719441347ec6",
   "metadata": {},
   "outputs": [
    {
     "name": "stdout",
     "output_type": "stream",
     "text": [
      "1.0713370135473355e-08\n",
      "7.79428599440024e-09\n"
     ]
    }
   ],
   "source": [
    "#\n",
    "#  comparison Psi4-MOs and Cfour-MOs in their SO representation\n",
    "#\n",
    "for i in range(wf.nirrep()):\n",
    "    print(np.max(abs(C_SOr.nph[i])-abs(C4_cs[i])))"
   ]
  },
  {
   "cell_type": "markdown",
   "id": "a44ef254-9c53-4033-bda1-7aab26f4d360",
   "metadata": {},
   "source": [
    "### Write OLDMOS file PSIMOS\n",
    "\n",
    "This is the RHF case: one set of MOs in SO representation for each irrep."
   ]
  },
  {
   "cell_type": "code",
   "execution_count": 12,
   "id": "ac47b36e-4bb0-4b73-ba10-a32ad88c582c",
   "metadata": {},
   "outputs": [],
   "source": [
    "for irrep in range(wf.nirrep()):\n",
    "    mode = 'w'\n",
    "    if irrep > 0:\n",
    "        mode = 'a'\n",
    "    write_oldmos('PSIMOS', C_SOr.nph[irrep], mode=mode)"
   ]
  },
  {
   "cell_type": "code",
   "execution_count": 25,
   "id": "3d050627-38ea-48bf-866a-c40380460f32",
   "metadata": {},
   "outputs": [],
   "source": []
  },
  {
   "cell_type": "code",
   "execution_count": null,
   "id": "db1567d6-2ccd-4507-afea-4e3ce7a7cda5",
   "metadata": {},
   "outputs": [],
   "source": []
  }
 ],
 "metadata": {
  "kernelspec": {
   "display_name": "Python 3",
   "language": "python",
   "name": "python3"
  },
  "language_info": {
   "codemirror_mode": {
    "name": "ipython",
    "version": 3
   },
   "file_extension": ".py",
   "mimetype": "text/x-python",
   "name": "python",
   "nbconvert_exporter": "python",
   "pygments_lexer": "ipython3",
   "version": "3.7.11"
  }
 },
 "nbformat": 4,
 "nbformat_minor": 5
}
