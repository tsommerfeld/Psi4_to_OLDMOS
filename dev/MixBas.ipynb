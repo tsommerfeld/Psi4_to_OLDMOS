{
 "cells": [
  {
   "cell_type": "code",
   "execution_count": 1,
   "id": "d7ecbca4-8ad3-487a-a558-989e384a9bcd",
   "metadata": {},
   "outputs": [],
   "source": [
    "import psi4\n",
    "import numpy as np\n",
    "import sys\n",
    "sys.path.append('../lib')\n",
    "from P4toC4_aux import *"
   ]
  },
  {
   "cell_type": "code",
   "execution_count": 2,
   "id": "385a0f69-ec71-49e7-8e7e-be5b92d0cd5d",
   "metadata": {},
   "outputs": [],
   "source": [
    "def my_basisspec(mol, role):\n",
    "    #basstrings = {}\n",
    "    mol.set_basis_all_atoms(\"cc-pVTZ\", role=role)\n",
    "    mol.set_basis_by_symbol(\"H\", \"sto-3g\", role=role)\n",
    "    #return basstrings\n",
    "\n",
    "psi4.qcdb.libmintsbasisset.basishorde['MYMIX'] = my_basisspec"
   ]
  },
  {
   "cell_type": "code",
   "execution_count": 3,
   "id": "d519c289-1467-45fb-b88b-83a64940d014",
   "metadata": {},
   "outputs": [
    {
     "data": {
      "text/plain": [
       "-76.03212183522113"
      ]
     },
     "execution_count": 3,
     "metadata": {},
     "output_type": "execute_result"
    }
   ],
   "source": [
    "psi4.set_memory('500 MB')\n",
    "psi4.core.set_output_file('output.dat', False)\n",
    "psi4.core.set_global_option(\"BASIS\", \"mymix\")\n",
    "psi4.core.set_global_option(\"SCF_TYPE\", \"pk\")\n",
    "psi4.core.set_global_option(\"D_CONVERGENCE\", 1e-8)\n",
    "psi4.core.set_global_option(\"PUREAM\", \"True\")\n",
    "\n",
    "# O\n",
    "# H 1 0.96\n",
    "# H 1 0.96 2 104.5\n",
    "\n",
    "h2o = psi4.geometry(\"\"\"\n",
    "0 1\n",
    "O            0.000000000000     0.000000000000    -0.065775570547\n",
    "H            0.000000000000    -0.759061990794     0.521953018286\n",
    "H            0.000000000000     0.759061990794     0.521953018286\n",
    "symmetry c1\n",
    "\"\"\")\n",
    "\n",
    "E, wf = psi4.energy('scf', return_wfn=True)\n",
    "E"
   ]
  },
  {
   "cell_type": "code",
   "execution_count": 4,
   "id": "670dbe20-81f2-4fc6-a836-3b2ed67e2896",
   "metadata": {},
   "outputs": [
    {
     "name": "stdout",
     "output_type": "stream",
     "text": [
      "     -36.692685  -19.461198  -15.876963  -13.934455\n"
     ]
    }
   ],
   "source": [
    "print_mos=False\n",
    "C=np.array(wf.Ca())\n",
    "eps = np.array(wf.epsilon_a())\n",
    "naos, nmos = C.shape\n",
    "mo1,mo2=1,5  # H2O valence\n",
    "print('   ', end='')\n",
    "for mo in range(mo1, mo2):\n",
    "    print(f'  {27.2114*eps[mo]:10.6f}', end='')\n",
    "print()\n",
    "if print_mos:\n",
    "    for ao in range(naos):\n",
    "        print(f'{ao:3d}', end='')\n",
    "        for mo in range(mo1, mo2):\n",
    "            print(f'  {C[ao,mo]:10.6f}', end='')\n",
    "        print()"
   ]
  },
  {
   "cell_type": "code",
   "execution_count": 5,
   "id": "258fdbe7-1e8d-4c14-b887-157d30d96626",
   "metadata": {},
   "outputs": [],
   "source": [
    "# Print a new basis set in GENBAS format\n",
    "# basisset=wf.basisset()\n",
    "# print(basisset.genbas())"
   ]
  },
  {
   "cell_type": "code",
   "execution_count": 7,
   "id": "680a8401-061f-4180-8cb9-5a9ea818f2e6",
   "metadata": {},
   "outputs": [
    {
     "data": {
      "text/plain": [
       "array([ 0,  1,  2,  3, 10,  4,  7, 11,  5,  8, 12,  6,  9, 13, 17, 21, 19,\n",
       "       15, 14, 18, 22, 20, 16, 25, 23, 24, 29, 27, 26, 28, 30, 31])"
      ]
     },
     "execution_count": 7,
     "metadata": {},
     "output_type": "execute_result"
    }
   ],
   "source": [
    "mapping, scale =basis_mapping(wf.basisset(), verbose=0)\n",
    "mapping"
   ]
  },
  {
   "cell_type": "code",
   "execution_count": 8,
   "id": "d71c0b15-0d05-4f83-83d2-e7b8d69745ff",
   "metadata": {},
   "outputs": [
    {
     "name": "stdout",
     "output_type": "stream",
     "text": [
      "Psi4 MOs: 32\n",
      "reading orbitals from OLDMOS.H2O.TZVP_MIX\n",
      "  256 lines, 4 orbitals at the bottom\n",
      "  nAOs = nMOs = 32\n"
     ]
    }
   ],
   "source": [
    "# Psi4\n",
    "C=np.array(wf.Ca())\n",
    "print('Psi4 MOs:', wf.nmo())\n",
    "# Cfour\n",
    "norb, cs = read_oldmos('OLDMOS.H2O.TZVP_MIX', verbose=1)"
   ]
  },
  {
   "cell_type": "code",
   "execution_count": 9,
   "id": "4f692e47-6fdd-4e58-89e9-b39c66496567",
   "metadata": {},
   "outputs": [
    {
     "name": "stdout",
     "output_type": "stream",
     "text": [
      "    Cfour        Psi4\n",
      "  0  -0.000000   0.000861\n",
      "  1   0.000000   0.000000\n",
      "  2   0.000111  -0.000000\n",
      "  3   0.000000  -0.007651\n",
      "  4   0.000000   0.000000\n",
      "  5  -0.000000  -0.000000\n",
      "  6  -0.003826  -0.000000\n"
     ]
    }
   ],
   "source": [
    "mo=3\n",
    "\n",
    "ao1,ao2=3,9  # O-p for PVDZ\n",
    "ao1,ao2=9,14 # O-d for PVDZ\n",
    "# O TZVP: 4s (0:3) 3p (4:12) 2d (12:22) 1f (23:29)\n",
    "ao1,ao2=23,30\n",
    "print('    Cfour        Psi4')\n",
    "for ao in range(ao1,ao2):\n",
    "    print(f'{ao-ao1:3d} {cs[ao,mo]:10.6f} {C[ao,mo]:10.6f}')"
   ]
  },
  {
   "cell_type": "code",
   "execution_count": 10,
   "id": "f67178f4-0cc8-4689-bb2b-e73a6b401313",
   "metadata": {},
   "outputs": [],
   "source": [
    "C2 = psi4_to_c4(C,mapping, scale)"
   ]
  },
  {
   "cell_type": "code",
   "execution_count": 11,
   "id": "da5b2379-50fc-4a59-bae0-89008aea7902",
   "metadata": {},
   "outputs": [
    {
     "name": "stdout",
     "output_type": "stream",
     "text": [
      "    Cfour        Psi4\n",
      " 23  -0.000000  -0.000000\n",
      " 24   0.000000  -0.000000\n",
      " 25  -0.000644  -0.000644\n",
      " 26  -0.000000  -0.000000\n",
      " 27  -0.000000   0.000000\n",
      " 28  -0.000000  -0.000000\n",
      " 29  -0.007274  -0.007274\n"
     ]
    }
   ],
   "source": [
    "mo=5\n",
    "ao1,ao2=3,9  # O-p for PVDZ\n",
    "ao1,ao2=9,14 # O-d for PVDZ\n",
    "# O TZVP: 4s (0:3) 3p (4:12) 2d (12:22) 1f (23:29)\n",
    "ao1,ao2=23,30\n",
    "print('    Cfour        Psi4')\n",
    "for ao in range(ao1,ao2):\n",
    "    print(f'{ao:3d} {cs[ao,mo]:10.6f} {C2[ao,mo]:10.6f}')"
   ]
  },
  {
   "cell_type": "code",
   "execution_count": 12,
   "id": "e640391f-ed7b-4116-ba32-401e5b11153f",
   "metadata": {},
   "outputs": [
    {
     "data": {
      "text/plain": [
       "1.0529944294290772e-06"
      ]
     },
     "execution_count": 12,
     "metadata": {},
     "output_type": "execute_result"
    }
   ],
   "source": [
    "np.max(cs-C2)"
   ]
  },
  {
   "cell_type": "code",
   "execution_count": 11,
   "id": "3d050627-38ea-48bf-866a-c40380460f32",
   "metadata": {},
   "outputs": [],
   "source": [
    "write_oldmos('PSIMOS', C2)"
   ]
  },
  {
   "cell_type": "code",
   "execution_count": null,
   "id": "db1567d6-2ccd-4507-afea-4e3ce7a7cda5",
   "metadata": {},
   "outputs": [],
   "source": []
  }
 ],
 "metadata": {
  "kernelspec": {
   "display_name": "Python 3",
   "language": "python",
   "name": "python3"
  },
  "language_info": {
   "codemirror_mode": {
    "name": "ipython",
    "version": 3
   },
   "file_extension": ".py",
   "mimetype": "text/x-python",
   "name": "python",
   "nbconvert_exporter": "python",
   "pygments_lexer": "ipython3",
   "version": "3.7.11"
  }
 },
 "nbformat": 4,
 "nbformat_minor": 5
}
