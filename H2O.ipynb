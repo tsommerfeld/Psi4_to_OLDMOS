{
 "cells": [
  {
   "cell_type": "code",
   "execution_count": 1,
   "id": "d7ecbca4-8ad3-487a-a558-989e384a9bcd",
   "metadata": {},
   "outputs": [],
   "source": [
    "import psi4\n",
    "import numpy as np\n",
    "from P4toC4_aux import *"
   ]
  },
  {
   "cell_type": "code",
   "execution_count": 2,
   "id": "d519c289-1467-45fb-b88b-83a64940d014",
   "metadata": {},
   "outputs": [
    {
     "data": {
      "text/plain": [
       "-76.02665366131474"
      ]
     },
     "execution_count": 2,
     "metadata": {},
     "output_type": "execute_result"
    }
   ],
   "source": [
    "#  C4: STO-3G  -74.963 319 056 386 7\n",
    "\n",
    "psi4.set_memory('500 MB')\n",
    "psi4.core.set_global_option(\"BASIS\", \"cc-pVDZ\")\n",
    "psi4.core.set_global_option(\"SCF_TYPE\", \"pk\")\n",
    "psi4.core.set_global_option(\"PUREAM\", \"True\")\n",
    "psi4.core.set_output_file('output.dat', False)\n",
    "\n",
    "# O\n",
    "# H 1 0.96\n",
    "# H 1 0.96 2 104.5\n",
    "\n",
    "\n",
    "h2o = psi4.geometry(\"\"\"\n",
    "0 1\n",
    "O            0.000000000000     0.000000000000    -0.065775570547\n",
    "H            0.000000000000    -0.759061990794     0.521953018286\n",
    "H            0.000000000000     0.759061990794     0.521953018286\n",
    "symmetry c1\n",
    "\"\"\")\n",
    "\n",
    "E, wf = psi4.energy('scf', return_wfn=True)\n",
    "E"
   ]
  },
  {
   "cell_type": "code",
   "execution_count": 3,
   "id": "680a8401-061f-4180-8cb9-5a9ea818f2e6",
   "metadata": {},
   "outputs": [
    {
     "name": "stdout",
     "output_type": "stream",
     "text": [
      "Atom 0\n",
      "  Shell 0  s 0\n",
      "  Shell 1  s 0\n",
      "  Shell 2  s 0\n",
      "  Shell 3  p 1\n",
      "  Shell 4  p 1\n",
      "  Shell 5  d 2\n",
      "shell_offset[l,m]:\n",
      "[[ 0  0  0  0  0  0  0  0  0]\n",
      " [ 3  5  7  0  0  0  0  0  0]\n",
      " [ 9 10 11 12 13  0  0  0  0]\n",
      " [14 14 14 14 14 14 14  0  0]\n",
      " [14 14 14 14 14 14 14 14 14]\n",
      " [ 0  0  0  0  0  0  0  0  0]]\n",
      "l = 0, nl[l]=0\n",
      "  m=0 -> m=0   ptr=0\n",
      "l = 0, nl[l]=1\n",
      "  m=0 -> m=0   ptr=1\n",
      "l = 0, nl[l]=2\n",
      "  m=0 -> m=0   ptr=2\n",
      "l = 1, nl[l]=0\n",
      "  m=0 -> m=2   ptr=7\n",
      "  m=1 -> m=1   ptr=5\n",
      "  m=2 -> m=0   ptr=3\n",
      "l = 1, nl[l]=1\n",
      "  m=0 -> m=2   ptr=8\n",
      "  m=1 -> m=1   ptr=6\n",
      "  m=2 -> m=0   ptr=4\n",
      "l = 2, nl[l]=0\n",
      "  m=0 -> m=0   ptr=9\n",
      "  m=1 -> m=1   ptr=10\n",
      "  m=2 -> m=2   ptr=11\n",
      "  m=3 -> m=3   ptr=12\n",
      "  m=4 -> m=4   ptr=13\n",
      "Atom 1\n",
      "  Shell 0  s 0\n",
      "  Shell 1  s 0\n",
      "  Shell 2  p 1\n",
      "shell_offset[l,m]:\n",
      "[[0 0 0 0 0 0 0 0 0]\n",
      " [2 3 4 0 0 0 0 0 0]\n",
      " [5 5 5 5 5 0 0 0 0]\n",
      " [5 5 5 5 5 5 5 0 0]\n",
      " [5 5 5 5 5 5 5 5 5]\n",
      " [0 0 0 0 0 0 0 0 0]]\n",
      "l = 0, nl[l]=0\n",
      "  m=0 -> m=0   ptr=14\n",
      "l = 0, nl[l]=1\n",
      "  m=0 -> m=0   ptr=15\n",
      "l = 1, nl[l]=0\n",
      "  m=0 -> m=2   ptr=18\n",
      "  m=1 -> m=1   ptr=17\n",
      "  m=2 -> m=0   ptr=16\n",
      "Atom 2\n",
      "  Shell 0  s 0\n",
      "  Shell 1  s 0\n",
      "  Shell 2  p 1\n",
      "shell_offset[l,m]:\n",
      "[[0 0 0 0 0 0 0 0 0]\n",
      " [2 3 4 0 0 0 0 0 0]\n",
      " [5 5 5 5 5 0 0 0 0]\n",
      " [5 5 5 5 5 5 5 0 0]\n",
      " [5 5 5 5 5 5 5 5 5]\n",
      " [0 0 0 0 0 0 0 0 0]]\n",
      "l = 0, nl[l]=0\n",
      "  m=0 -> m=0   ptr=19\n",
      "l = 0, nl[l]=1\n",
      "  m=0 -> m=0   ptr=20\n",
      "l = 1, nl[l]=0\n",
      "  m=0 -> m=2   ptr=23\n",
      "  m=1 -> m=1   ptr=22\n",
      "  m=2 -> m=0   ptr=21\n",
      "nbf = 24   sum(nbf_atom)=24\n"
     ]
    },
    {
     "data": {
      "text/plain": [
       "array([ 0,  1,  2,  7,  5,  3,  8,  6,  4,  9, 10, 11, 12, 13, 14, 15, 18,\n",
       "       17, 16, 19, 20, 23, 22, 21])"
      ]
     },
     "execution_count": 3,
     "metadata": {},
     "output_type": "execute_result"
    }
   ],
   "source": [
    "basis_mapping(wf.basisset(), verbose=2)"
   ]
  },
  {
   "cell_type": "code",
   "execution_count": 3,
   "id": "28cbf5ca-ae71-49f6-bd61-dfc660e69aeb",
   "metadata": {},
   "outputs": [],
   "source": [
    "# basis=wf.basisset()\n",
    "# print(basis.genbas())\n",
    "# basis.output('')"
   ]
  },
  {
   "cell_type": "code",
   "execution_count": 4,
   "id": "df54da6e-e9d5-4074-aeab-7ac53ab516ca",
   "metadata": {},
   "outputs": [
    {
     "name": "stdout",
     "output_type": "stream",
     "text": [
      "   3    -0.6977965 -18.988007 eV\n",
      "   4    -0.5660912 -15.404123 eV\n",
      "   5    -0.4929537 -13.413952 eV\n",
      "   6     0.1851020   5.036880 eV\n",
      "   7     0.2558498   6.962026 eV\n"
     ]
    }
   ],
   "source": [
    "n_el = wf.nalpha()\n",
    "eps = np.array(wf.epsilon_a())\n",
    "for i in range(n_el-3,n_el+2):\n",
    "    print(f' {i+1:3d}  {eps[i]:12.7f} {eps[i]*27.21138:10.6f} eV')"
   ]
  },
  {
   "cell_type": "code",
   "execution_count": 5,
   "id": "d71c0b15-0d05-4f83-83d2-e7b8d69745ff",
   "metadata": {},
   "outputs": [
    {
     "name": "stdout",
     "output_type": "stream",
     "text": [
      "Psi4 MOs: 24\n",
      "reading orbitals from OLDMOS.H2O.PVDZ\n",
      "  144 lines, 4 orbitals at the bottom\n",
      "  nAOs = nMOs = 24\n"
     ]
    }
   ],
   "source": [
    "# Psi4\n",
    "C=np.array(wf.Ca())\n",
    "print('Psi4 MOs:', wf.nmo())\n",
    "# Cfour\n",
    "norb, cs = read_oldmos('OLDMOS.H2O.PVDZ', verbose=1)"
   ]
  },
  {
   "cell_type": "code",
   "execution_count": 14,
   "id": "661841f2-ea75-4bd0-ba5a-68752e797a60",
   "metadata": {},
   "outputs": [
    {
     "name": "stdout",
     "output_type": "stream",
     "text": [
      "[[ 0.0081  0.      0.0022  0.    ]\n",
      " [-0.4432 -0.     -0.1502 -0.    ]\n",
      " [-0.3776 -0.     -0.3489 -0.    ]]\n",
      "[[ 0.0081  0.      0.0022 -0.    ]\n",
      " [-0.4432  0.     -0.1502  0.    ]\n",
      " [-0.3776 -0.     -0.3489  0.    ]]\n"
     ]
    }
   ],
   "source": [
    "mo1,mo2=1,5 # valence\n",
    "ao1,ao2=0,3 # s\n",
    "print(np.round( C[ao1:ao2,mo1:mo2],4))\n",
    "print(np.round(cs[ao1:ao2,mo1:mo2],4))"
   ]
  },
  {
   "cell_type": "code",
   "execution_count": 23,
   "id": "4f692e47-6fdd-4e58-89e9-b39c66496567",
   "metadata": {},
   "outputs": [
    {
     "name": "stdout",
     "output_type": "stream",
     "text": [
      "    Cfour        Psi4\n",
      "  3   0.000000   0.000000\n",
      "  4   0.000000   0.000000\n",
      "  5   0.283977   0.283978\n",
      "  6   0.670910   0.000000\n",
      "  7  -0.000000   0.000000\n",
      "  8  -0.000000   0.670912\n"
     ]
    }
   ],
   "source": [
    "mo=6\n",
    "ao1,ao2=3,9  # O-p for PVDZ\n",
    "print('    Cfour        Psi4')\n",
    "for ao in range(ao1,ao2):\n",
    "    print(f'{ao:3d} {cs[ao,mo]:10.6f} {C[ao,mo]:10.6f}')"
   ]
  },
  {
   "cell_type": "code",
   "execution_count": 8,
   "id": "f67178f4-0cc8-4689-bb2b-e73a6b401313",
   "metadata": {},
   "outputs": [
    {
     "data": {
      "text/plain": [
       "array([[ 0.99,  0.23, -0.  ,  0.1 , -0.  ,  0.13,  0.  ],\n",
       "       [ 0.03, -0.83,  0.  , -0.54,  0.  , -0.88, -0.  ],\n",
       "       [ 0.  ,  0.  ,  0.  ,  0.  ,  1.  ,  0.  ,  0.  ],\n",
       "       [ 0.  ,  0.  ,  0.61,  0.  ,  0.  , -0.  ,  0.99],\n",
       "       [ 0.  , -0.13, -0.  ,  0.78, -0.  , -0.74, -0.  ],\n",
       "       [-0.01, -0.16, -0.45,  0.28, -0.  ,  0.8 ,  0.84],\n",
       "       [-0.01, -0.16,  0.45,  0.28, -0.  ,  0.8 , -0.84]])"
      ]
     },
     "execution_count": 8,
     "metadata": {},
     "output_type": "execute_result"
    }
   ],
   "source": [
    "C2 = psi4_to_c4(C,offset)\n",
    "np.round(C2,2)"
   ]
  },
  {
   "cell_type": "code",
   "execution_count": 9,
   "id": "3d050627-38ea-48bf-866a-c40380460f32",
   "metadata": {},
   "outputs": [],
   "source": [
    "write_oldmos('PSIMOS', C2)"
   ]
  },
  {
   "cell_type": "code",
   "execution_count": null,
   "id": "db1567d6-2ccd-4507-afea-4e3ce7a7cda5",
   "metadata": {},
   "outputs": [],
   "source": []
  }
 ],
 "metadata": {
  "kernelspec": {
   "display_name": "Python 3",
   "language": "python",
   "name": "python3"
  },
  "language_info": {
   "codemirror_mode": {
    "name": "ipython",
    "version": 3
   },
   "file_extension": ".py",
   "mimetype": "text/x-python",
   "name": "python",
   "nbconvert_exporter": "python",
   "pygments_lexer": "ipython3",
   "version": "3.7.11"
  }
 },
 "nbformat": 4,
 "nbformat_minor": 5
}
