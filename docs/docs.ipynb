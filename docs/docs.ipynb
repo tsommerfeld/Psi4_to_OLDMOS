{
 "cells": [
  {
   "cell_type": "markdown",
   "id": "1b7e630e-c186-493d-815f-dae49357db21",
   "metadata": {},
   "source": [
    "# The most important comments"
   ]
  },
  {
   "cell_type": "markdown",
   "id": "ab9f7d3e-7d1b-4d36-bf1b-6ddf4730a735",
   "metadata": {},
   "source": [
    "### Psi4-MO to Cfour-MO in C1\n",
    "\n",
    "* Row to row transformation of **C**:\n",
    "  * Reordering is needed as l,m order is different.\n",
    "  * Scaling is needed for some (l,m).\n",
    "* On a given center:\n",
    "  * Psi4  order: shell-first,          then m(Psi4-order)\n",
    "  * Cfour order: m(Cfour-order)-first, then shell\n",
    "  * m(Psi4-order) and m(Cfour-order) are different.\n",
    "* To establish the Psi4-to-Cfour mapping vector `map_p2c`:\n",
    "  * apply the Psi4-to-Cfour `m_map`\n",
    "  * apply offsets to correct for m-first order in Cfour"
   ]
  },
  {
   "cell_type": "markdown",
   "id": "78863b8a-3b78-4cbe-85d4-907091567840",
   "metadata": {},
   "source": [
    "### Mapping for one center, for one shell.\n",
    "\n",
    "From `basis_mapping` documentation in `P4toC4_aux.py`\n",
    "\n",
    "Goal: Establish Psi4-toCfour MO mapping/scaling operation, so that\n",
    "\n",
    "`Cfour4_MO[map_p2c[i]] = Psi4_MO[i]/scale[i]`\n",
    "\n",
    "\n",
    "for a single shell the mapping is (without any offsets):\n",
    "\n",
    "m_map = where to put MO coefficient m in the Cfour vector\n",
    "s_map = how to scale MO coefficient m\n",
    "\n",
    "      Psi4-order      -> Cfour-order\n",
    "p:    (0,1,2)         -> (2,0,1)   \n",
    "d:    (0,1,2,3,4)     -> (0,2,4,3,1)\n",
    "f:    (0,1,2,3,4,5,6) -> (2,0,1,6,4,3,5)\n",
    "\n",
    "and the associated scaling-factors are:\n",
    "sq12, sq24, sq40, sq60 = np.sqrt([12, 24, 40, 60])\n",
    "s_map = np.array(\n",
    "    [[1, 0, 0, 0, 0, 0, 0],\n",
    "     [1, 1, 1, 0, 0, 0, 0],\n",
    "     [sq12, 1, 1, 2, 1, 0, 0],\n",
    "     [sq60, sq40, sq40, 2, 1, sq24, sq24]]\n",
    "    )                                      "
   ]
  },
  {
   "cell_type": "markdown",
   "id": "ea0cf674-ed61-4fe0-a886-80508164dc41",
   "metadata": {},
   "source": [
    "### Psi4-MO to Cfour-MO with Cs, C2, or Ci\n",
    "\n",
    "* Both sets of MOs are in SO representation.\n",
    "* For higher symmetries irrep-order will need a mapping.\n",
    "* Any AO can contribute to only one SO[irrep], if at all.\n",
    "* The first AO in an SO is relevant; the following are on symmetry-equivalent atoms.\n",
    "* The mapping of the SOs is the arg-sorted Cfour-mapped first-AO list.\n",
    "  * Create the first-AO list in Psi4 AO-order.\n",
    "  * Create the first-AO list in Cfour AO-order (`p2c_map`).\n",
    "  * Use `np.argsort` to find the Cfour-to-Psi4 SO mapping `so_c2p`.\n",
    "  * Invert to find the Psi4-to-Cfour mapping `so_p2c`.\n",
    "  * Use `so_p2c` to reorder the Psi4-MO vectors.\n",
    "* At the same time the Psi4 MO coefficients must be scaled.\n",
    "  * One factor is the AO-scaling also needed in C1.\n",
    "  * The other factor is the SO normalization. Psi4 uses normalized SOs, Cfour does not."
   ]
  },
  {
   "cell_type": "markdown",
   "id": "d7fb2843-f86d-481f-bbea-bf0580100d12",
   "metadata": {},
   "source": [
    "### Running Cfour\n",
    "\n",
    "* The best start orbitals will not help, if the guessed occupation (from core) is wrong.\n",
    "* In these cases, the correct occupation must be added to the input as OCCUPATION statement. That should be done automatically in any Psi4-guess run.\n",
    "* However, for higher symmetries, mind the irrep-mapping. "
   ]
  },
  {
   "cell_type": "markdown",
   "id": "32412483-743b-4727-8fac-88a1c71fefe8",
   "metadata": {},
   "source": [
    "### `OLDMOS` file\n",
    "\n",
    "* To read start orbitals Cfour needs (beyond `ZMAT` and `GENBAS`):\n",
    "  * `OLDMOS`: start orbitals *per se*.\n",
    "  * `JFSGUESS`: an empty file serving as a flag.\n",
    "  * The right `OCCUPATION` statement in `ZMAT`.\n",
    "\n",
    "Format of the `OLDMOS` file:\n",
    "1. Blocks of $\\alpha$-MOs followed by blocks of $\\beta$-MOs for UHF.\n",
    "2. Blocks of MOs for each irrep.\n",
    "3. Each spin-irrep-block of MOs is written as columns of four MOs at a time. \n",
    "\n",
    "Example: \n",
    "* 15 AOs combine to 11 $a^\\prime$ and 4 $a^{\\prime\\prime}$ SOs. \n",
    "* The first, $\\alpha$-$a^\\prime$ block consists of 11 MOs in the $a^\\prime$-SO representation. \n",
    "* The second, $\\beta$-$a^{\\prime\\prime}$ block consists of 4 MOs in the $a^{\\prime\\prime}$-SO representation.\n",
    "* For UHF, another two blocks ($a^\\prime$ and $a^{\\prime\\prime}$ $\\beta$) follow.\n",
    "* The first, $\\alpha$-$a^\\prime$ block starts with 11 lines with 4 entries each for the first set of four MOs (4 column vectors). It is followed by another 11 lines with 4 entries for the second set of four MOs, and finally another 11 lines with entries for the set with the last three MOs.\n",
    "* Each entry is written in the format: `30.20E`\n",
    "\n"
   ]
  },
  {
   "cell_type": "code",
   "execution_count": null,
   "id": "0797c2eb-7cd3-4148-9c63-959056898ce1",
   "metadata": {},
   "outputs": [],
   "source": []
  }
 ],
 "metadata": {
  "kernelspec": {
   "display_name": "Python 3",
   "language": "python",
   "name": "python3"
  },
  "language_info": {
   "codemirror_mode": {
    "name": "ipython",
    "version": 3
   },
   "file_extension": ".py",
   "mimetype": "text/x-python",
   "name": "python",
   "nbconvert_exporter": "python",
   "pygments_lexer": "ipython3",
   "version": "3.7.11"
  }
 },
 "nbformat": 4,
 "nbformat_minor": 5
}
