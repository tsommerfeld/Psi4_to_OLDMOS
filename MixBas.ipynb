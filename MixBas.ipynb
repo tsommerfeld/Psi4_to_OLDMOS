{
 "cells": [
  {
   "cell_type": "code",
   "execution_count": 1,
   "id": "d7ecbca4-8ad3-487a-a558-989e384a9bcd",
   "metadata": {},
   "outputs": [],
   "source": [
    "import psi4\n",
    "import numpy as np\n",
    "from P4toC4_aux import *"
   ]
  },
  {
   "cell_type": "code",
   "execution_count": 2,
   "id": "385a0f69-ec71-49e7-8e7e-be5b92d0cd5d",
   "metadata": {},
   "outputs": [],
   "source": [
    "def my_basisspec(mol, role):\n",
    "    #basstrings = {}\n",
    "    mol.set_basis_all_atoms(\"cc-pVTZ\", role=role)\n",
    "    mol.set_basis_by_symbol(\"H\", \"sto-3g\", role=role)\n",
    "    #return basstrings\n",
    "\n",
    "psi4.qcdb.libmintsbasisset.basishorde['MYMIX'] = my_basisspec"
   ]
  },
  {
   "cell_type": "code",
   "execution_count": 3,
   "id": "d519c289-1467-45fb-b88b-83a64940d014",
   "metadata": {},
   "outputs": [
    {
     "data": {
      "text/plain": [
       "-76.03212183522113"
      ]
     },
     "execution_count": 3,
     "metadata": {},
     "output_type": "execute_result"
    }
   ],
   "source": [
    "psi4.set_memory('500 MB')\n",
    "psi4.core.set_output_file('output.dat', False)\n",
    "psi4.core.set_global_option(\"BASIS\", \"mymix\")\n",
    "psi4.core.set_global_option(\"SCF_TYPE\", \"pk\")\n",
    "psi4.core.set_global_option(\"D_CONVERGENCE\", 1e-8)\n",
    "psi4.core.set_global_option(\"PUREAM\", \"True\")\n",
    "\n",
    "# O\n",
    "# H 1 0.96\n",
    "# H 1 0.96 2 104.5\n",
    "\n",
    "h2o = psi4.geometry(\"\"\"\n",
    "0 1\n",
    "O            0.000000000000     0.000000000000    -0.065775570547\n",
    "H            0.000000000000    -0.759061990794     0.521953018286\n",
    "H            0.000000000000     0.759061990794     0.521953018286\n",
    "symmetry c1\n",
    "\"\"\")\n",
    "\n",
    "E, wf = psi4.energy('scf', return_wfn=True)\n",
    "E"
   ]
  },
  {
   "cell_type": "code",
   "execution_count": 4,
   "id": "670dbe20-81f2-4fc6-a836-3b2ed67e2896",
   "metadata": {},
   "outputs": [
    {
     "name": "stdout",
     "output_type": "stream",
     "text": [
      "     -36.692685  -19.461198  -15.876963  -13.934455\n",
      "  0    0.015547   -0.000000    0.004848    0.000000\n",
      "  1    0.549285   -0.000000   -0.167264    0.000000\n",
      "  2    0.124236   -0.000000   -0.058009   -0.000000\n",
      "  3    0.234356   -0.000000   -0.252619   -0.000000\n",
      "  4    0.038134    0.000000    0.308942   -0.000000\n",
      "  5   -0.000000    0.000000    0.000000    0.357487\n",
      "  6    0.000000    0.273744   -0.000000    0.000000\n",
      "  7    0.090270    0.000000    0.399798   -0.000000\n",
      "  8   -0.000000    0.000000    0.000000    0.454302\n",
      "  9    0.000000    0.385401   -0.000000   -0.000000\n",
      " 10   -0.012726    0.000000    0.306540   -0.000000\n",
      " 11   -0.000000    0.000000    0.000000    0.409385\n",
      " 12    0.000000    0.179938    0.000000    0.000000\n",
      " 13    0.000805    0.000000    0.003046   -0.000000\n",
      " 14   -0.000000   -0.000000    0.000000    0.002748\n",
      " 15   -0.000000    0.013912   -0.000000   -0.000000\n",
      " 16   -0.004078    0.000000   -0.004461   -0.000000\n",
      " 17    0.000000   -0.000000   -0.000000    0.000000\n",
      " 18    0.005744    0.000000    0.037969   -0.000000\n",
      " 19    0.000000    0.000000   -0.000000    0.037082\n",
      " 20    0.000000    0.048394   -0.000000   -0.000000\n",
      " 21   -0.017285   -0.000000   -0.005074   -0.000000\n",
      " 22    0.000000   -0.000000   -0.000000    0.000000\n",
      " 23   -0.004553   -0.000000    0.000861    0.000000\n",
      " 24   -0.000000    0.000000    0.000000    0.003382\n",
      " 25    0.000000    0.003815   -0.000000   -0.000000\n",
      " 26   -0.011228   -0.000000   -0.007651    0.000000\n",
      " 27    0.000000   -0.000000   -0.000000    0.000000\n",
      " 28   -0.000000   -0.000000   -0.000000   -0.008652\n",
      " 29    0.000000   -0.009505    0.000000   -0.000000\n",
      " 30    0.161652   -0.335538    0.209639    0.000000\n",
      " 31    0.161652    0.335538    0.209639   -0.000000\n"
     ]
    }
   ],
   "source": [
    "C=np.array(wf.Ca())\n",
    "eps = np.array(wf.epsilon_a())\n",
    "naos, nmos = C.shape\n",
    "mo1,mo2=1,5  # H2O valence\n",
    "print('   ', end='')\n",
    "for mo in range(mo1, mo2):\n",
    "    print(f'  {27.2114*eps[mo]:10.6f}', end='')\n",
    "print()\n",
    "for ao in range(naos):\n",
    "    print(f'{ao:3d}', end='')\n",
    "    for mo in range(mo1, mo2):\n",
    "        print(f'  {C[ao,mo]:10.6f}', end='')\n",
    "    print()"
   ]
  },
  {
   "cell_type": "code",
   "execution_count": 6,
   "id": "258fdbe7-1e8d-4c14-b887-157d30d96626",
   "metadata": {},
   "outputs": [
    {
     "name": "stdout",
     "output_type": "stream",
     "text": [
      "O:P4_1\n",
      "Psi4 basis MY_BASISSPEC for element O atom 1\n",
      "\n",
      "  4\n",
      "    0    1    2    3\n",
      "    4    3    2    1\n",
      "   10    5    2    1\n",
      "\n",
      " 15330.0000000  2299.0000000   522.4000000   147.3000000    47.5500000\n",
      "    16.7600000     6.2070000     0.6882000     1.7520000     0.2384000\n",
      "\n",
      " 0.0005080 -0.0001150  0.0000000  0.0000000 \n",
      " 0.0039290 -0.0008950  0.0000000  0.0000000 \n",
      " 0.0202430 -0.0046360  0.0000000  0.0000000 \n",
      " 0.0791810 -0.0187240  0.0000000  0.0000000 \n",
      " 0.2306870 -0.0584630  0.0000000  0.0000000 \n",
      " 0.4331180 -0.1364630  0.0000000  0.0000000 \n",
      " 0.3502600 -0.1757400  0.0000000  0.0000000 \n",
      "-0.0081540  0.6034180  0.0000000  0.0000000 \n",
      " 0.0000000  0.0000000  1.0000000  0.0000000 \n",
      " 0.0000000  0.0000000  0.0000000  1.0000000 \n",
      "\n",
      "    34.4600000     7.7490000     2.2800000     0.7156000     0.2140000\n",
      "\n",
      " 0.0159280  0.0000000  0.0000000 \n",
      " 0.0997400  0.0000000  0.0000000 \n",
      " 0.3104920  0.0000000  0.0000000 \n",
      " 0.0000000  1.0000000  0.0000000 \n",
      " 0.0000000  0.0000000  1.0000000 \n",
      "\n",
      "     2.3140000     0.6450000\n",
      "\n",
      " 1.0000000  0.0000000 \n",
      " 0.0000000  1.0000000 \n",
      "\n",
      "     1.4280000\n",
      "\n",
      " 1.0000000 \n",
      "\n",
      "H:P4_2\n",
      "Psi4 basis MY_BASISSPEC for element H atom 2\n",
      "\n",
      "  1\n",
      "    0\n",
      "    1\n",
      "    3\n",
      "\n",
      "     3.4252509     0.6239137     0.1688554\n",
      "\n",
      " 0.1543290 \n",
      " 0.5353281 \n",
      " 0.4446345 \n",
      "\n",
      "H:P4_3\n",
      "Psi4 basis MY_BASISSPEC for element H atom 3\n",
      "\n",
      "  1\n",
      "    0\n",
      "    1\n",
      "    3\n",
      "\n",
      "     3.4252509     0.6239137     0.1688554\n",
      "\n",
      " 0.1543290 \n",
      " 0.5353281 \n",
      " 0.4446345 \n",
      "\n",
      "\n"
     ]
    }
   ],
   "source": [
    "# Print a new basis set in GENBAS format\n",
    "basisset=wf.basisset()\n",
    "print(basisset.genbas())"
   ]
  },
  {
   "cell_type": "code",
   "execution_count": 6,
   "id": "680a8401-061f-4180-8cb9-5a9ea818f2e6",
   "metadata": {},
   "outputs": [
    {
     "data": {
      "text/plain": [
       "array([ 0,  1,  2,  7,  3,  5,  8,  4,  6,  9, 11, 13, 12, 10, 14, 15])"
      ]
     },
     "execution_count": 6,
     "metadata": {},
     "output_type": "execute_result"
    }
   ],
   "source": [
    "mapping, scale =basis_mapping(wf.basisset(), verbose=0)\n",
    "mapping"
   ]
  },
  {
   "cell_type": "code",
   "execution_count": 7,
   "id": "d71c0b15-0d05-4f83-83d2-e7b8d69745ff",
   "metadata": {},
   "outputs": [
    {
     "name": "stdout",
     "output_type": "stream",
     "text": [
      "Psi4 MOs: 16\n",
      "reading orbitals from OLDMOS.H2O.PVDZ\n",
      "  144 lines, 4 orbitals at the bottom\n",
      "  nAOs = nMOs = 24\n"
     ]
    }
   ],
   "source": [
    "# Psi4\n",
    "C=np.array(wf.Ca())\n",
    "print('Psi4 MOs:', wf.nmo())\n",
    "# Cfour\n",
    "norb, cs = read_oldmos('OLDMOS.H2O.PVDZ', verbose=1)"
   ]
  },
  {
   "cell_type": "code",
   "execution_count": 7,
   "id": "4f692e47-6fdd-4e58-89e9-b39c66496567",
   "metadata": {},
   "outputs": [
    {
     "name": "stdout",
     "output_type": "stream",
     "text": [
      "    Cfour        Psi4\n",
      "  9  -0.002174  -0.007531\n",
      " 10  -0.000000   0.000000\n",
      " 11  -0.000000  -0.000000\n",
      " 12   0.004922   0.009844\n",
      " 13  -0.000000   0.000000\n"
     ]
    }
   ],
   "source": [
    "mo=5\n",
    "ao1,ao2=3,9  # O-p for PVDZ\n",
    "ao1,ao2=9,14 # O-d for PVDZ\n",
    "print('    Cfour        Psi4')\n",
    "for ao in range(ao1,ao2):\n",
    "    print(f'{ao:3d} {cs[ao,mo]:10.6f} {C[ao,mo]:10.6f}')"
   ]
  },
  {
   "cell_type": "code",
   "execution_count": 8,
   "id": "f67178f4-0cc8-4689-bb2b-e73a6b401313",
   "metadata": {},
   "outputs": [],
   "source": [
    "C2 = psi4_to_c4(C,mapping, scale)"
   ]
  },
  {
   "cell_type": "code",
   "execution_count": 9,
   "id": "da5b2379-50fc-4a59-bae0-89008aea7902",
   "metadata": {},
   "outputs": [
    {
     "name": "stdout",
     "output_type": "stream",
     "text": [
      "    Cfour        Psi4\n",
      "  9  -0.002174  -0.002174\n",
      " 10  -0.000000   0.000000\n",
      " 11  -0.000000   0.000000\n",
      " 12   0.004922   0.004922\n",
      " 13  -0.000000  -0.000000\n"
     ]
    }
   ],
   "source": [
    "mo=5\n",
    "ao1,ao2=3,9  # O-p for PVDZ\n",
    "ao1,ao2=9,14 # O-d for PVDZ\n",
    "#ao1,ao2=3,14 # O p and d\n",
    "print('    Cfour        Psi4')\n",
    "for ao in range(ao1,ao2):\n",
    "    print(f'{ao:3d} {cs[ao,mo]:10.6f} {C2[ao,mo]:10.6f}')"
   ]
  },
  {
   "cell_type": "code",
   "execution_count": 10,
   "id": "e640391f-ed7b-4116-ba32-401e5b11153f",
   "metadata": {},
   "outputs": [
    {
     "data": {
      "text/plain": [
       "6.733795379076923e-07"
      ]
     },
     "execution_count": 10,
     "metadata": {},
     "output_type": "execute_result"
    }
   ],
   "source": [
    "np.max(cs-C2)"
   ]
  },
  {
   "cell_type": "code",
   "execution_count": 11,
   "id": "3d050627-38ea-48bf-866a-c40380460f32",
   "metadata": {},
   "outputs": [],
   "source": [
    "write_oldmos('PSIMOS', C2)"
   ]
  },
  {
   "cell_type": "code",
   "execution_count": null,
   "id": "db1567d6-2ccd-4507-afea-4e3ce7a7cda5",
   "metadata": {},
   "outputs": [],
   "source": []
  }
 ],
 "metadata": {
  "kernelspec": {
   "display_name": "Python 3",
   "language": "python",
   "name": "python3"
  },
  "language_info": {
   "codemirror_mode": {
    "name": "ipython",
    "version": 3
   },
   "file_extension": ".py",
   "mimetype": "text/x-python",
   "name": "python",
   "nbconvert_exporter": "python",
   "pygments_lexer": "ipython3",
   "version": "3.7.11"
  }
 },
 "nbformat": 4,
 "nbformat_minor": 5
}
