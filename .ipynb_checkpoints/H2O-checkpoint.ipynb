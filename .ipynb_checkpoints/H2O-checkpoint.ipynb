{
 "cells": [
  {
   "cell_type": "code",
   "execution_count": 1,
   "id": "d7ecbca4-8ad3-487a-a558-989e384a9bcd",
   "metadata": {},
   "outputs": [],
   "source": [
    "import psi4\n",
    "import numpy as np\n",
    "from P4toC4_aux import *"
   ]
  },
  {
   "cell_type": "code",
   "execution_count": 2,
   "id": "d519c289-1467-45fb-b88b-83a64940d014",
   "metadata": {},
   "outputs": [
    {
     "data": {
      "text/plain": [
       "-76.05696457473371"
      ]
     },
     "execution_count": 2,
     "metadata": {},
     "output_type": "execute_result"
    }
   ],
   "source": [
    "psi4.set_memory('500 MB')\n",
    "psi4.core.set_global_option(\"BASIS\", \"cc-pVTZ\")\n",
    "psi4.core.set_global_option(\"SCF_TYPE\", \"pk\")\n",
    "psi4.core.set_global_option(\"D_CONVERGENCE\", 1e-8)\n",
    "psi4.core.set_global_option(\"PUREAM\", \"True\")\n",
    "psi4.core.set_output_file('output.dat', False)\n",
    "\n",
    "# O\n",
    "# H 1 0.96\n",
    "# H 1 0.96 2 104.5\n",
    "\n",
    "h2o = psi4.geometry(\"\"\"\n",
    "0 1\n",
    "O            0.000000000000     0.000000000000    -0.065775570547\n",
    "H            0.000000000000    -0.759061990794     0.521953018286\n",
    "H            0.000000000000     0.759061990794     0.521953018286\n",
    "symmetry c1\n",
    "\"\"\")\n",
    "\n",
    "E, wf = psi4.energy('scf', return_wfn=True)\n",
    "E"
   ]
  },
  {
   "cell_type": "code",
   "execution_count": 3,
   "id": "258fdbe7-1e8d-4c14-b887-157d30d96626",
   "metadata": {},
   "outputs": [
    {
     "name": "stdout",
     "output_type": "stream",
     "text": [
      "O:P4_1\n",
      "Psi4 basis CC-PVTZ for element O atom 1\n",
      "\n",
      "  4\n",
      "    0    1    2    3\n",
      "    4    3    2    1\n",
      "   10    5    2    1\n",
      "\n",
      " 15330.0000000  2299.0000000   522.4000000   147.3000000    47.5500000\n",
      "    16.7600000     6.2070000     0.6882000     1.7520000     0.2384000\n",
      "\n",
      " 0.0005080 -0.0001150  0.0000000  0.0000000 \n",
      " 0.0039290 -0.0008950  0.0000000  0.0000000 \n",
      " 0.0202430 -0.0046360  0.0000000  0.0000000 \n",
      " 0.0791810 -0.0187240  0.0000000  0.0000000 \n",
      " 0.2306870 -0.0584630  0.0000000  0.0000000 \n",
      " 0.4331180 -0.1364630  0.0000000  0.0000000 \n",
      " 0.3502600 -0.1757400  0.0000000  0.0000000 \n",
      "-0.0081540  0.6034180  0.0000000  0.0000000 \n",
      " 0.0000000  0.0000000  1.0000000  0.0000000 \n",
      " 0.0000000  0.0000000  0.0000000  1.0000000 \n",
      "\n",
      "    34.4600000     7.7490000     2.2800000     0.7156000     0.2140000\n",
      "\n",
      " 0.0159280  0.0000000  0.0000000 \n",
      " 0.0997400  0.0000000  0.0000000 \n",
      " 0.3104920  0.0000000  0.0000000 \n",
      " 0.0000000  1.0000000  0.0000000 \n",
      " 0.0000000  0.0000000  1.0000000 \n",
      "\n",
      "     2.3140000     0.6450000\n",
      "\n",
      " 1.0000000  0.0000000 \n",
      " 0.0000000  1.0000000 \n",
      "\n",
      "     1.4280000\n",
      "\n",
      " 1.0000000 \n",
      "\n",
      "H:P4_2\n",
      "Psi4 basis CC-PVTZ for element H atom 2\n",
      "\n",
      "  3\n",
      "    0    1    2\n",
      "    3    2    1\n",
      "    5    2    1\n",
      "\n",
      "    33.8700000     5.0950000     1.1590000     0.3258000     0.1027000\n",
      "\n",
      " 0.0060680  0.0000000  0.0000000 \n",
      " 0.0453080  0.0000000  0.0000000 \n",
      " 0.2028220  0.0000000  0.0000000 \n",
      " 0.0000000  1.0000000  0.0000000 \n",
      " 0.0000000  0.0000000  1.0000000 \n",
      "\n",
      "     1.4070000     0.3880000\n",
      "\n",
      " 1.0000000  0.0000000 \n",
      " 0.0000000  1.0000000 \n",
      "\n",
      "     1.0570000\n",
      "\n",
      " 1.0000000 \n",
      "\n",
      "H:P4_3\n",
      "Psi4 basis CC-PVTZ for element H atom 3\n",
      "\n",
      "  3\n",
      "    0    1    2\n",
      "    3    2    1\n",
      "    5    2    1\n",
      "\n",
      "    33.8700000     5.0950000     1.1590000     0.3258000     0.1027000\n",
      "\n",
      " 0.0060680  0.0000000  0.0000000 \n",
      " 0.0453080  0.0000000  0.0000000 \n",
      " 0.2028220  0.0000000  0.0000000 \n",
      " 0.0000000  1.0000000  0.0000000 \n",
      " 0.0000000  0.0000000  1.0000000 \n",
      "\n",
      "     1.4070000     0.3880000\n",
      "\n",
      " 1.0000000  0.0000000 \n",
      " 0.0000000  1.0000000 \n",
      "\n",
      "     1.0570000\n",
      "\n",
      " 1.0000000 \n",
      "\n",
      "\n"
     ]
    }
   ],
   "source": [
    "# Print a new basis set in GENBAS format\n",
    "basisset=wf.basisset()\n",
    "print(basisset.genbas())"
   ]
  },
  {
   "cell_type": "code",
   "execution_count": 4,
   "id": "680a8401-061f-4180-8cb9-5a9ea818f2e6",
   "metadata": {},
   "outputs": [
    {
     "data": {
      "text/plain": [
       "array([ 0,  1,  2,  7,  3,  5,  8,  4,  6,  9, 11, 13, 12, 10, 14, 15, 18,\n",
       "       16, 17, 19, 20, 23, 21, 22])"
      ]
     },
     "execution_count": 4,
     "metadata": {},
     "output_type": "execute_result"
    }
   ],
   "source": [
    "mapping, scale =basis_mapping(wf.basisset(), verbose=0)\n",
    "mapping"
   ]
  },
  {
   "cell_type": "code",
   "execution_count": 5,
   "id": "df54da6e-e9d5-4074-aeab-7ac53ab516ca",
   "metadata": {},
   "outputs": [
    {
     "name": "stdout",
     "output_type": "stream",
     "text": [
      "   3    -0.6977991 -18.988076 eV\n",
      "   4    -0.5660899 -15.404086 eV\n",
      "   5    -0.4929538 -13.413952 eV\n",
      "   6     0.1851025   5.036895 eV\n",
      "   7     0.2558494   6.962016 eV\n"
     ]
    }
   ],
   "source": [
    "n_el = wf.nalpha()\n",
    "eps = np.array(wf.epsilon_a())\n",
    "for i in range(n_el-3,n_el+2):\n",
    "    print(f' {i+1:3d}  {eps[i]:12.7f} {eps[i]*27.21138:10.6f} eV')"
   ]
  },
  {
   "cell_type": "code",
   "execution_count": 6,
   "id": "d71c0b15-0d05-4f83-83d2-e7b8d69745ff",
   "metadata": {},
   "outputs": [
    {
     "name": "stdout",
     "output_type": "stream",
     "text": [
      "Psi4 MOs: 24\n",
      "reading orbitals from OLDMOS.H2O.PVDZ\n",
      "  144 lines, 4 orbitals at the bottom\n",
      "  nAOs = nMOs = 24\n"
     ]
    }
   ],
   "source": [
    "# Psi4\n",
    "C=np.array(wf.Ca())\n",
    "print('Psi4 MOs:', wf.nmo())\n",
    "# Cfour\n",
    "norb, cs = read_oldmos('OLDMOS.H2O.PVDZ', verbose=1)"
   ]
  },
  {
   "cell_type": "code",
   "execution_count": 7,
   "id": "4f692e47-6fdd-4e58-89e9-b39c66496567",
   "metadata": {},
   "outputs": [
    {
     "name": "stdout",
     "output_type": "stream",
     "text": [
      "    Cfour        Psi4\n",
      "  9  -0.002174  -0.007531\n",
      " 10  -0.000000   0.000000\n",
      " 11  -0.000000  -0.000000\n",
      " 12   0.004922   0.009844\n",
      " 13  -0.000000   0.000000\n"
     ]
    }
   ],
   "source": [
    "mo=5\n",
    "ao1,ao2=3,9  # O-p for PVDZ\n",
    "ao1,ao2=9,14 # O-d for PVDZ\n",
    "print('    Cfour        Psi4')\n",
    "for ao in range(ao1,ao2):\n",
    "    print(f'{ao:3d} {cs[ao,mo]:10.6f} {C[ao,mo]:10.6f}')"
   ]
  },
  {
   "cell_type": "code",
   "execution_count": 8,
   "id": "f67178f4-0cc8-4689-bb2b-e73a6b401313",
   "metadata": {},
   "outputs": [],
   "source": [
    "C2 = psi4_to_c4(C,mapping, scale)"
   ]
  },
  {
   "cell_type": "code",
   "execution_count": 9,
   "id": "da5b2379-50fc-4a59-bae0-89008aea7902",
   "metadata": {},
   "outputs": [
    {
     "name": "stdout",
     "output_type": "stream",
     "text": [
      "    Cfour        Psi4\n",
      "  9  -0.002174  -0.002174\n",
      " 10  -0.000000   0.000000\n",
      " 11  -0.000000   0.000000\n",
      " 12   0.004922   0.004922\n",
      " 13  -0.000000  -0.000000\n"
     ]
    }
   ],
   "source": [
    "mo=5\n",
    "ao1,ao2=3,9  # O-p for PVDZ\n",
    "ao1,ao2=9,14 # O-d for PVDZ\n",
    "#ao1,ao2=3,14 # O p and d\n",
    "print('    Cfour        Psi4')\n",
    "for ao in range(ao1,ao2):\n",
    "    print(f'{ao:3d} {cs[ao,mo]:10.6f} {C2[ao,mo]:10.6f}')"
   ]
  },
  {
   "cell_type": "code",
   "execution_count": 10,
   "id": "e640391f-ed7b-4116-ba32-401e5b11153f",
   "metadata": {},
   "outputs": [
    {
     "data": {
      "text/plain": [
       "6.733795379076923e-07"
      ]
     },
     "execution_count": 10,
     "metadata": {},
     "output_type": "execute_result"
    }
   ],
   "source": [
    "np.max(cs-C2)"
   ]
  },
  {
   "cell_type": "code",
   "execution_count": 11,
   "id": "3d050627-38ea-48bf-866a-c40380460f32",
   "metadata": {},
   "outputs": [],
   "source": [
    "write_oldmos('PSIMOS', C2)"
   ]
  },
  {
   "cell_type": "code",
   "execution_count": null,
   "id": "db1567d6-2ccd-4507-afea-4e3ce7a7cda5",
   "metadata": {},
   "outputs": [],
   "source": []
  }
 ],
 "metadata": {
  "kernelspec": {
   "display_name": "Python 3",
   "language": "python",
   "name": "python3"
  },
  "language_info": {
   "codemirror_mode": {
    "name": "ipython",
    "version": 3
   },
   "file_extension": ".py",
   "mimetype": "text/x-python",
   "name": "python",
   "nbconvert_exporter": "python",
   "pygments_lexer": "ipython3",
   "version": "3.7.11"
  }
 },
 "nbformat": 4,
 "nbformat_minor": 5
}
