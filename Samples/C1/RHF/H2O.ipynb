{
 "cells": [
  {
   "cell_type": "markdown",
   "id": "f6d106e6-7061-48fc-bd05-dc21de6bef66",
   "metadata": {},
   "source": [
    "# Export Psi4 as OLDMOS\n",
    "\n",
    "* Run Psi4\n",
    "* Convert MOs (reordering, scaling)\n",
    "* Export as `PSIMOS`\n",
    "\n",
    "This notebook demonstrates the process step-by-step by calling the low-level functions of the library."
   ]
  },
  {
   "cell_type": "code",
   "execution_count": 4,
   "id": "d7ecbca4-8ad3-487a-a558-989e384a9bcd",
   "metadata": {},
   "outputs": [],
   "source": [
    "import psi4\n",
    "import numpy as np\n",
    "import sys\n",
    "sys.path.append('../../../lib')\n",
    "from P4toC4_aux import *"
   ]
  },
  {
   "cell_type": "markdown",
   "id": "7fbb94fa-f564-45aa-bdd3-a39153f8e21d",
   "metadata": {},
   "source": [
    "Run Psi4 with Cartsian coordiantes that will **not**\n",
    "be reoriented in either Psi4 or CFOUR.\n",
    "\n",
    "The original input was:\n",
    "\n",
    "```\n",
    "O\n",
    "H 1 0.96\n",
    "H 1 0.96 2 104.5\n",
    "```"
   ]
  },
  {
   "cell_type": "code",
   "execution_count": 5,
   "id": "d519c289-1467-45fb-b88b-83a64940d014",
   "metadata": {},
   "outputs": [
    {
     "data": {
      "text/plain": [
       "-76.02665365047244"
      ]
     },
     "execution_count": 5,
     "metadata": {},
     "output_type": "execute_result"
    }
   ],
   "source": [
    "psi4.set_memory('500 MB')\n",
    "psi4.core.set_global_option(\"BASIS\", \"CC-PVDZ\")\n",
    "psi4.core.set_global_option(\"SCF_TYPE\", \"pk\")\n",
    "psi4.core.set_global_option(\"REFERENCE\", \"RHF\")\n",
    "psi4.core.set_global_option(\"D_CONVERGENCE\", 1e-8)\n",
    "psi4.core.set_global_option(\"PUREAM\", \"True\")\n",
    "psi4.core.set_output_file('output.dat', False)\n",
    "\n",
    "h2o = psi4.geometry(\"\"\"\n",
    "0 1\n",
    "O     0.00000000   0.00000000  -0.12429784\n",
    "H     0.00000000  -1.43441957   0.98634846\n",
    "H     0.00000000   1.43441957   0.98634846\n",
    "symmetry c1\n",
    "units Bohr\n",
    "no_reorient\n",
    "\"\"\")\n",
    "\n",
    "E, wf = psi4.energy('scf', return_wfn=True)\n",
    "E"
   ]
  },
  {
   "cell_type": "code",
   "execution_count": 3,
   "id": "258fdbe7-1e8d-4c14-b887-157d30d96626",
   "metadata": {},
   "outputs": [],
   "source": [
    "# Use this basis set as GENBAS to guarantee best results\n",
    "# basisset=wf.basisset()\n",
    "# print(basisset.genbas())"
   ]
  },
  {
   "cell_type": "markdown",
   "id": "a94256ab-397c-402b-9fc7-69fca3b067cf",
   "metadata": {},
   "source": [
    "Creates mapping from Psi4 to CFOUR:\n",
    "```\n",
    "Cfour_MO[mapping[i]] = Psi4_MO[i] / scale[i]\n",
    "```"
   ]
  },
  {
   "cell_type": "code",
   "execution_count": 4,
   "id": "680a8401-061f-4180-8cb9-5a9ea818f2e6",
   "metadata": {},
   "outputs": [],
   "source": [
    "mapping, scale = basis_mapping(wf.basisset(), verbose=0)\n",
    "#mapping"
   ]
  },
  {
   "cell_type": "markdown",
   "id": "ecb15a73-4fd4-4e37-ac1f-83e237f67f0a",
   "metadata": {},
   "source": [
    "Applies the mapping and writes MOs in CFOUR format."
   ]
  },
  {
   "cell_type": "code",
   "execution_count": 5,
   "id": "d71c0b15-0d05-4f83-83d2-e7b8d69745ff",
   "metadata": {},
   "outputs": [],
   "source": [
    "# Psi4 MOs\n",
    "Ca=np.array(wf.Ca())\n",
    "Cb=np.array(wf.Cb())\n",
    "Ca_C4 = psi4_to_c4(Ca, mapping, scale)\n",
    "Cb_C4 = psi4_to_c4(Cb, mapping, scale)\n",
    "write_oldmos('PSIMOS', Ca_C4, Cbs=Cb_C4)"
   ]
  },
  {
   "cell_type": "markdown",
   "id": "412eb860-ec2f-4895-94d9-61dd4ac6bac5",
   "metadata": {},
   "source": [
    "Move the file PSIMOS to your CFOUR work-directory\n",
    "(for this example, `Cfour/RHF`), and run the script `runscf`."
   ]
  },
  {
   "cell_type": "code",
   "execution_count": null,
   "id": "dfd842e7-1345-4d2b-b0cb-417e96f57cf8",
   "metadata": {},
   "outputs": [],
   "source": []
  }
 ],
 "metadata": {
  "kernelspec": {
   "display_name": "Python 3",
   "language": "python",
   "name": "python3"
  },
  "language_info": {
   "codemirror_mode": {
    "name": "ipython",
    "version": 3
   },
   "file_extension": ".py",
   "mimetype": "text/x-python",
   "name": "python",
   "nbconvert_exporter": "python",
   "pygments_lexer": "ipython3",
   "version": "3.7.11"
  }
 },
 "nbformat": 4,
 "nbformat_minor": 5
}
