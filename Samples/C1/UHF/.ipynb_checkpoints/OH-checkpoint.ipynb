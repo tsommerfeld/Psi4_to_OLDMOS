{
 "cells": [
  {
   "cell_type": "markdown",
   "id": "31d35bb3-ba84-463d-87cc-ef111b4b9d9d",
   "metadata": {},
   "source": [
    "# Export Psi4 as OLDMOS\n",
    "\n",
    "* Run Psi4\n",
    "* Convert MOs (reordering, scaling)\n",
    "* Export as `PSIMOS`"
   ]
  },
  {
   "cell_type": "code",
   "execution_count": 2,
   "id": "d7ecbca4-8ad3-487a-a558-989e384a9bcd",
   "metadata": {},
   "outputs": [],
   "source": [
    "import psi4\n",
    "import numpy as np\n",
    "import sys\n",
    "sys.path.append('../lib')\n",
    "from P4toC4_aux import *"
   ]
  },
  {
   "cell_type": "markdown",
   "id": "651ded74-0e01-4333-9177-38bb4c547fa8",
   "metadata": {},
   "source": [
    "Run Psi4 with Cartsian coordiantes that will **not**\n",
    "be reoriented in either Psi4 or CFOUR.\n",
    "\n",
    "The original input was:\n",
    "\n",
    "```\n",
    "0 2\n",
    "O\n",
    "H 1 0.97\n",
    "```"
   ]
  },
  {
   "cell_type": "code",
   "execution_count": 3,
   "id": "d519c289-1467-45fb-b88b-83a64940d014",
   "metadata": {},
   "outputs": [
    {
     "data": {
      "text/plain": [
       "-75.3938389265448"
      ]
     },
     "execution_count": 3,
     "metadata": {},
     "output_type": "execute_result"
    }
   ],
   "source": [
    "psi4.set_memory('500 MB')\n",
    "psi4.core.set_global_option(\"BASIS\", \"cc-pvdz\")\n",
    "psi4.core.set_global_option(\"SCF_TYPE\", \"pk\")\n",
    "psi4.core.set_global_option(\"D_CONVERGENCE\", 1e-8)\n",
    "psi4.core.set_global_option(\"PUREAM\", \"True\")\n",
    "psi4.core.set_global_option(\"REFERENCE\", \"UHF\")\n",
    "psi4.core.set_output_file('output.dat', False)\n",
    "\n",
    "h2o = psi4.geometry(\"\"\"\n",
    "0 2\n",
    "O   0.0   0.0  -0.057496044831\n",
    "H   0.0   0.0   0.912503955169\n",
    "symmetry c1\n",
    "\"\"\")\n",
    "\n",
    "E, wf = psi4.energy('scf', return_wfn=True)\n",
    "E"
   ]
  },
  {
   "cell_type": "code",
   "execution_count": 4,
   "id": "258fdbe7-1e8d-4c14-b887-157d30d96626",
   "metadata": {},
   "outputs": [],
   "source": [
    "# Use this as GENBAS to avoid issues with\n",
    "# generalized vs segemented contraction.\n",
    "# \n",
    "basisset=wf.basisset()\n",
    "#print(basisset.genbas())"
   ]
  },
  {
   "cell_type": "markdown",
   "id": "5aeb9818-6426-42b0-8380-dc4e58daa8be",
   "metadata": {},
   "source": [
    "From the basisfunction object, derive the mapping and scaling for the operation:\n",
    "```\n",
    "Cfour_MO[mapping[i]] = Psi4_MO[i] / scale[i]\n",
    "```\n",
    "and apply it."
   ]
  },
  {
   "cell_type": "code",
   "execution_count": 5,
   "id": "680a8401-061f-4180-8cb9-5a9ea818f2e6",
   "metadata": {},
   "outputs": [],
   "source": [
    "mapping, scale =basis_mapping(wf.basisset(), verbose=0)\n",
    "Ca=np.array(wf.Ca())\n",
    "Cb=np.array(wf.Cb())\n",
    "Ca_C4 = psi4_to_c4(Ca, mapping, scale)\n",
    "Cb_C4 = psi4_to_c4(Cb, mapping, scale)\n",
    "write_oldmos('PSIMOS', Ca_C4, Cbs=Cb_C4)"
   ]
  },
  {
   "cell_type": "markdown",
   "id": "d5a37b14-9cd0-4726-a9c5-c7623c888b40",
   "metadata": {},
   "source": [
    "Move the file PSIMOS to your CFOUR work-directory\n",
    "(for this example, `Cfour/UHF`), and run the script `runscf`."
   ]
  },
  {
   "cell_type": "code",
   "execution_count": null,
   "id": "bf959bca-aade-41a3-b459-1c35cf684922",
   "metadata": {},
   "outputs": [],
   "source": []
  }
 ],
 "metadata": {
  "kernelspec": {
   "display_name": "Python 3",
   "language": "python",
   "name": "python3"
  },
  "language_info": {
   "codemirror_mode": {
    "name": "ipython",
    "version": 3
   },
   "file_extension": ".py",
   "mimetype": "text/x-python",
   "name": "python",
   "nbconvert_exporter": "python",
   "pygments_lexer": "ipython3",
   "version": "3.7.11"
  }
 },
 "nbformat": 4,
 "nbformat_minor": 5
}
